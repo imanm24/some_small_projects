{
 "cells": [
  {
   "cell_type": "markdown",
   "id": "447f79c7",
   "metadata": {},
   "source": [
    "I sudy the [Kaggle Housing Dataset](https://www.kaggle.com/c/house-prices-advanced-regression-techniques/overview), and to do so I follow Aurelien Geron's checklist from his book, [Hands-On Machine Learning with Scikit-Learn, Keras, and TensorFlow: Concepts, Tools, and Techniques to Build Intelligent Systems](https://www.amazon.com/Hands-Machine-Learning-Scikit-Learn-TensorFlow/dp/1492032646/ref=sr_1_1?qid=1643446257&refinements=p_27%3AAurelien+Geron&s=books&sr=1-1). I, however, make changes to the list in, in part D for example. "
   ]
  },
  {
   "cell_type": "markdown",
   "id": "68678480",
   "metadata": {},
   "source": [
    "# A) Frame the Problem and Look at the Big Picture \n",
    "\n",
    "\n",
    "## <font color='blue'>1. Define the objectives in the business terms </font> \n",
    "\n",
    "From Kaggle :\n",
    "\n",
    "\"With 79 explanatory variables describing (almost) every aspect of residential homes in Ames, Iowa, this competition challenges you to predict the final price of each home.\"\n",
    "\n",
    "\"It is your job to predict the sales price for each house. For each Id in the test set, you must predict the value of the SalePrice variable.\"\n",
    "\n",
    "\n",
    "So, this is a price prediction competition, and we want to be accurate. \n",
    "\n",
    "\n",
    "## <font color='blue'>2. How will your solution be used? </font>\n",
    "\n",
    "Well, it is just a competition!\n",
    "\n",
    "\n",
    "## <font color='blue'>3. What are the current solutions? </font>\n",
    "\n",
    "This is not applicable here, but probably people have some intuition.\n",
    "\n",
    "## <font color='blue'>4. How should you frame this problem? </font>\n",
    "\n",
    "This, I believe is an important question. We need to predict a price for each home. We have a labeled dataset with the final price for each house. So it is a <font color='green'> Supervised Regression</font> task.  \n",
    "\n",
    "\n",
    "## <font color='blue'>5. How should the performance be measured? </font>\n",
    "\n",
    "This we can check from Kaggle:\n",
    "\n",
    "\"Submissions are evaluated on Root-Mean-Squared-Error (RMSE) between the logarithm of the predicted value and the logarithm of the observed sales price.\"\n",
    "\n",
    "So that is sth to consider: For each price vale $y$, we need to create $\\ln(y)$, and set the metric to be RMSE. In the end, to report we need to exponentiate our final result. \n",
    "\n",
    "\n",
    "## <font color='blue'>6. Is the performance measure aligned with the business objective? </font>\n",
    "\n",
    "Kaggle: \n",
    "\"Taking logs means that errors in predicting expensive houses and cheap houses will affect the result equally.\"\n",
    "\n",
    "Let's look at it. Say we have a house with the price $y_1 = 2 \\times 10^5$ with the predicted value of $\\hat{y}_1 = 1 \\times 10^5$, and another with the price $y_2 = 3 \\times 10^7$ with the predicted value of $\\hat{y}_2 = 2 \\times 10^7$. \n",
    "\n",
    "With the RMSE we have\n",
    "$$\n",
    "\\begin{align}\n",
    "\\text{RMSE} &= \\frac{1}{\\sqrt{2}} \\sqrt{\\left[(y_1 -\\hat{y}_1)^2 + (y_2 -\\hat{y}_2)^2 \\right]} \\\\\n",
    "     & = \\frac{1}{\\sqrt{2}}  \\sqrt{\\left[10^{10} + 10^{14} \\right] } \\\\\n",
    "     & \\approx \\frac{1}{\\sqrt{2}} \\sqrt{10^{14}} \\\\\n",
    "     & = \\frac{1}{\\sqrt{2}} 10^7 \\\\ \n",
    "     & \\approx 7.0 \\times 10^6 \\ .\n",
    "\\end{align}\n",
    "$$\n",
    "As we see, although we both prices were off by $50 \\%$, the error in the cheaper house is negligible next to the error of the expensive one. \n",
    "\n",
    "By taking the $\\ln$, however,\n",
    "$$\n",
    "\\begin{align}\n",
    "\\text{RM-Log-SE} &= \\frac{1}{\\sqrt{2}} {\\left[(\\ln(y_1) -\\ln(\\hat{y}_1))^2 + (\\ln(y_2) -\\ln(\\hat{y}_2))^2 \\right]} \\\\\n",
    "     & = \\frac{1}{\\sqrt{2}}  \\sqrt{\\left[ ( \\ln(2 \\times 10^5)  -\\ln(10^5) )^2 +( \\ln(3 \\times 10^7)  -\\ln(2 \\times 10^7) )^2 \\right] } \\\\ \n",
    "     & = \\frac{1}{\\sqrt{2}}  \\sqrt{\\left[ ( \\ln 2 )^2 + (\\ln 3  -\\ln 2)^2 \\right] } \\\\\n",
    "     & \\approx \\frac{1}{\\sqrt{2}}  \\sqrt{\\left[ 0.48^2 + 0.16^2 \\right] } \\\\\n",
    "     & \\approx 0.57 \\ .\n",
    "\\end{align}\n",
    "$$\n",
    "\n",
    "The most important feature of this measure is that by taking the $\\ln$ the order of magintude disapper and we left with the logarithm of the prefactors, \n",
    "$$\n",
    "\\ln(x \\times 10^n) - \\ln(y \\times 10^n) = \\ln(x) - \\ln(y) \\ .\n",
    "$$\n",
    "In this sense Kaggle is right that by taking the logarithm they are all \"equal\" in our measure and more importantly contribute to the total error.  Hence this is a good measure.\n",
    "\n",
    "\n",
    "## <font color='blue'>7. What would be the minimum performance needed to reach the business objective? </font>\n",
    "\n",
    "Again, this is not applicable here. So as low as possible.\n",
    "\n",
    "## <font color='blue'>8. What are comparable problems? Can you reuse experience or tools?</font>\n",
    "\n",
    "YES, YES :) Geron studies a housing price problem in chapter 2 of the book, which I will follow. But I will probably use some other regression methods like SVM and Decision Trees. I will also try to study the problem using a Neural Network.\n",
    "\n",
    "\n",
    "## <font color='blue'>9. Is human experience avaiable?</font>\n",
    "\n",
    "In a real setup this could be available, but here nope! \n",
    "\n",
    "## <font color='blue'>10. How would you solve the problem manually? </font>\n",
    "\n",
    "I may look at the a few house around the one I am interested in and find the average price per square meter and multiply it with the area. Though this is quite rough! \n",
    "\n",
    "## <font color='blue'>11. List the assumptions you (or others) have made so far. </font>\n",
    "\n",
    "Nothing special so far, let's see what comes up.\n",
    "\n",
    "## <font color='blue'>12. Verify assumptions if possible.</font>\n",
    "\n",
    "No need right now. \n",
    "\n",
    "\n",
    "OK, Good to go to the next section of the List. "
   ]
  },
  {
   "cell_type": "markdown",
   "id": "bdff82d1",
   "metadata": {},
   "source": [
    "#  B) Get the Data \n",
    "\n",
    "\n",
    "## <font color='blue'>1. List the data you need and how much you need.</font>\n",
    "\n",
    "We need a training set and test set so we can predict. \n",
    "\n",
    "## <font color='blue'> 2. Find and document where you can get that data.</font>\n",
    "\n",
    "One can get the data from this [page](https://www.kaggle.com/c/house-prices-advanced-regression-techniques/data) on Kaggle.\n",
    "\n",
    "## <font color='blue'> 3. Check how much space it will take.</font>\n",
    "\n",
    "Train and test take less than a MB. \n",
    "\n",
    "##  <font color='blue'> 4. Check legal obligations, and get authorization if necessary.</font>\n",
    "\n",
    "Kaggle: \n",
    "\"The Ames Housing dataset was compiled by Dean De Cock for use in data science education.\"\n",
    "The original paper by De Cock can be found [here](https://www.tandfonline.com/doi/abs/10.1080/10691898.2011.11889627). \n",
    "\n",
    "From the Kaggle, and the paper it looks like fine to download it and use it. \n",
    "\n",
    "\n",
    "##  <font color='blue'> 5. Get access authorizations.</font>\n",
    "\n",
    "Looks fine here, we have it on our machine.\n",
    "\n",
    "\n",
    "##  <font color='blue'> 6. Create a workspace (with enough storage space)</font>\n",
    "\n",
    "This is fine with us. \n",
    "\n",
    "##  <font color='blue'>7. Get the data. </font>\n",
    "\n",
    "OK, finally we start coding. "
   ]
  },
  {
   "cell_type": "code",
   "execution_count": 111,
   "id": "a1c2d102",
   "metadata": {},
   "outputs": [],
   "source": [
    "# I put all the modules or other necessary settings here\n",
    "\n",
    "import sys\n",
    "assert sys.version_info >= (3, 5)\n",
    "import numpy as np\n",
    "import pandas as pd\n",
    "import os\n",
    "import copy\n",
    "import timeit\n",
    "\n",
    "\n",
    "import sklearn\n",
    "assert sklearn.__version__ >= \"0.20\"\n",
    "from sklearn.model_selection import StratifiedShuffleSplit,train_test_split,cross_val_score,GridSearchCV\n",
    "from sklearn.impute import SimpleImputer\n",
    "from sklearn.preprocessing import OneHotEncoder,StandardScaler,PolynomialFeatures\n",
    "from sklearn.decomposition import PCA,TruncatedSVD\n",
    "from sklearn.pipeline import Pipeline\n",
    "from sklearn.base import BaseEstimator, TransformerMixin\n",
    "from sklearn.compose import ColumnTransformer\n",
    "from sklearn.linear_model import LinearRegression\n",
    "from sklearn.metrics import mean_squared_error,r2_score\n",
    "from sklearn.tree import DecisionTreeRegressor\n",
    "from sklearn.ensemble import RandomForestRegressor \n",
    "\n",
    "# some plot settings\n",
    "%matplotlib inline\n",
    "import matplotlib as mpl\n",
    "import matplotlib.pyplot as plt\n",
    "mpl.rc('axes', labelsize=14)\n",
    "mpl.rc('xtick', labelsize=12)\n",
    "mpl.rc('ytick', labelsize=12)\n",
    "\n",
    "# Some pandas setting\n",
    "\n",
    "pd.set_option('display.max_rows', 100)"
   ]
  },
  {
   "cell_type": "code",
   "execution_count": 2,
   "id": "0351ad6a",
   "metadata": {},
   "outputs": [],
   "source": [
    "# this is for B7, get the data\n",
    "\n",
    "kaggle_train_data = pd.read_csv(\"train.csv\")\n",
    "kaggle_test_data = pd.read_csv(\"test.csv\")"
   ]
  },
  {
   "cell_type": "markdown",
   "id": "f161d6cb",
   "metadata": {},
   "source": [
    "## <font color='blue'> 8. Convert the data to a format you can easily manipulate (without changing the data itself)</font>\n",
    "\n",
    "We can read the csv file. So no further action. \n",
    "\n",
    "## <font color='blue'> 9. Ensure sensitive info. is deleted or protected. </font>\n",
    "\n",
    "This is fine.\n",
    "\n",
    "## <font color='blue'> 10. Check the size and the type of data (time series, sample, geographical,etc)</font>\n",
    "\n",
    "We know we have a data set where each house has a set of features and a salesprice. Some of these features are numerical and some are . We go through each feature in section C.\n",
    "\n",
    "\n",
    "## <font color='blue'> 11. Sample a test set, put it aside, and never look at it (no data snooping!) </font>\n",
    "\n",
    "We read the test set that Kaggle provided as Kaggle_test_data. This can be seen as deploying section of final model. We do, however, need a test set to check how good our model is **befor deploying**, and for that below we will seprate a part.  \n",
    "\n",
    "Geron creates a test set for the housing problem using a `StratifiedShuffleSplit` to make the test set meaningful. We will do so.  \n"
   ]
  },
  {
   "cell_type": "markdown",
   "id": "2780ba88",
   "metadata": {},
   "source": [
    "# C) Explore the Data\n",
    "\n",
    "## <font color='blue'> 1. Create a copy of the data for exploration (sampling it down to a manageable size if necessary)</font>\n",
    "\n",
    "The size is fine and manageable. For the moment there is no need to copy, but we will do so before applying necessary transformations for data cleaning or processing. \n",
    "\n",
    "## <font color='blue'> 2. Create a Jupyter notebook to keep a record of your data exploration.</font>\n",
    "\n",
    "In this case we are working in J.N., hence no need to do so, but if one wants to use usual scripts and launch the code on a server, the exploration should be done separately. \n",
    "\n",
    "## <font color='blue'> 3. Study each attribute and its characteristics: </font>\n",
    " - Name\n",
    " - Type (Cateorical, int/float, bounded/unbounded, text, structured, etc)\n",
    " - % of missing values \n",
    " - Noisiness and type of noise (stochastic, outliers,rounding errors, etc)\n",
    " - Usefulness for the task\n",
    " - Type of distribution (Gaussian, uniform,logarithmic, etc)\n",
    "\n",
    "First let's look at the `head()`"
   ]
  },
  {
   "cell_type": "code",
   "execution_count": 3,
   "id": "df066c5f",
   "metadata": {},
   "outputs": [
    {
     "data": {
      "text/html": [
       "<div>\n",
       "<style scoped>\n",
       "    .dataframe tbody tr th:only-of-type {\n",
       "        vertical-align: middle;\n",
       "    }\n",
       "\n",
       "    .dataframe tbody tr th {\n",
       "        vertical-align: top;\n",
       "    }\n",
       "\n",
       "    .dataframe thead th {\n",
       "        text-align: right;\n",
       "    }\n",
       "</style>\n",
       "<table border=\"1\" class=\"dataframe\">\n",
       "  <thead>\n",
       "    <tr style=\"text-align: right;\">\n",
       "      <th></th>\n",
       "      <th>Id</th>\n",
       "      <th>MSSubClass</th>\n",
       "      <th>MSZoning</th>\n",
       "      <th>LotFrontage</th>\n",
       "      <th>LotArea</th>\n",
       "      <th>Street</th>\n",
       "      <th>Alley</th>\n",
       "      <th>LotShape</th>\n",
       "      <th>LandContour</th>\n",
       "      <th>Utilities</th>\n",
       "      <th>...</th>\n",
       "      <th>PoolArea</th>\n",
       "      <th>PoolQC</th>\n",
       "      <th>Fence</th>\n",
       "      <th>MiscFeature</th>\n",
       "      <th>MiscVal</th>\n",
       "      <th>MoSold</th>\n",
       "      <th>YrSold</th>\n",
       "      <th>SaleType</th>\n",
       "      <th>SaleCondition</th>\n",
       "      <th>SalePrice</th>\n",
       "    </tr>\n",
       "  </thead>\n",
       "  <tbody>\n",
       "    <tr>\n",
       "      <th>0</th>\n",
       "      <td>1</td>\n",
       "      <td>60</td>\n",
       "      <td>RL</td>\n",
       "      <td>65.0</td>\n",
       "      <td>8450</td>\n",
       "      <td>Pave</td>\n",
       "      <td>NaN</td>\n",
       "      <td>Reg</td>\n",
       "      <td>Lvl</td>\n",
       "      <td>AllPub</td>\n",
       "      <td>...</td>\n",
       "      <td>0</td>\n",
       "      <td>NaN</td>\n",
       "      <td>NaN</td>\n",
       "      <td>NaN</td>\n",
       "      <td>0</td>\n",
       "      <td>2</td>\n",
       "      <td>2008</td>\n",
       "      <td>WD</td>\n",
       "      <td>Normal</td>\n",
       "      <td>208500</td>\n",
       "    </tr>\n",
       "    <tr>\n",
       "      <th>1</th>\n",
       "      <td>2</td>\n",
       "      <td>20</td>\n",
       "      <td>RL</td>\n",
       "      <td>80.0</td>\n",
       "      <td>9600</td>\n",
       "      <td>Pave</td>\n",
       "      <td>NaN</td>\n",
       "      <td>Reg</td>\n",
       "      <td>Lvl</td>\n",
       "      <td>AllPub</td>\n",
       "      <td>...</td>\n",
       "      <td>0</td>\n",
       "      <td>NaN</td>\n",
       "      <td>NaN</td>\n",
       "      <td>NaN</td>\n",
       "      <td>0</td>\n",
       "      <td>5</td>\n",
       "      <td>2007</td>\n",
       "      <td>WD</td>\n",
       "      <td>Normal</td>\n",
       "      <td>181500</td>\n",
       "    </tr>\n",
       "    <tr>\n",
       "      <th>2</th>\n",
       "      <td>3</td>\n",
       "      <td>60</td>\n",
       "      <td>RL</td>\n",
       "      <td>68.0</td>\n",
       "      <td>11250</td>\n",
       "      <td>Pave</td>\n",
       "      <td>NaN</td>\n",
       "      <td>IR1</td>\n",
       "      <td>Lvl</td>\n",
       "      <td>AllPub</td>\n",
       "      <td>...</td>\n",
       "      <td>0</td>\n",
       "      <td>NaN</td>\n",
       "      <td>NaN</td>\n",
       "      <td>NaN</td>\n",
       "      <td>0</td>\n",
       "      <td>9</td>\n",
       "      <td>2008</td>\n",
       "      <td>WD</td>\n",
       "      <td>Normal</td>\n",
       "      <td>223500</td>\n",
       "    </tr>\n",
       "    <tr>\n",
       "      <th>3</th>\n",
       "      <td>4</td>\n",
       "      <td>70</td>\n",
       "      <td>RL</td>\n",
       "      <td>60.0</td>\n",
       "      <td>9550</td>\n",
       "      <td>Pave</td>\n",
       "      <td>NaN</td>\n",
       "      <td>IR1</td>\n",
       "      <td>Lvl</td>\n",
       "      <td>AllPub</td>\n",
       "      <td>...</td>\n",
       "      <td>0</td>\n",
       "      <td>NaN</td>\n",
       "      <td>NaN</td>\n",
       "      <td>NaN</td>\n",
       "      <td>0</td>\n",
       "      <td>2</td>\n",
       "      <td>2006</td>\n",
       "      <td>WD</td>\n",
       "      <td>Abnorml</td>\n",
       "      <td>140000</td>\n",
       "    </tr>\n",
       "    <tr>\n",
       "      <th>4</th>\n",
       "      <td>5</td>\n",
       "      <td>60</td>\n",
       "      <td>RL</td>\n",
       "      <td>84.0</td>\n",
       "      <td>14260</td>\n",
       "      <td>Pave</td>\n",
       "      <td>NaN</td>\n",
       "      <td>IR1</td>\n",
       "      <td>Lvl</td>\n",
       "      <td>AllPub</td>\n",
       "      <td>...</td>\n",
       "      <td>0</td>\n",
       "      <td>NaN</td>\n",
       "      <td>NaN</td>\n",
       "      <td>NaN</td>\n",
       "      <td>0</td>\n",
       "      <td>12</td>\n",
       "      <td>2008</td>\n",
       "      <td>WD</td>\n",
       "      <td>Normal</td>\n",
       "      <td>250000</td>\n",
       "    </tr>\n",
       "  </tbody>\n",
       "</table>\n",
       "<p>5 rows × 81 columns</p>\n",
       "</div>"
      ],
      "text/plain": [
       "   Id  MSSubClass MSZoning  LotFrontage  LotArea Street Alley LotShape  \\\n",
       "0   1          60       RL         65.0     8450   Pave   NaN      Reg   \n",
       "1   2          20       RL         80.0     9600   Pave   NaN      Reg   \n",
       "2   3          60       RL         68.0    11250   Pave   NaN      IR1   \n",
       "3   4          70       RL         60.0     9550   Pave   NaN      IR1   \n",
       "4   5          60       RL         84.0    14260   Pave   NaN      IR1   \n",
       "\n",
       "  LandContour Utilities  ... PoolArea PoolQC Fence MiscFeature MiscVal MoSold  \\\n",
       "0         Lvl    AllPub  ...        0    NaN   NaN         NaN       0      2   \n",
       "1         Lvl    AllPub  ...        0    NaN   NaN         NaN       0      5   \n",
       "2         Lvl    AllPub  ...        0    NaN   NaN         NaN       0      9   \n",
       "3         Lvl    AllPub  ...        0    NaN   NaN         NaN       0      2   \n",
       "4         Lvl    AllPub  ...        0    NaN   NaN         NaN       0     12   \n",
       "\n",
       "  YrSold  SaleType  SaleCondition  SalePrice  \n",
       "0   2008        WD         Normal     208500  \n",
       "1   2007        WD         Normal     181500  \n",
       "2   2008        WD         Normal     223500  \n",
       "3   2006        WD        Abnorml     140000  \n",
       "4   2008        WD         Normal     250000  \n",
       "\n",
       "[5 rows x 81 columns]"
      ]
     },
     "execution_count": 3,
     "metadata": {},
     "output_type": "execute_result"
    }
   ],
   "source": [
    "kaggle_train_data.head()"
   ]
  },
  {
   "cell_type": "markdown",
   "id": "69418d03",
   "metadata": {},
   "source": [
    "We know that there are 79 features. In addition, we have and \"id\" and \"SalePrice\", so in total 81 columns. `head()` shows the first 5. "
   ]
  },
  {
   "cell_type": "markdown",
   "id": "dae9edc7",
   "metadata": {},
   "source": [
    "And get the `info()` to see the name and type of attributes. We also have an accompanied text file on the attributes. "
   ]
  },
  {
   "cell_type": "code",
   "execution_count": 4,
   "id": "403d9ddd",
   "metadata": {},
   "outputs": [
    {
     "name": "stdout",
     "output_type": "stream",
     "text": [
      "<class 'pandas.core.frame.DataFrame'>\n",
      "RangeIndex: 1460 entries, 0 to 1459\n",
      "Data columns (total 81 columns):\n",
      " #   Column         Non-Null Count  Dtype  \n",
      "---  ------         --------------  -----  \n",
      " 0   Id             1460 non-null   int64  \n",
      " 1   MSSubClass     1460 non-null   int64  \n",
      " 2   MSZoning       1460 non-null   object \n",
      " 3   LotFrontage    1201 non-null   float64\n",
      " 4   LotArea        1460 non-null   int64  \n",
      " 5   Street         1460 non-null   object \n",
      " 6   Alley          91 non-null     object \n",
      " 7   LotShape       1460 non-null   object \n",
      " 8   LandContour    1460 non-null   object \n",
      " 9   Utilities      1460 non-null   object \n",
      " 10  LotConfig      1460 non-null   object \n",
      " 11  LandSlope      1460 non-null   object \n",
      " 12  Neighborhood   1460 non-null   object \n",
      " 13  Condition1     1460 non-null   object \n",
      " 14  Condition2     1460 non-null   object \n",
      " 15  BldgType       1460 non-null   object \n",
      " 16  HouseStyle     1460 non-null   object \n",
      " 17  OverallQual    1460 non-null   int64  \n",
      " 18  OverallCond    1460 non-null   int64  \n",
      " 19  YearBuilt      1460 non-null   int64  \n",
      " 20  YearRemodAdd   1460 non-null   int64  \n",
      " 21  RoofStyle      1460 non-null   object \n",
      " 22  RoofMatl       1460 non-null   object \n",
      " 23  Exterior1st    1460 non-null   object \n",
      " 24  Exterior2nd    1460 non-null   object \n",
      " 25  MasVnrType     1452 non-null   object \n",
      " 26  MasVnrArea     1452 non-null   float64\n",
      " 27  ExterQual      1460 non-null   object \n",
      " 28  ExterCond      1460 non-null   object \n",
      " 29  Foundation     1460 non-null   object \n",
      " 30  BsmtQual       1423 non-null   object \n",
      " 31  BsmtCond       1423 non-null   object \n",
      " 32  BsmtExposure   1422 non-null   object \n",
      " 33  BsmtFinType1   1423 non-null   object \n",
      " 34  BsmtFinSF1     1460 non-null   int64  \n",
      " 35  BsmtFinType2   1422 non-null   object \n",
      " 36  BsmtFinSF2     1460 non-null   int64  \n",
      " 37  BsmtUnfSF      1460 non-null   int64  \n",
      " 38  TotalBsmtSF    1460 non-null   int64  \n",
      " 39  Heating        1460 non-null   object \n",
      " 40  HeatingQC      1460 non-null   object \n",
      " 41  CentralAir     1460 non-null   object \n",
      " 42  Electrical     1459 non-null   object \n",
      " 43  1stFlrSF       1460 non-null   int64  \n",
      " 44  2ndFlrSF       1460 non-null   int64  \n",
      " 45  LowQualFinSF   1460 non-null   int64  \n",
      " 46  GrLivArea      1460 non-null   int64  \n",
      " 47  BsmtFullBath   1460 non-null   int64  \n",
      " 48  BsmtHalfBath   1460 non-null   int64  \n",
      " 49  FullBath       1460 non-null   int64  \n",
      " 50  HalfBath       1460 non-null   int64  \n",
      " 51  BedroomAbvGr   1460 non-null   int64  \n",
      " 52  KitchenAbvGr   1460 non-null   int64  \n",
      " 53  KitchenQual    1460 non-null   object \n",
      " 54  TotRmsAbvGrd   1460 non-null   int64  \n",
      " 55  Functional     1460 non-null   object \n",
      " 56  Fireplaces     1460 non-null   int64  \n",
      " 57  FireplaceQu    770 non-null    object \n",
      " 58  GarageType     1379 non-null   object \n",
      " 59  GarageYrBlt    1379 non-null   float64\n",
      " 60  GarageFinish   1379 non-null   object \n",
      " 61  GarageCars     1460 non-null   int64  \n",
      " 62  GarageArea     1460 non-null   int64  \n",
      " 63  GarageQual     1379 non-null   object \n",
      " 64  GarageCond     1379 non-null   object \n",
      " 65  PavedDrive     1460 non-null   object \n",
      " 66  WoodDeckSF     1460 non-null   int64  \n",
      " 67  OpenPorchSF    1460 non-null   int64  \n",
      " 68  EnclosedPorch  1460 non-null   int64  \n",
      " 69  3SsnPorch      1460 non-null   int64  \n",
      " 70  ScreenPorch    1460 non-null   int64  \n",
      " 71  PoolArea       1460 non-null   int64  \n",
      " 72  PoolQC         7 non-null      object \n",
      " 73  Fence          281 non-null    object \n",
      " 74  MiscFeature    54 non-null     object \n",
      " 75  MiscVal        1460 non-null   int64  \n",
      " 76  MoSold         1460 non-null   int64  \n",
      " 77  YrSold         1460 non-null   int64  \n",
      " 78  SaleType       1460 non-null   object \n",
      " 79  SaleCondition  1460 non-null   object \n",
      " 80  SalePrice      1460 non-null   int64  \n",
      "dtypes: float64(3), int64(35), object(43)\n",
      "memory usage: 924.0+ KB\n"
     ]
    }
   ],
   "source": [
    "kaggle_train_data.info()"
   ]
  },
  {
   "cell_type": "markdown",
   "id": "01611490",
   "metadata": {},
   "source": [
    "Most of the data points have a value for all features, but there are null values. We will study the percentage when we want to do the data cleaning. We will also check what we want to keep."
   ]
  },
  {
   "cell_type": "markdown",
   "id": "360fafb4",
   "metadata": {},
   "source": [
    "## <font color='blue'> 4. For supervised learning tasks, identify the target attribute(s). </font>\n",
    "\n",
    "This we know, it is called \"SalePrice\". \n",
    "\n",
    "<font color='red'> Note that here we need to take the Log of the price!!! </font>\n",
    "\n",
    "## <font color='blue'> 5. Visualize the data. </font>\n",
    "\n",
    "This could be very useful in some cases, but even in the case that Geron studied, I dis't get that much info except sth like \"Coser to the coast, higher the price\" makes sense. But this could be really useful to indentify outliers. \n",
    "\n",
    "## <font color='blue'> 6. Study the correlations between attributes. </font>\n",
    "\n",
    "We can of course get a huge correlation matrix, $80 \\times 80$, but how useful the full matric is I don't know. The correlations of the \"SalesPrice\" is, however, quite important because it's our target. "
   ]
  },
  {
   "cell_type": "code",
   "execution_count": 5,
   "id": "7af84b45",
   "metadata": {},
   "outputs": [
    {
     "data": {
      "text/plain": [
       "SalePrice        1.000000\n",
       "OverallQual      0.790982\n",
       "GrLivArea        0.708624\n",
       "GarageCars       0.640409\n",
       "GarageArea       0.623431\n",
       "TotalBsmtSF      0.613581\n",
       "1stFlrSF         0.605852\n",
       "FullBath         0.560664\n",
       "TotRmsAbvGrd     0.533723\n",
       "YearBuilt        0.522897\n",
       "YearRemodAdd     0.507101\n",
       "GarageYrBlt      0.486362\n",
       "MasVnrArea       0.477493\n",
       "Fireplaces       0.466929\n",
       "BsmtFinSF1       0.386420\n",
       "LotFrontage      0.351799\n",
       "WoodDeckSF       0.324413\n",
       "2ndFlrSF         0.319334\n",
       "OpenPorchSF      0.315856\n",
       "HalfBath         0.284108\n",
       "LotArea          0.263843\n",
       "BsmtFullBath     0.227122\n",
       "BsmtUnfSF        0.214479\n",
       "BedroomAbvGr     0.168213\n",
       "ScreenPorch      0.111447\n",
       "PoolArea         0.092404\n",
       "MoSold           0.046432\n",
       "3SsnPorch        0.044584\n",
       "BsmtFinSF2      -0.011378\n",
       "BsmtHalfBath    -0.016844\n",
       "MiscVal         -0.021190\n",
       "Id              -0.021917\n",
       "LowQualFinSF    -0.025606\n",
       "YrSold          -0.028923\n",
       "OverallCond     -0.077856\n",
       "MSSubClass      -0.084284\n",
       "EnclosedPorch   -0.128578\n",
       "KitchenAbvGr    -0.135907\n",
       "Name: SalePrice, dtype: float64"
      ]
     },
     "execution_count": 5,
     "metadata": {},
     "output_type": "execute_result"
    }
   ],
   "source": [
    "kaggle_train_data.corr()[\"SalePrice\"].sort_values(ascending=False)"
   ]
  },
  {
   "cell_type": "markdown",
   "id": "c1bcef54",
   "metadata": {},
   "source": [
    "OK, looks like the attribute \"OverallQual\" is the most important one. Well, we know that the correlation matrix does not capture everything, but in this case it also makes sense that the \"OverallQual\", described as \"Rates the overall material and finish of the house\" in the accompanied text file, has an importatn role on the final price. So we use it for the `StratifiedShuffleSplit`.  \n",
    "\n",
    "## <font color='blue'> B11) Test set split</font>\n",
    "\n",
    "We have 1460 data points. So let's choose 260 of them as our test set. We may later divide the 1200 to train and dev set, or use kfold cross-validation.  Let's write a function to give us either nomal train-test split or the stratified one. "
   ]
  },
  {
   "cell_type": "code",
   "execution_count": 6,
   "id": "1d5b5b3b",
   "metadata": {},
   "outputs": [],
   "source": [
    "def select_train_test(data_set, test_size=0.2,stratified=False, strat_atr=None):\n",
    "    \"\"\"\n",
    "    returns train and test sets depending on the method one uses. \n",
    "    the default is the train_test_split. \n",
    "    With stratified=True, one needs to give a string to strat_atr to be used for the stratified selection.\n",
    "    \"\"\"\n",
    "    if stratified:\n",
    "        split = StratifiedShuffleSplit(n_splits=1, test_size=test_size, random_state=42)\n",
    "        for train_index, test_index in split.split(data_set, data_set[strat_atr]):\n",
    "            to_return_train_set = data_set.loc[train_index]\n",
    "            to_return_test_set = data_set.loc[test_index]\n",
    "    else:\n",
    "        to_return_train_set, to_return_test_set = train_test_split(data_set, test_size=test_size, random_state=42,shuffle=True)\n",
    "    \n",
    "    return to_return_train_set,to_return_test_set"
   ]
  },
  {
   "cell_type": "code",
   "execution_count": 7,
   "id": "f38700f5",
   "metadata": {},
   "outputs": [],
   "source": [
    "train_data,test_data = select_train_test(kaggle_train_data,test_size=260,stratified=True,strat_atr=\"OverallQual\")"
   ]
  },
  {
   "cell_type": "markdown",
   "id": "22a1a851",
   "metadata": {},
   "source": [
    "## <font color='blue'> 7. Identify the promising transformations you may want to apply.</font>\n",
    "\n",
    "For prepaing data we need to apply a few of course, since there are categorical ones. \n",
    "\n",
    "## <font color='blue'> 8. Identify extra data that would be useful.</font>\n",
    "\n",
    "This I don't know right now. \n",
    "\n",
    "## <font color='blue'> 9. Document what you have learned.</font>\n",
    "\n",
    "That's what we are doing in this notebook, but one can also write a note. \n",
    "\n",
    "We have a supervised regression task. I am just worried that if we want to keep all the features and transform the categorical ones to vectors, it would be many features. But let's see. We may need to come back. "
   ]
  },
  {
   "cell_type": "markdown",
   "id": "ae918dcc",
   "metadata": {},
   "source": [
    "# D) Prepare the Data\n",
    "\n",
    "(Here I deviate a bit from Geron's list and follows chapter 2. One needs to pay attention to categorical attributes and pipelines.)\n",
    "\n",
    " - Work on copies of data. \n",
    " - Write functions for all the data transformations\n",
    "\n",
    "## <font color='blue'> 1. Take a copy of train data which prepared so far.</font>\n",
    "\n",
    "I use deepcopy, to keep the original intact."
   ]
  },
  {
   "cell_type": "code",
   "execution_count": 8,
   "id": "5e164b90",
   "metadata": {},
   "outputs": [],
   "source": [
    "cp_kaggle_train = copy.deepcopy(kaggle_train_data)\n",
    "\n",
    "cp_train = copy.deepcopy(train_data)\n",
    "cp_test = copy.deepcopy(test_data)"
   ]
  },
  {
   "cell_type": "markdown",
   "id": "5437b64b",
   "metadata": {},
   "source": [
    "## <font  color='blue'> 2. For the case of Supervised learning separate the target and features.</font>"
   ]
  },
  {
   "cell_type": "code",
   "execution_count": 9,
   "id": "75d897bf",
   "metadata": {},
   "outputs": [],
   "source": [
    "full_kaggle_train_X = cp_kaggle_train.drop([\"SalePrice\",\"Id\"],axis=1)\n",
    "X_cp_train = cp_train.drop([\"SalePrice\",\"Id\"],axis=1)\n",
    "X_cp_test  = cp_test.drop([\"SalePrice\",\"Id\"],axis=1)\n",
    "\n",
    "# Due to the metric by Kaggle we take the logarithm of the price\n",
    "full_kaggle_train_Y = np.log(cp_kaggle_train[\"SalePrice\"])\n",
    "Y_cp_train = np.log(cp_train[\"SalePrice\"])\n",
    "Y_cp_test  = np.log(cp_test[\"SalePrice\"])"
   ]
  },
  {
   "cell_type": "code",
   "execution_count": 10,
   "id": "611f5be9",
   "metadata": {},
   "outputs": [
    {
     "data": {
      "text/plain": [
       "(1200, 79)"
      ]
     },
     "execution_count": 10,
     "metadata": {},
     "output_type": "execute_result"
    }
   ],
   "source": [
    "X_cp_train.shape"
   ]
  },
  {
   "cell_type": "markdown",
   "id": "4edab12e",
   "metadata": {},
   "source": [
    "Note that I also dropped \"Id\", because it is not a feature! "
   ]
  },
  {
   "cell_type": "markdown",
   "id": "dfb5a491",
   "metadata": {},
   "source": [
    "## <font  color='blue'> 3. Separate numerical and categorical features.</font>\n",
    "\n",
    "Separation can be easily done using `select_dtypes()`. "
   ]
  },
  {
   "cell_type": "code",
   "execution_count": 11,
   "id": "3fa5f5bd",
   "metadata": {},
   "outputs": [
    {
     "data": {
      "text/plain": [
       "((1200, 36), (1200, 43))"
      ]
     },
     "execution_count": 11,
     "metadata": {},
     "output_type": "execute_result"
    }
   ],
   "source": [
    "X_cp_num = X_cp_train.select_dtypes(exclude=['object'])\n",
    "X_cp_cat = X_cp_train.select_dtypes(include=['object'])\n",
    "\n",
    "X_cp_num.shape, X_cp_cat.shape"
   ]
  },
  {
   "cell_type": "markdown",
   "id": "f482775b",
   "metadata": {},
   "source": [
    "## <font color='blue'> 4. Data cleaning, engineering and scaling. </font>\n",
    " \n",
    " 1) Fix or remove outliers. \n",
    " \n",
    " 2) Select the features and drop the attributes that provide no useful info. \n",
    " \n",
    " **Using PCA could be helpful to select a reasonanle subspace.**\n",
    " \n",
    " 3) Filling the missing values or drop their columns (or rows)\n",
    " \n",
    " 4) Engineer new data.\n",
    " \n",
    " 5) Scale the data. \n",
    " \n",
    " \n",
    " I will write some function with starting with `dc_expl_`. Later I write Classes, so that we can use two pipelines for numerical and categorical values and later combine them.  \n"
   ]
  },
  {
   "cell_type": "markdown",
   "id": "6646491f",
   "metadata": {},
   "source": [
    "Let's first go through the numerical ones:\n",
    "\n",
    "How many NaN or null do we have? "
   ]
  },
  {
   "cell_type": "code",
   "execution_count": 12,
   "id": "e6d1bd1c",
   "metadata": {},
   "outputs": [
    {
     "data": {
      "text/plain": [
       "MSSubClass         0\n",
       "LotFrontage      210\n",
       "LotArea            0\n",
       "OverallQual        0\n",
       "OverallCond        0\n",
       "YearBuilt          0\n",
       "YearRemodAdd       0\n",
       "MasVnrArea         8\n",
       "BsmtFinSF1         0\n",
       "BsmtFinSF2         0\n",
       "BsmtUnfSF          0\n",
       "TotalBsmtSF        0\n",
       "1stFlrSF           0\n",
       "2ndFlrSF           0\n",
       "LowQualFinSF       0\n",
       "GrLivArea          0\n",
       "BsmtFullBath       0\n",
       "BsmtHalfBath       0\n",
       "FullBath           0\n",
       "HalfBath           0\n",
       "BedroomAbvGr       0\n",
       "KitchenAbvGr       0\n",
       "TotRmsAbvGrd       0\n",
       "Fireplaces         0\n",
       "GarageYrBlt       64\n",
       "GarageCars         0\n",
       "GarageArea         0\n",
       "WoodDeckSF         0\n",
       "OpenPorchSF        0\n",
       "EnclosedPorch      0\n",
       "3SsnPorch          0\n",
       "ScreenPorch        0\n",
       "PoolArea           0\n",
       "MiscVal            0\n",
       "MoSold             0\n",
       "YrSold             0\n",
       "dtype: int64"
      ]
     },
     "execution_count": 12,
     "metadata": {},
     "output_type": "execute_result"
    }
   ],
   "source": [
    "X_cp_num.isna().sum()"
   ]
  },
  {
   "cell_type": "code",
   "execution_count": 13,
   "id": "a0428689",
   "metadata": {},
   "outputs": [
    {
     "data": {
      "text/plain": [
       "(0.3714721372486476, 0.4872951814522071)"
      ]
     },
     "execution_count": 13,
     "metadata": {},
     "output_type": "execute_result"
    }
   ],
   "source": [
    "cp_train[\"SalePrice\"].corr(cp_train[\"LotFrontage\"]), cp_train[\"SalePrice\"].corr(cp_train[\"GarageYrBlt\"])"
   ]
  },
  {
   "cell_type": "markdown",
   "id": "34058b61",
   "metadata": {},
   "source": [
    "These are considerable and we need to keep them. They are also quite close to those we had for the Kaggle train set. "
   ]
  },
  {
   "cell_type": "markdown",
   "id": "a82fb96d",
   "metadata": {},
   "source": [
    "Most of the data points have a value for all the numerical features, but there are null values. Let's write a function to count the `NaN` values in each column, and give us back dictionaies. We will get two dictionaries. One dictionary for the columns which should be dropped, since there are a lot of `NaN`s, and another for the columns which should be kept and taken care of. \n",
    "\n",
    "### <font color='red'>Important </font>\n",
    "\n",
    "Here, I make an assumption or basically *add a hyperparameter* to the model. To determine whether we should keep a column or throw it away we need a criteria. The criteria is as follows: \n",
    "\n",
    "We keep a column if `NaN`s compose less than $30\\%$ of it. Otherwise we drop that column.  "
   ]
  },
  {
   "cell_type": "code",
   "execution_count": 14,
   "id": "ac50ac58",
   "metadata": {},
   "outputs": [],
   "source": [
    "def dc_expl_keep_or_throw_away(data_set,ratio=0.3):\n",
    "    \"\"\"\n",
    "    return the list of columns which should be kept and \n",
    "    a dictionary of the columns with a percentage of NaNs more than the ratio. \n",
    "    \"\"\"\n",
    "    threshold = int(ratio * data_set.shape[0])\n",
    "    clmn_names = data_set.columns\n",
    "    \n",
    "    to_be_kept = []\n",
    "    to_be_dropped_dict = {}\n",
    "    \n",
    "    for cl in clmn_names:\n",
    "        nan_count = data_set[cl].isna().sum()\n",
    "        if nan_count < threshold:\n",
    "            to_be_kept.append(cl)\n",
    "        else:\n",
    "            to_be_dropped_dict[cl] = nan_count\n",
    "                \n",
    "    return to_be_kept,to_be_dropped_dict   "
   ]
  },
  {
   "cell_type": "code",
   "execution_count": 15,
   "id": "a1b6582a",
   "metadata": {},
   "outputs": [
    {
     "data": {
      "text/plain": [
       "(36, (1200, 36), {})"
      ]
     },
     "execution_count": 15,
     "metadata": {},
     "output_type": "execute_result"
    }
   ],
   "source": [
    "num_attr_list, dropped_num = dc_expl_keep_or_throw_away(X_cp_num)\n",
    "len(num_attr_list),X_cp_num.shape,dropped_num"
   ]
  },
  {
   "cell_type": "markdown",
   "id": "3c2326d5",
   "metadata": {},
   "source": [
    "So here we see that we should keep all the numerical values, and the line below is not necessary, but in general we need it."
   ]
  },
  {
   "cell_type": "code",
   "execution_count": 16,
   "id": "a9e576d0",
   "metadata": {},
   "outputs": [],
   "source": [
    "X_train_num_kept = X_cp_num[num_attr_list]"
   ]
  },
  {
   "cell_type": "markdown",
   "id": "421b48f4",
   "metadata": {},
   "source": [
    "Now we fill the missing values: "
   ]
  },
  {
   "cell_type": "code",
   "execution_count": 17,
   "id": "369c2ea7",
   "metadata": {},
   "outputs": [],
   "source": [
    "dc_expl_imputer = SimpleImputer(strategy=\"median\")"
   ]
  },
  {
   "cell_type": "code",
   "execution_count": 18,
   "id": "2cffb051",
   "metadata": {},
   "outputs": [],
   "source": [
    "num_X= dc_expl_imputer.fit_transform(X_train_num_kept)\n",
    "\n",
    "# And to make it a data frame again\n",
    "\n",
    "X_num_prep =pd.DataFrame(num_X,columns=X_train_num_kept.columns,index = X_train_num_kept.index)"
   ]
  },
  {
   "cell_type": "code",
   "execution_count": 19,
   "id": "ad8dabf5",
   "metadata": {},
   "outputs": [
    {
     "data": {
      "text/plain": [
       "Index(['MSSubClass', 'LotFrontage', 'LotArea', 'OverallQual', 'OverallCond',\n",
       "       'YearBuilt', 'YearRemodAdd', 'MasVnrArea', 'BsmtFinSF1', 'BsmtFinSF2',\n",
       "       'BsmtUnfSF', 'TotalBsmtSF', '1stFlrSF', '2ndFlrSF', 'LowQualFinSF',\n",
       "       'GrLivArea', 'BsmtFullBath', 'BsmtHalfBath', 'FullBath', 'HalfBath',\n",
       "       'BedroomAbvGr', 'KitchenAbvGr', 'TotRmsAbvGrd', 'Fireplaces',\n",
       "       'GarageYrBlt', 'GarageCars', 'GarageArea', 'WoodDeckSF', 'OpenPorchSF',\n",
       "       'EnclosedPorch', '3SsnPorch', 'ScreenPorch', 'PoolArea', 'MiscVal',\n",
       "       'MoSold', 'YrSold'],\n",
       "      dtype='object')"
      ]
     },
     "execution_count": 19,
     "metadata": {},
     "output_type": "execute_result"
    }
   ],
   "source": [
    "X_num_prep.columns"
   ]
  },
  {
   "cell_type": "code",
   "execution_count": 20,
   "id": "5613887e",
   "metadata": {},
   "outputs": [
    {
     "name": "stdout",
     "output_type": "stream",
     "text": [
      "<class 'pandas.core.frame.DataFrame'>\n",
      "Int64Index: 1200 entries, 27 to 159\n",
      "Data columns (total 36 columns):\n",
      " #   Column         Non-Null Count  Dtype  \n",
      "---  ------         --------------  -----  \n",
      " 0   MSSubClass     1200 non-null   float64\n",
      " 1   LotFrontage    1200 non-null   float64\n",
      " 2   LotArea        1200 non-null   float64\n",
      " 3   OverallQual    1200 non-null   float64\n",
      " 4   OverallCond    1200 non-null   float64\n",
      " 5   YearBuilt      1200 non-null   float64\n",
      " 6   YearRemodAdd   1200 non-null   float64\n",
      " 7   MasVnrArea     1200 non-null   float64\n",
      " 8   BsmtFinSF1     1200 non-null   float64\n",
      " 9   BsmtFinSF2     1200 non-null   float64\n",
      " 10  BsmtUnfSF      1200 non-null   float64\n",
      " 11  TotalBsmtSF    1200 non-null   float64\n",
      " 12  1stFlrSF       1200 non-null   float64\n",
      " 13  2ndFlrSF       1200 non-null   float64\n",
      " 14  LowQualFinSF   1200 non-null   float64\n",
      " 15  GrLivArea      1200 non-null   float64\n",
      " 16  BsmtFullBath   1200 non-null   float64\n",
      " 17  BsmtHalfBath   1200 non-null   float64\n",
      " 18  FullBath       1200 non-null   float64\n",
      " 19  HalfBath       1200 non-null   float64\n",
      " 20  BedroomAbvGr   1200 non-null   float64\n",
      " 21  KitchenAbvGr   1200 non-null   float64\n",
      " 22  TotRmsAbvGrd   1200 non-null   float64\n",
      " 23  Fireplaces     1200 non-null   float64\n",
      " 24  GarageYrBlt    1200 non-null   float64\n",
      " 25  GarageCars     1200 non-null   float64\n",
      " 26  GarageArea     1200 non-null   float64\n",
      " 27  WoodDeckSF     1200 non-null   float64\n",
      " 28  OpenPorchSF    1200 non-null   float64\n",
      " 29  EnclosedPorch  1200 non-null   float64\n",
      " 30  3SsnPorch      1200 non-null   float64\n",
      " 31  ScreenPorch    1200 non-null   float64\n",
      " 32  PoolArea       1200 non-null   float64\n",
      " 33  MiscVal        1200 non-null   float64\n",
      " 34  MoSold         1200 non-null   float64\n",
      " 35  YrSold         1200 non-null   float64\n",
      "dtypes: float64(36)\n",
      "memory usage: 346.9 KB\n"
     ]
    }
   ],
   "source": [
    "X_num_prep.info()"
   ]
  },
  {
   "cell_type": "markdown",
   "id": "40599c45",
   "metadata": {},
   "source": [
    "Let's see how whether we can reduce it's dimenion:"
   ]
  },
  {
   "cell_type": "code",
   "execution_count": 21,
   "id": "f242dc2d",
   "metadata": {},
   "outputs": [
    {
     "data": {
      "image/png": "[encoded data removed]",
      "text/plain": [
       "<Figure size 432x288 with 1 Axes>"
      ]
     },
     "metadata": {
      "needs_background": "light"
     },
     "output_type": "display_data"
    }
   ],
   "source": [
    "pca=PCA()\n",
    "pca.fit(num_X)\n",
    "evr_cumsum = np.cumsum(pca.explained_variance_ratio_)\n",
    "plt.plot(np.linspace(1,len(evr_cumsum),num=len(evr_cumsum)),evr_cumsum)\n",
    "plt.xlabel(\"n_components\")\n",
    "plt.ylabel(\"cumulative sum evr\")\n",
    "plt.show()"
   ]
  },
  {
   "cell_type": "code",
   "execution_count": 22,
   "id": "d6f90424",
   "metadata": {},
   "outputs": [
    {
     "data": {
      "text/plain": [
       "array([0.98378738, 0.98900472, 0.99264167, 0.99560909, 0.99814994,\n",
       "       0.99870971, 0.99907065, 0.9993996 , 0.99964204, 0.99978901,\n",
       "       0.99983527, 0.99987325, 0.99990988, 0.99994252, 0.99995914,\n",
       "       0.99997374, 0.99998449, 0.99999289, 0.99999624, 0.99999842,\n",
       "       0.99999987, 0.99999994, 0.99999996, 0.99999997, 0.99999998,\n",
       "       0.99999999, 0.99999999, 0.99999999, 1.        , 1.        ,\n",
       "       1.        , 1.        , 1.        , 1.        , 1.        ,\n",
       "       1.        ])"
      ]
     },
     "execution_count": 22,
     "metadata": {},
     "output_type": "execute_result"
    }
   ],
   "source": [
    "evr_cumsum"
   ]
  },
  {
   "cell_type": "markdown",
   "id": "3234888d",
   "metadata": {},
   "source": [
    "Already the first one is $98 \\%$ ! That is a lot! So we don't need to keep many other features as it may cause overfitting."
   ]
  },
  {
   "cell_type": "markdown",
   "id": "10ddfc7d",
   "metadata": {},
   "source": [
    "Good! There is no null value anymore. \n",
    "\n",
    "Let's see what should be kept from the categorical ones"
   ]
  },
  {
   "cell_type": "code",
   "execution_count": 23,
   "id": "15a1b87d",
   "metadata": {},
   "outputs": [
    {
     "data": {
      "text/plain": [
       "(38,\n",
       " (1200, 43),\n",
       " {'Alley': 1126,\n",
       "  'FireplaceQu': 555,\n",
       "  'PoolQC': 1194,\n",
       "  'Fence': 959,\n",
       "  'MiscFeature': 1158})"
      ]
     },
     "execution_count": 23,
     "metadata": {},
     "output_type": "execute_result"
    }
   ],
   "source": [
    "cat_attr_list, dropped_cat = dc_expl_keep_or_throw_away(X_cp_cat)\n",
    "len(cat_attr_list),X_cp_cat.shape,dropped_cat"
   ]
  },
  {
   "cell_type": "markdown",
   "id": "5b0df0a8",
   "metadata": {},
   "source": [
    "Ok, 5 features had a lot of NaNs and were dropped. "
   ]
  },
  {
   "cell_type": "code",
   "execution_count": 24,
   "id": "c8fe46ab",
   "metadata": {},
   "outputs": [],
   "source": [
    "X_train_cat_kept = X_cp_cat[cat_attr_list]"
   ]
  },
  {
   "cell_type": "markdown",
   "id": "ad29c253",
   "metadata": {},
   "source": [
    "Let's fill the rest of NaN:"
   ]
  },
  {
   "cell_type": "code",
   "execution_count": 25,
   "id": "bbd8755a",
   "metadata": {},
   "outputs": [],
   "source": [
    "cat_dc_exp_imputer = SimpleImputer(strategy=\"most_frequent\")\n",
    "\n",
    "\n",
    "cat_X= cat_dc_exp_imputer.fit_transform(X_train_cat_kept)\n",
    "\n",
    "# And to make it a data frame again\n",
    "\n",
    "X_cat_prep =pd.DataFrame(cat_X,columns=X_train_cat_kept.columns,index = X_train_cat_kept.index)"
   ]
  },
  {
   "cell_type": "code",
   "execution_count": 26,
   "id": "5e7703cc",
   "metadata": {},
   "outputs": [
    {
     "name": "stdout",
     "output_type": "stream",
     "text": [
      "<class 'pandas.core.frame.DataFrame'>\n",
      "Int64Index: 1200 entries, 27 to 159\n",
      "Data columns (total 38 columns):\n",
      " #   Column         Non-Null Count  Dtype \n",
      "---  ------         --------------  ----- \n",
      " 0   MSZoning       1200 non-null   object\n",
      " 1   Street         1200 non-null   object\n",
      " 2   LotShape       1200 non-null   object\n",
      " 3   LandContour    1200 non-null   object\n",
      " 4   Utilities      1200 non-null   object\n",
      " 5   LotConfig      1200 non-null   object\n",
      " 6   LandSlope      1200 non-null   object\n",
      " 7   Neighborhood   1200 non-null   object\n",
      " 8   Condition1     1200 non-null   object\n",
      " 9   Condition2     1200 non-null   object\n",
      " 10  BldgType       1200 non-null   object\n",
      " 11  HouseStyle     1200 non-null   object\n",
      " 12  RoofStyle      1200 non-null   object\n",
      " 13  RoofMatl       1200 non-null   object\n",
      " 14  Exterior1st    1200 non-null   object\n",
      " 15  Exterior2nd    1200 non-null   object\n",
      " 16  MasVnrType     1200 non-null   object\n",
      " 17  ExterQual      1200 non-null   object\n",
      " 18  ExterCond      1200 non-null   object\n",
      " 19  Foundation     1200 non-null   object\n",
      " 20  BsmtQual       1200 non-null   object\n",
      " 21  BsmtCond       1200 non-null   object\n",
      " 22  BsmtExposure   1200 non-null   object\n",
      " 23  BsmtFinType1   1200 non-null   object\n",
      " 24  BsmtFinType2   1200 non-null   object\n",
      " 25  Heating        1200 non-null   object\n",
      " 26  HeatingQC      1200 non-null   object\n",
      " 27  CentralAir     1200 non-null   object\n",
      " 28  Electrical     1200 non-null   object\n",
      " 29  KitchenQual    1200 non-null   object\n",
      " 30  Functional     1200 non-null   object\n",
      " 31  GarageType     1200 non-null   object\n",
      " 32  GarageFinish   1200 non-null   object\n",
      " 33  GarageQual     1200 non-null   object\n",
      " 34  GarageCond     1200 non-null   object\n",
      " 35  PavedDrive     1200 non-null   object\n",
      " 36  SaleType       1200 non-null   object\n",
      " 37  SaleCondition  1200 non-null   object\n",
      "dtypes: object(38)\n",
      "memory usage: 365.6+ KB\n"
     ]
    }
   ],
   "source": [
    "X_cat_prep.info()"
   ]
  },
  {
   "cell_type": "code",
   "execution_count": 27,
   "id": "e55941bd",
   "metadata": {},
   "outputs": [
    {
     "data": {
      "text/plain": [
       "230"
      ]
     },
     "execution_count": 27,
     "metadata": {},
     "output_type": "execute_result"
    }
   ],
   "source": [
    "cat_hot_enc = OneHotEncoder()\n",
    "\n",
    "X_cat_enc = cat_hot_enc.fit_transform(X_cat_prep)\n",
    "\n",
    "X_cat_enc.shape[1]"
   ]
  },
  {
   "cell_type": "markdown",
   "id": "a64208fe",
   "metadata": {},
   "source": [
    "So we now have $230$ features from the categorical attributes! But This is not necessary useful. Because For instance \"Street\" attribute has two possibilities, but most of the data are \"Pave\" meaning paved based on the accompanied text file:"
   ]
  },
  {
   "cell_type": "code",
   "execution_count": 28,
   "id": "9656df5a",
   "metadata": {},
   "outputs": [
    {
     "data": {
      "text/plain": [
       "0.9975"
      ]
     },
     "execution_count": 28,
     "metadata": {},
     "output_type": "execute_result"
    }
   ],
   "source": [
    "np.mean(X_cat_prep[\"Street\"]==\"Pave\")"
   ]
  },
  {
   "cell_type": "markdown",
   "id": "114f5ab6",
   "metadata": {},
   "source": [
    "The same could happen in the other features. We can go through it all the features and see what is relevant to keep and what to drop. But it is better to automize it. Here we can use **PCA** to select good and reasonable subspace of the data, but since the data is sprase we need **TruncatedSVD**:"
   ]
  },
  {
   "cell_type": "code",
   "execution_count": 29,
   "id": "d4c6d8de",
   "metadata": {
    "scrolled": true
   },
   "outputs": [
    {
     "data": {
      "image/png": "[encoded data removed]",
      "text/plain": [
       "<Figure size 432x288 with 1 Axes>"
      ]
     },
     "metadata": {
      "needs_background": "light"
     },
     "output_type": "display_data"
    }
   ],
   "source": [
    "tsvd_cat = TruncatedSVD(n_components=X_cat_enc.shape[1]-1,n_iter=10)\n",
    "tsvd_cat.fit(X_cat_enc)\n",
    "#tsvd_cat.explained_variance_ratio_\n",
    "evr_cumsum = np.cumsum(tsvd_cat.explained_variance_ratio_)\n",
    "plt.plot(np.linspace(1,len(evr_cumsum),num=len(evr_cumsum)),evr_cumsum)\n",
    "plt.xlabel(\"n_components\")\n",
    "plt.ylabel(\"cumulative sum evr\")\n",
    "plt.show()"
   ]
  },
  {
   "cell_type": "code",
   "execution_count": 30,
   "id": "eb4fdd40",
   "metadata": {},
   "outputs": [
    {
     "data": {
      "text/plain": [
       "86"
      ]
     },
     "execution_count": 30,
     "metadata": {},
     "output_type": "execute_result"
    }
   ],
   "source": [
    "dim_reduced = np.argmax(evr_cumsum>=0.95) + 1\n",
    "dim_reduced"
   ]
  },
  {
   "cell_type": "code",
   "execution_count": 31,
   "id": "d79607c7",
   "metadata": {},
   "outputs": [
    {
     "data": {
      "text/plain": [
       "numpy.ndarray"
      ]
     },
     "execution_count": 31,
     "metadata": {},
     "output_type": "execute_result"
    }
   ],
   "source": [
    "opt_tsvd = TruncatedSVD(n_components = dim_reduced,n_iter=10,random_state=42)\n",
    "\n",
    "X_cat_projected = opt_tsvd.fit_transform(X_cat_enc)\n",
    "\n",
    "type(X_cat_projected)"
   ]
  },
  {
   "cell_type": "code",
   "execution_count": 32,
   "id": "f1e138c6",
   "metadata": {},
   "outputs": [
    {
     "data": {
      "text/plain": [
       "pandas.core.frame.DataFrame"
      ]
     },
     "execution_count": 32,
     "metadata": {},
     "output_type": "execute_result"
    }
   ],
   "source": [
    "type(X_num_prep)"
   ]
  },
  {
   "cell_type": "code",
   "execution_count": 33,
   "id": "a68521bb",
   "metadata": {},
   "outputs": [
    {
     "data": {
      "text/plain": [
       "scipy.sparse.csr.csr_matrix"
      ]
     },
     "execution_count": 33,
     "metadata": {},
     "output_type": "execute_result"
    }
   ],
   "source": [
    "type(X_cat_enc)"
   ]
  },
  {
   "cell_type": "markdown",
   "id": "cfa42bad",
   "metadata": {},
   "source": [
    "We can in the end merge the two prepared numerical and categorical features and merge them as follows:\n",
    "\n",
    "`np.c_[X_num_prep,X_cat_projected]`\n",
    "\n",
    "But we will write a pipeline to automize everything and be able to feed it with new data. "
   ]
  },
  {
   "cell_type": "markdown",
   "id": "080af542",
   "metadata": {},
   "source": [
    "## <font color='blue'> 5. Summarize what you have learned and the steps for the pipelines. </font>\n",
    "\n",
    "### Numerical :\n",
    "   - For the numerical attributes we decided to keep `num_attr_list`. In this case it is basically all of the numerical attributes, but could have been different. This list will be feeded to the final `ColumnTransformer`.\n",
    "\n",
    "   1) To fill the missing values we use the `median` strategy. This will be the first step of the `numerical_pipeline`.\n",
    "   \n",
    "   2) To reduce the dimension we add pca and just keep $1-5$ of them. \n",
    "    \n",
    "   3) What we haven't done above is scaling. That should be done after filling the missing values, and since we have a regression task, it would be important and useful. \n",
    "\n",
    "\n",
    "### Categorical: \n",
    "   - For the numerical attributes we decided to keep `cat_attr_list`. In this case it has 5 less features than the original list. This list will be feeded to the final `ColumnTransformer`.\n",
    "\n",
    "   1) To fill the missing values we use the `most_frequent` strategy.\n",
    "\n",
    "   2) We use `OneHotEncoder` to change the categorical values to the vectors. It has a very large dimension, $220$.\n",
    "   \n",
    "   3) To reduce the dimension the OneHot outcome,vwe use `TruncatedSVD`. It would be handy to write this as a class.\n"
   ]
  },
  {
   "cell_type": "markdown",
   "id": "1d43fb7a",
   "metadata": {},
   "source": [
    "## <font color='blue'> 6. Make the pipelines. </font>\n",
    "\n",
    "### Numerical Pipeline: "
   ]
  },
  {
   "cell_type": "code",
   "execution_count": 34,
   "id": "fc11d939",
   "metadata": {},
   "outputs": [],
   "source": [
    "## to do some checks pca is not here!\n",
    "v0_numerical_ppl = Pipeline([\n",
    "    ('num_imputer',SimpleImputer(strategy=\"median\")),\n",
    "    ('std_scaler',StandardScaler())\n",
    "]\n",
    ")"
   ]
  },
  {
   "cell_type": "markdown",
   "id": "efde3109",
   "metadata": {},
   "source": [
    "### Categorical Pipeline:\n",
    "\n",
    "To write this we first need to write the class for the dimensional reduction. We can give this two parameters: \n",
    "1) Whether to do it or not.\n",
    "2) what should be the `explained_variance_ratio_`."
   ]
  },
  {
   "cell_type": "code",
   "execution_count": 35,
   "id": "9c0d3c85",
   "metadata": {},
   "outputs": [],
   "source": [
    "class CategoricalDimRed(BaseEstimator,TransformerMixin):\n",
    "    \n",
    "    def __init__(self,reduction_on=True,cum_evr=0.95):\n",
    "        self.reduction_on = reduction_on\n",
    "        self.cum_evr = cum_evr\n",
    "        \n",
    "    def fit(self,X,y=None):\n",
    "        X_cp = copy.deepcopy(X)\n",
    "        if self.reduction_on:\n",
    "            tsvd= TruncatedSVD(n_components=X_cp.shape[1]-1,n_iter=10,random_state=42)\n",
    "            tsvd.fit(X_cp)\n",
    "            evr_cumsum = np.cumsum(tsvd.explained_variance_ratio_)\n",
    "            subspace_dim = np.argmax(evr_cumsum>=self.cum_evr) +1 \n",
    "            self.tsvd_ = TruncatedSVD(n_components = subspace_dim,n_iter=10,random_state=42)\n",
    "            self.tsvd_.fit(X_cp)\n",
    "        return self\n",
    "    \n",
    "    def transform(self,X):\n",
    "        X_cp = copy.deepcopy(X)\n",
    "        return self.tsvd_.transform(X_cp) if self.reduction_on else X_cp             "
   ]
  },
  {
   "cell_type": "markdown",
   "id": "616cd20e",
   "metadata": {},
   "source": [
    "Let's check that it works: \n",
    "\n",
    "To compare and get the exact same result, one need to set the same random_state every where. "
   ]
  },
  {
   "cell_type": "code",
   "execution_count": 36,
   "id": "a4bd85d1",
   "metadata": {},
   "outputs": [],
   "source": [
    "test_cat =copy.deepcopy(X_cat_enc)\n",
    "class_test = CategoricalDimRed()\n",
    "\n",
    "output_test = class_test.fit_transform(test_cat)"
   ]
  },
  {
   "cell_type": "markdown",
   "id": "7e367f3f",
   "metadata": {},
   "source": [
    "We can now check the output type and chape and compare it with what we had in the previous section, namely `X_cat_projected`:"
   ]
  },
  {
   "cell_type": "code",
   "execution_count": 37,
   "id": "3a90819a",
   "metadata": {},
   "outputs": [
    {
     "data": {
      "text/plain": [
       "(numpy.ndarray, (1200, 86))"
      ]
     },
     "execution_count": 37,
     "metadata": {},
     "output_type": "execute_result"
    }
   ],
   "source": [
    "type(output_test),output_test.shape"
   ]
  },
  {
   "cell_type": "code",
   "execution_count": 38,
   "id": "45742fd9",
   "metadata": {},
   "outputs": [
    {
     "data": {
      "text/plain": [
       "(1200, 86)"
      ]
     },
     "execution_count": 38,
     "metadata": {},
     "output_type": "execute_result"
    }
   ],
   "source": [
    "X_cat_projected.shape"
   ]
  },
  {
   "cell_type": "code",
   "execution_count": 39,
   "id": "d8817bf5",
   "metadata": {},
   "outputs": [
    {
     "data": {
      "text/plain": [
       "array([[ True,  True,  True, ...,  True,  True,  True],\n",
       "       [ True,  True,  True, ...,  True,  True,  True],\n",
       "       [ True,  True,  True, ...,  True,  True,  True],\n",
       "       ...,\n",
       "       [ True,  True,  True, ...,  True,  True,  True],\n",
       "       [ True,  True,  True, ...,  True,  True,  True],\n",
       "       [ True,  True,  True, ...,  True,  True,  True]])"
      ]
     },
     "execution_count": 39,
     "metadata": {},
     "output_type": "execute_result"
    }
   ],
   "source": [
    "X_cat_projected==output_test"
   ]
  },
  {
   "cell_type": "markdown",
   "id": "6c38ce32",
   "metadata": {},
   "source": [
    "And now we can write our categorical pipeline:"
   ]
  },
  {
   "cell_type": "code",
   "execution_count": 40,
   "id": "f0e1293c",
   "metadata": {},
   "outputs": [],
   "source": [
    "v0_categorical_ppl = Pipeline([\n",
    "    ('cat_imputer',SimpleImputer(strategy=\"most_frequent\")),\n",
    "    ('cat_onehot_enc',OneHotEncoder()),\n",
    "    ('cat_dim_reduction',CategoricalDimRed())\n",
    "]\n",
    ")"
   ]
  },
  {
   "cell_type": "markdown",
   "id": "cd7f7ec9",
   "metadata": {},
   "source": [
    "###  <font color='blue'> And the V0_ full pipeline: </font> \n",
    "\n",
    "We will have variation of these pipelines later. "
   ]
  },
  {
   "cell_type": "code",
   "execution_count": 41,
   "id": "f7c8c712",
   "metadata": {},
   "outputs": [],
   "source": [
    "v0_full_ppl=ColumnTransformer([\n",
    "    (\"numerical\",v0_numerical_ppl,num_attr_list),\n",
    "    (\"categorical\",v0_categorical_ppl,cat_attr_list)\n",
    "]\n",
    ")"
   ]
  },
  {
   "cell_type": "markdown",
   "id": "ccbdc3ae",
   "metadata": {},
   "source": [
    "Let's check it: \n",
    "(Note that in the previous section we didn't do the scaling, so here we have it)"
   ]
  },
  {
   "cell_type": "code",
   "execution_count": 42,
   "id": "661d8c58",
   "metadata": {},
   "outputs": [],
   "source": [
    "dc_epl_X_final = np.c_[StandardScaler().fit_transform(X_num_prep),X_cat_projected]"
   ]
  },
  {
   "cell_type": "code",
   "execution_count": 43,
   "id": "5d1a42c2",
   "metadata": {},
   "outputs": [],
   "source": [
    "test_full_ppl_output = v0_full_ppl.fit_transform(X_cp_train) "
   ]
  },
  {
   "cell_type": "code",
   "execution_count": 44,
   "id": "acda994f",
   "metadata": {},
   "outputs": [
    {
     "data": {
      "text/plain": [
       "((1200, 122), (1200, 122))"
      ]
     },
     "execution_count": 44,
     "metadata": {},
     "output_type": "execute_result"
    }
   ],
   "source": [
    "test_full_ppl_output.shape,dc_epl_X_final.shape"
   ]
  },
  {
   "cell_type": "code",
   "execution_count": 45,
   "id": "7dd4a2f4",
   "metadata": {},
   "outputs": [
    {
     "data": {
      "text/plain": [
       "array([[ True,  True,  True, ...,  True,  True,  True],\n",
       "       [ True,  True,  True, ...,  True,  True,  True],\n",
       "       [ True,  True,  True, ...,  True,  True,  True],\n",
       "       ...,\n",
       "       [ True,  True,  True, ...,  True,  True,  True],\n",
       "       [ True,  True,  True, ...,  True,  True,  True],\n",
       "       [ True,  True,  True, ...,  True,  True,  True]])"
      ]
     },
     "execution_count": 45,
     "metadata": {},
     "output_type": "execute_result"
    }
   ],
   "source": [
    "dc_epl_X_final==test_full_ppl_output"
   ]
  },
  {
   "cell_type": "markdown",
   "id": "0343c304",
   "metadata": {},
   "source": [
    "Fantastic:) We have a nice pipeline for our preprocessing and it works as it should. \n",
    "\n",
    "We haven't engineered any new feature, but we can add higher order polynomials of the numerics. But I want to add one thing, and that is scaling the categorical data after the truncation. The other thing is that there could be rare category values that haven't bben appeared in the training. We set `handle_unknown='ignore'`, so the OneHot Encoder attributes all zero to them. \n",
    "\n",
    "By try-and-error I also found that by reducing the number of features one get a better result, specially on the submission to Kaggle. So I add a dimensional \n",
    "\n",
    "1) Add pca() and keep a first few. \n",
    "\n",
    "2) for the categorical one we set a small `explained_variance_ratio`. \n",
    "\n",
    "Later we try to find a good number of components for pca and tsvd. \n",
    "\n",
    "\n",
    "\n",
    "###  <font color='blue'> And the V1_ full pipeline: </font> \n"
   ]
  },
  {
   "cell_type": "code",
   "execution_count": 51,
   "id": "7cec64e4",
   "metadata": {},
   "outputs": [],
   "source": [
    "v1_numerical_ppl = copy.deepcopy(v0_numerical_ppl)\n",
    "\n",
    "v1_categorical_ppl = Pipeline([\n",
    "    ('cat_imputer',SimpleImputer(strategy=\"most_frequent\")),\n",
    "    ('cat_onehot_enc',OneHotEncoder(handle_unknown='ignore')),\n",
    "    ('cat_dim_reduction',CategoricalDimRed(reduction_on=True,cum_evr=0.95)),\n",
    "    ('cat_scaling',StandardScaler())    \n",
    "]\n",
    ")\n",
    "\n",
    "v1_full_ppl=ColumnTransformer([\n",
    "    (\"numerical\",v1_numerical_ppl,num_attr_list),\n",
    "    (\"categorical\",v1_categorical_ppl,cat_attr_list)\n",
    "]\n",
    ")"
   ]
  },
  {
   "cell_type": "markdown",
   "id": "412d612a",
   "metadata": {},
   "source": [
    "##  <font color='blue'> 7. Prepare the train and test data to be feeded to models. </font> \n"
   ]
  },
  {
   "cell_type": "code",
   "execution_count": 52,
   "id": "647fbb0b",
   "metadata": {},
   "outputs": [],
   "source": [
    "X_train_v1 =  v1_full_ppl.fit_transform(X_cp_train) \n",
    "X_test_v1 = v1_full_ppl.transform(X_cp_test)\n",
    "X_full_v1 = v1_full_ppl.transform(full_kaggle_train_X)\n",
    "\n",
    "Y_train = copy.deepcopy(Y_cp_train)\n",
    "Y_test  = copy.deepcopy(Y_cp_test)\n",
    "Y_full = copy.deepcopy(full_kaggle_train_Y)"
   ]
  },
  {
   "cell_type": "markdown",
   "id": "62a73c01",
   "metadata": {},
   "source": [
    "# E) Shortlist Promising Models\n",
    "\n",
    "- If the data is huge, you may want to sample smaller training sets so you can train many different models in a reasonable time (be aware that this penalizes complex models such as large neural nets or Random Forests) \n",
    "\n",
    "- Once again, try to automate these steps as much as possible. \n",
    "\n",
    "##  <font color='blue'> 1. Train many quick-and-dirty models from different categories using standard parameters. </font> \n",
    "\n",
    "Ok, let's throw all that we know at it :) \n",
    "\n",
    "### i) Linear Regression\n"
   ]
  },
  {
   "cell_type": "code",
   "execution_count": 64,
   "id": "a9e75a1f",
   "metadata": {},
   "outputs": [
    {
     "data": {
      "text/plain": [
       "(array([0.12865901, 0.11084789, 0.12072403, 0.17640911, 0.14587738,\n",
       "        0.11112828, 0.13756127, 0.10928125, 0.23065349, 0.13686208]),\n",
       " 0.14080037933447526,\n",
       " 0.0356578938455054)"
      ]
     },
     "execution_count": 64,
     "metadata": {},
     "output_type": "execute_result"
    }
   ],
   "source": [
    "lin_reg = LinearRegression()\n",
    "lin_reg_score = cross_val_score(lin_reg,X_full_v1,Y_full,scoring=\"neg_mean_squared_error\",cv=10)\n",
    "lin_reg_rmse_score = np.sqrt(-lin_reg_score)\n",
    "lin_reg_rmse_score,np.mean(lin_reg_rmse_score),np.std(lin_reg_rmse_score)"
   ]
  },
  {
   "cell_type": "code",
   "execution_count": 65,
   "id": "38c75663",
   "metadata": {},
   "outputs": [
    {
     "data": {
      "text/plain": [
       "(array([0.88394393, 0.92002843, 0.91910831, 0.8283385 , 0.89691694,\n",
       "        0.90421863, 0.87439073, 0.91393869, 0.62454999, 0.88407848]),\n",
       " 0.8649512625246292,\n",
       " 0.08418961992245137)"
      ]
     },
     "execution_count": 65,
     "metadata": {},
     "output_type": "execute_result"
    }
   ],
   "source": [
    "lin_reg_score = cross_val_score(lin_reg,X_full_v1,Y_full,scoring=\"r2\",cv=10)\n",
    "lin_reg_score,np.mean(lin_reg_score),np.std(lin_reg_score)"
   ]
  },
  {
   "cell_type": "markdown",
   "id": "d2b41fe8",
   "metadata": {},
   "source": [
    "OK,let's do a fit and prediction the kaggle test:"
   ]
  },
  {
   "cell_type": "code",
   "execution_count": 55,
   "id": "949fae20",
   "metadata": {},
   "outputs": [
    {
     "data": {
      "text/plain": [
       "LinearRegression()"
      ]
     },
     "execution_count": 55,
     "metadata": {},
     "output_type": "execute_result"
    }
   ],
   "source": [
    "lin_reg.fit(X_full_v1,Y_full)"
   ]
  },
  {
   "cell_type": "code",
   "execution_count": 56,
   "id": "8c15277e",
   "metadata": {},
   "outputs": [],
   "source": [
    "kaggle_test_X= kaggle_test_data.drop([\"Id\"],axis=1)\n",
    "kag_test_v1 =  v1_full_ppl.transform(kaggle_test_X)\n",
    "kag_test_Y_pred = lin_reg.predict(kag_test_v1)\n",
    "#note that we took the log, so we need to invert it now:\n",
    "Y_test_submission=np.exp(kag_test_Y_pred)"
   ]
  },
  {
   "cell_type": "code",
   "execution_count": 57,
   "id": "59da7f26",
   "metadata": {},
   "outputs": [
    {
     "name": "stdout",
     "output_type": "stream",
     "text": [
      "Your submission was successfully saved!\n"
     ]
    }
   ],
   "source": [
    "output = pd.DataFrame({'Id': kaggle_test_data.Id, 'SalePrice': Y_test_submission})\n",
    "output.to_csv('kag_test_pred_lin_reg_v1.csv', index=False)\n",
    "print(\"Your submission was successfully saved!\")"
   ]
  },
  {
   "cell_type": "markdown",
   "id": "bf9b042b",
   "metadata": {},
   "source": [
    "### ii) Decision Tree"
   ]
  },
  {
   "cell_type": "code",
   "execution_count": 66,
   "id": "2ece881d",
   "metadata": {},
   "outputs": [
    {
     "data": {
      "text/plain": [
       "(array([0.2443908 , 0.22101585, 0.23497262, 0.20635419, 0.25217246,\n",
       "        0.21216866, 0.23315491, 0.18718217, 0.24596918, 0.24284285]),\n",
       " 0.2280223695972396,\n",
       " 0.01976208399749564)"
      ]
     },
     "execution_count": 66,
     "metadata": {},
     "output_type": "execute_result"
    }
   ],
   "source": [
    "dt_reg = DecisionTreeRegressor()\n",
    "dt_reg_score = cross_val_score(dt_reg,X_full_v1,Y_full,scoring=\"neg_mean_squared_error\",cv=10)\n",
    "neg_det_reg_score=np.sqrt(-dt_reg_score)\n",
    "neg_det_reg_score,np.mean(neg_det_reg_score),np.std(neg_det_reg_score)"
   ]
  },
  {
   "cell_type": "code",
   "execution_count": 67,
   "id": "59db8ea7",
   "metadata": {},
   "outputs": [
    {
     "data": {
      "text/plain": [
       "(array([0.57536755, 0.68952137, 0.67758635, 0.66054134, 0.68904274,\n",
       "        0.65954433, 0.63924726, 0.73220335, 0.56491874, 0.58456389]),\n",
       " 0.6472536917141865,\n",
       " 0.05285621364372046)"
      ]
     },
     "execution_count": 67,
     "metadata": {},
     "output_type": "execute_result"
    }
   ],
   "source": [
    "dt_reg_score = cross_val_score(dt_reg,X_full_v1,Y_full,scoring=\"r2\",cv=10)\n",
    "dt_reg_score,np.mean(dt_reg_score),np.std(dt_reg_score)"
   ]
  },
  {
   "cell_type": "markdown",
   "id": "051b95f6",
   "metadata": {},
   "source": [
    "OK, clearly the linear regression is much better. \n",
    "\n",
    "### iii) Random Forest Regressor"
   ]
  },
  {
   "cell_type": "code",
   "execution_count": 68,
   "id": "380b4151",
   "metadata": {},
   "outputs": [
    {
     "data": {
      "text/plain": [
       "(array([0.15071817, 0.13015595, 0.14223554, 0.17555667, 0.17360216,\n",
       "        0.11883106, 0.15217017, 0.12272812, 0.14452503, 0.16354191]),\n",
       " 0.14740647916761535,\n",
       " 0.018790575602353712)"
      ]
     },
     "execution_count": 68,
     "metadata": {},
     "output_type": "execute_result"
    }
   ],
   "source": [
    "rnd_for_reg=RandomForestRegressor()\n",
    "rnd_for_reg_scores =cross_val_score(rnd_for_reg,X_full_v1,Y_full,scoring=\"neg_mean_squared_error\",cv=10)\n",
    "rmse_rnd_for_reg = np.sqrt(-rnd_for_reg_scores)\n",
    "rmse_rnd_for_reg,np.mean(rmse_rnd_for_reg),np.std(rmse_rnd_for_reg)"
   ]
  },
  {
   "cell_type": "code",
   "execution_count": 69,
   "id": "ef8bf08d",
   "metadata": {},
   "outputs": [
    {
     "data": {
      "text/plain": [
       "(array([0.82311368, 0.89190034, 0.88772731, 0.83165618, 0.84320721,\n",
       "        0.8829471 , 0.86229852, 0.88816401, 0.83775985, 0.8382031 ]),\n",
       " 0.8586977294312887,\n",
       " 0.02551517232136126)"
      ]
     },
     "execution_count": 69,
     "metadata": {},
     "output_type": "execute_result"
    }
   ],
   "source": [
    "rnd_for_reg_scores =cross_val_score(rnd_for_reg,X_full_v1,Y_full,scoring=\"r2\",cv=10)\n",
    "rnd_for_reg_scores,np.mean(rnd_for_reg_scores),np.std(rnd_for_reg_scores)"
   ]
  },
  {
   "cell_type": "code",
   "execution_count": 62,
   "id": "c2914884",
   "metadata": {},
   "outputs": [
    {
     "data": {
      "text/plain": [
       "RandomForestRegressor()"
      ]
     },
     "execution_count": 62,
     "metadata": {},
     "output_type": "execute_result"
    }
   ],
   "source": [
    "rnd_for_reg.fit(X_full_v1,Y_full)"
   ]
  },
  {
   "cell_type": "code",
   "execution_count": 63,
   "id": "5a4088f7",
   "metadata": {},
   "outputs": [
    {
     "name": "stdout",
     "output_type": "stream",
     "text": [
      "Your submission was successfully saved!\n"
     ]
    }
   ],
   "source": [
    "rndf_Y_pred = rnd_for_reg.predict(kag_test_v1)\n",
    "#note that we took the log, so we need to invert it now:\n",
    "Y_test_submission=np.exp(rndf_Y_pred)\n",
    "\n",
    "output = pd.DataFrame({'Id': kaggle_test_data.Id, 'SalePrice': Y_test_submission})\n",
    "output.to_csv('kag_test_pred_rnd_for_v1.csv', index=False)\n",
    "print(\"Your submission was successfully saved!\")"
   ]
  },
  {
   "cell_type": "markdown",
   "id": "ff25bd8a",
   "metadata": {},
   "source": [
    "By submitting these to Kaggle I got the following scores (lower better!):\n",
    "\n",
    "- Lin Reg: 0.32401\n",
    "- Random Forest: 0.15151\n",
    "\n",
    "This is a huge difference! So The Random Forest does much better. \n",
    "\n",
    "If we look at the results of cross validation, we see that there is one set where the score is $0.23$, and one $0.17$ and the rest around $0.12-0.13$. This shows itself in the standard deviation: $0.035$, which is sth like twice of std of the Random Forest $0.019$. \n",
    "\n",
    "Moreover we see that the score, which should be the same as what we get with `scoring=\"neg_mean_squared_error\"`, for the Random Forest is quite close to the mean score we get here. For the Lin. Reg. there is a huge difference, factor of 2! \n",
    "\n",
    "Ok, looks like Random forest is quite promissing. So let's make the pipeline a bit more complex and perform a grid search to fine tune the model. "
   ]
  },
  {
   "cell_type": "code",
   "execution_count": 103,
   "id": "79c7ac06",
   "metadata": {},
   "outputs": [],
   "source": [
    "v2_numerical_ppl = Pipeline(steps=[\n",
    "    ('numimputer',SimpleImputer(strategy=\"median\")),\n",
    "    ('pca',PCA()),\n",
    "    ('num_poly',PolynomialFeatures(include_bias=False)),\n",
    "    ('stdscaler',StandardScaler())\n",
    "]\n",
    ")\n",
    "\n",
    "v2_categorical_ppl = Pipeline(steps=[\n",
    "    ('catimputer',SimpleImputer(strategy=\"most_frequent\")),\n",
    "    ('onehot',OneHotEncoder(handle_unknown='ignore')),\n",
    "    ('dimreduction',CategoricalDimRed(reduction_on=True)),\n",
    "    ('scaling',StandardScaler())    \n",
    "]\n",
    ")\n",
    "\n",
    "v2_full_ppl=ColumnTransformer([\n",
    "    (\"num\",v2_numerical_ppl,num_attr_list),\n",
    "    (\"cat\",v2_categorical_ppl,cat_attr_list)\n",
    "]\n",
    ")\n",
    "\n",
    "\n",
    "v2_data_to_model = Pipeline(steps=[\n",
    "    (\"dataprocess\",v2_full_ppl),\n",
    "    (\"Regmodel\",RandomForestRegressor())\n",
    "]\n",
    ")"
   ]
  },
  {
   "cell_type": "code",
   "execution_count": 117,
   "id": "1f9ee01d",
   "metadata": {},
   "outputs": [],
   "source": [
    "param_grid = {'dataprocess__num__pca__n_components':[10,20,len(num_attr_list)],\n",
    "             'dataprocess__num__num_poly__degree' :[1,2],\n",
    "              'dataprocess__cat__dimreduction__cum_evr':[0.25,0.5,0.75,0.98],\n",
    "              'Regmodel__n_estimators':[10,30,100],\n",
    "              'Regmodel__max_features':['auto','sqrt']\n",
    "             }"
   ]
  },
  {
   "cell_type": "code",
   "execution_count": 119,
   "id": "54682569",
   "metadata": {},
   "outputs": [
    {
     "name": "stdout",
     "output_type": "stream",
     "text": [
      "Fitting 5 folds for each of 144 candidates, totalling 720 fits\n",
      "[CV 1/5] END Regmodel__max_features=auto, Regmodel__n_estimators=10, dataprocess__cat__dimreduction__cum_evr=0.25, dataprocess__num__num_poly__degree=1, dataprocess__num__pca__n_components=10;, score=-0.024 total time=   0.2s\n",
      "[CV 2/5] END Regmodel__max_features=auto, Regmodel__n_estimators=10, dataprocess__cat__dimreduction__cum_evr=0.25, dataprocess__num__num_poly__degree=1, dataprocess__num__pca__n_components=10;, score=-0.027 total time=   0.2s\n",
      "[CV 3/5] END Regmodel__max_features=auto, Regmodel__n_estimators=10, dataprocess__cat__dimreduction__cum_evr=0.25, dataprocess__num__num_poly__degree=1, dataprocess__num__pca__n_components=10;, score=-0.030 total time=   0.2s\n",
      "[CV 4/5] END Regmodel__max_features=auto, Regmodel__n_estimators=10, dataprocess__cat__dimreduction__cum_evr=0.25, dataprocess__num__num_poly__degree=1, dataprocess__num__pca__n_components=10;, score=-0.032 total time=   0.2s\n",
      "[CV 5/5] END Regmodel__max_features=auto, Regmodel__n_estimators=10, dataprocess__cat__dimreduction__cum_evr=0.25, dataprocess__num__num_poly__degree=1, dataprocess__num__pca__n_components=10;, score=-0.037 total time=   0.2s\n",
      "[CV 1/5] END Regmodel__max_features=auto, Regmodel__n_estimators=10, dataprocess__cat__dimreduction__cum_evr=0.25, dataprocess__num__num_poly__degree=1, dataprocess__num__pca__n_components=20;, score=-0.025 total time=   0.3s\n",
      "[CV 2/5] END Regmodel__max_features=auto, Regmodel__n_estimators=10, dataprocess__cat__dimreduction__cum_evr=0.25, dataprocess__num__num_poly__degree=1, dataprocess__num__pca__n_components=20;, score=-0.024 total time=   0.3s\n",
      "[CV 3/5] END Regmodel__max_features=auto, Regmodel__n_estimators=10, dataprocess__cat__dimreduction__cum_evr=0.25, dataprocess__num__num_poly__degree=1, dataprocess__num__pca__n_components=20;, score=-0.028 total time=   0.3s\n",
      "[CV 4/5] END Regmodel__max_features=auto, Regmodel__n_estimators=10, dataprocess__cat__dimreduction__cum_evr=0.25, dataprocess__num__num_poly__degree=1, dataprocess__num__pca__n_components=20;, score=-0.035 total time=   0.3s\n",
      "[CV 5/5] END Regmodel__max_features=auto, Regmodel__n_estimators=10, dataprocess__cat__dimreduction__cum_evr=0.25, dataprocess__num__num_poly__degree=1, dataprocess__num__pca__n_components=20;, score=-0.038 total time=   0.3s\n",
      "[CV 1/5] END Regmodel__max_features=auto, Regmodel__n_estimators=10, dataprocess__cat__dimreduction__cum_evr=0.25, dataprocess__num__num_poly__degree=1, dataprocess__num__pca__n_components=36;, score=-0.022 total time=   0.3s\n",
      "[CV 2/5] END Regmodel__max_features=auto, Regmodel__n_estimators=10, dataprocess__cat__dimreduction__cum_evr=0.25, dataprocess__num__num_poly__degree=1, dataprocess__num__pca__n_components=36;, score=-0.025 total time=   0.3s\n",
      "[CV 3/5] END Regmodel__max_features=auto, Regmodel__n_estimators=10, dataprocess__cat__dimreduction__cum_evr=0.25, dataprocess__num__num_poly__degree=1, dataprocess__num__pca__n_components=36;, score=-0.027 total time=   0.3s\n",
      "[CV 4/5] END Regmodel__max_features=auto, Regmodel__n_estimators=10, dataprocess__cat__dimreduction__cum_evr=0.25, dataprocess__num__num_poly__degree=1, dataprocess__num__pca__n_components=36;, score=-0.026 total time=   0.3s\n",
      "[CV 5/5] END Regmodel__max_features=auto, Regmodel__n_estimators=10, dataprocess__cat__dimreduction__cum_evr=0.25, dataprocess__num__num_poly__degree=1, dataprocess__num__pca__n_components=36;, score=-0.039 total time=   0.3s\n",
      "[CV 1/5] END Regmodel__max_features=auto, Regmodel__n_estimators=10, dataprocess__cat__dimreduction__cum_evr=0.25, dataprocess__num__num_poly__degree=2, dataprocess__num__pca__n_components=10;, score=-0.029 total time=   0.4s\n",
      "[CV 2/5] END Regmodel__max_features=auto, Regmodel__n_estimators=10, dataprocess__cat__dimreduction__cum_evr=0.25, dataprocess__num__num_poly__degree=2, dataprocess__num__pca__n_components=10;, score=-0.027 total time=   0.4s\n",
      "[CV 3/5] END Regmodel__max_features=auto, Regmodel__n_estimators=10, dataprocess__cat__dimreduction__cum_evr=0.25, dataprocess__num__num_poly__degree=2, dataprocess__num__pca__n_components=10;, score=-0.027 total time=   0.4s\n",
      "[CV 4/5] END Regmodel__max_features=auto, Regmodel__n_estimators=10, dataprocess__cat__dimreduction__cum_evr=0.25, dataprocess__num__num_poly__degree=2, dataprocess__num__pca__n_components=10;, score=-0.034 total time=   0.4s\n",
      "[CV 5/5] END Regmodel__max_features=auto, Regmodel__n_estimators=10, dataprocess__cat__dimreduction__cum_evr=0.25, dataprocess__num__num_poly__degree=2, dataprocess__num__pca__n_components=10;, score=-0.039 total time=   0.4s\n",
      "[CV 1/5] END Regmodel__max_features=auto, Regmodel__n_estimators=10, dataprocess__cat__dimreduction__cum_evr=0.25, dataprocess__num__num_poly__degree=2, dataprocess__num__pca__n_components=20;, score=-0.029 total time=   0.9s\n",
      "[CV 2/5] END Regmodel__max_features=auto, Regmodel__n_estimators=10, dataprocess__cat__dimreduction__cum_evr=0.25, dataprocess__num__num_poly__degree=2, dataprocess__num__pca__n_components=20;, score=-0.026 total time=   1.0s\n",
      "[CV 3/5] END Regmodel__max_features=auto, Regmodel__n_estimators=10, dataprocess__cat__dimreduction__cum_evr=0.25, dataprocess__num__num_poly__degree=2, dataprocess__num__pca__n_components=20;, score=-0.028 total time=   0.9s\n",
      "[CV 4/5] END Regmodel__max_features=auto, Regmodel__n_estimators=10, dataprocess__cat__dimreduction__cum_evr=0.25, dataprocess__num__num_poly__degree=2, dataprocess__num__pca__n_components=20;, score=-0.035 total time=   0.9s\n",
      "[CV 5/5] END Regmodel__max_features=auto, Regmodel__n_estimators=10, dataprocess__cat__dimreduction__cum_evr=0.25, dataprocess__num__num_poly__degree=2, dataprocess__num__pca__n_components=20;, score=-0.039 total time=   0.9s\n",
      "[CV 1/5] END Regmodel__max_features=auto, Regmodel__n_estimators=10, dataprocess__cat__dimreduction__cum_evr=0.25, dataprocess__num__num_poly__degree=2, dataprocess__num__pca__n_components=36;, score=-0.031 total time=   2.4s\n",
      "[CV 2/5] END Regmodel__max_features=auto, Regmodel__n_estimators=10, dataprocess__cat__dimreduction__cum_evr=0.25, dataprocess__num__num_poly__degree=2, dataprocess__num__pca__n_components=36;, score=-0.026 total time=   2.4s\n",
      "[CV 3/5] END Regmodel__max_features=auto, Regmodel__n_estimators=10, dataprocess__cat__dimreduction__cum_evr=0.25, dataprocess__num__num_poly__degree=2, dataprocess__num__pca__n_components=36;, score=-0.035 total time=   2.5s\n",
      "[CV 4/5] END Regmodel__max_features=auto, Regmodel__n_estimators=10, dataprocess__cat__dimreduction__cum_evr=0.25, dataprocess__num__num_poly__degree=2, dataprocess__num__pca__n_components=36;, score=-0.036 total time=   2.4s\n",
      "[CV 5/5] END Regmodel__max_features=auto, Regmodel__n_estimators=10, dataprocess__cat__dimreduction__cum_evr=0.25, dataprocess__num__num_poly__degree=2, dataprocess__num__pca__n_components=36;, score=-0.043 total time=   2.4s\n",
      "[CV 1/5] END Regmodel__max_features=auto, Regmodel__n_estimators=10, dataprocess__cat__dimreduction__cum_evr=0.5, dataprocess__num__num_poly__degree=1, dataprocess__num__pca__n_components=10;, score=-0.024 total time=   0.3s\n",
      "[CV 2/5] END Regmodel__max_features=auto, Regmodel__n_estimators=10, dataprocess__cat__dimreduction__cum_evr=0.5, dataprocess__num__num_poly__degree=1, dataprocess__num__pca__n_components=10;, score=-0.024 total time=   0.3s\n",
      "[CV 3/5] END Regmodel__max_features=auto, Regmodel__n_estimators=10, dataprocess__cat__dimreduction__cum_evr=0.5, dataprocess__num__num_poly__degree=1, dataprocess__num__pca__n_components=10;, score=-0.030 total time=   0.3s\n",
      "[CV 4/5] END Regmodel__max_features=auto, Regmodel__n_estimators=10, dataprocess__cat__dimreduction__cum_evr=0.5, dataprocess__num__num_poly__degree=1, dataprocess__num__pca__n_components=10;, score=-0.029 total time=   0.3s\n",
      "[CV 5/5] END Regmodel__max_features=auto, Regmodel__n_estimators=10, dataprocess__cat__dimreduction__cum_evr=0.5, dataprocess__num__num_poly__degree=1, dataprocess__num__pca__n_components=10;, score=-0.037 total time=   0.3s\n",
      "[CV 1/5] END Regmodel__max_features=auto, Regmodel__n_estimators=10, dataprocess__cat__dimreduction__cum_evr=0.5, dataprocess__num__num_poly__degree=1, dataprocess__num__pca__n_components=20;, score=-0.027 total time=   0.3s\n"
     ]
    },
    {
     "name": "stdout",
     "output_type": "stream",
     "text": [
      "[CV 2/5] END Regmodel__max_features=auto, Regmodel__n_estimators=10, dataprocess__cat__dimreduction__cum_evr=0.5, dataprocess__num__num_poly__degree=1, dataprocess__num__pca__n_components=20;, score=-0.023 total time=   0.3s\n",
      "[CV 3/5] END Regmodel__max_features=auto, Regmodel__n_estimators=10, dataprocess__cat__dimreduction__cum_evr=0.5, dataprocess__num__num_poly__degree=1, dataprocess__num__pca__n_components=20;, score=-0.028 total time=   0.3s\n",
      "[CV 4/5] END Regmodel__max_features=auto, Regmodel__n_estimators=10, dataprocess__cat__dimreduction__cum_evr=0.5, dataprocess__num__num_poly__degree=1, dataprocess__num__pca__n_components=20;, score=-0.031 total time=   0.3s\n",
      "[CV 5/5] END Regmodel__max_features=auto, Regmodel__n_estimators=10, dataprocess__cat__dimreduction__cum_evr=0.5, dataprocess__num__num_poly__degree=1, dataprocess__num__pca__n_components=20;, score=-0.034 total time=   0.3s\n",
      "[CV 1/5] END Regmodel__max_features=auto, Regmodel__n_estimators=10, dataprocess__cat__dimreduction__cum_evr=0.5, dataprocess__num__num_poly__degree=1, dataprocess__num__pca__n_components=36;, score=-0.025 total time=   0.4s\n",
      "[CV 2/5] END Regmodel__max_features=auto, Regmodel__n_estimators=10, dataprocess__cat__dimreduction__cum_evr=0.5, dataprocess__num__num_poly__degree=1, dataprocess__num__pca__n_components=36;, score=-0.023 total time=   0.3s\n",
      "[CV 3/5] END Regmodel__max_features=auto, Regmodel__n_estimators=10, dataprocess__cat__dimreduction__cum_evr=0.5, dataprocess__num__num_poly__degree=1, dataprocess__num__pca__n_components=36;, score=-0.030 total time=   0.4s\n",
      "[CV 4/5] END Regmodel__max_features=auto, Regmodel__n_estimators=10, dataprocess__cat__dimreduction__cum_evr=0.5, dataprocess__num__num_poly__degree=1, dataprocess__num__pca__n_components=36;, score=-0.029 total time=   0.3s\n",
      "[CV 5/5] END Regmodel__max_features=auto, Regmodel__n_estimators=10, dataprocess__cat__dimreduction__cum_evr=0.5, dataprocess__num__num_poly__degree=1, dataprocess__num__pca__n_components=36;, score=-0.038 total time=   0.3s\n",
      "[CV 1/5] END Regmodel__max_features=auto, Regmodel__n_estimators=10, dataprocess__cat__dimreduction__cum_evr=0.5, dataprocess__num__num_poly__degree=2, dataprocess__num__pca__n_components=10;, score=-0.027 total time=   0.4s\n",
      "[CV 2/5] END Regmodel__max_features=auto, Regmodel__n_estimators=10, dataprocess__cat__dimreduction__cum_evr=0.5, dataprocess__num__num_poly__degree=2, dataprocess__num__pca__n_components=10;, score=-0.025 total time=   0.4s\n",
      "[CV 3/5] END Regmodel__max_features=auto, Regmodel__n_estimators=10, dataprocess__cat__dimreduction__cum_evr=0.5, dataprocess__num__num_poly__degree=2, dataprocess__num__pca__n_components=10;, score=-0.030 total time=   0.5s\n",
      "[CV 4/5] END Regmodel__max_features=auto, Regmodel__n_estimators=10, dataprocess__cat__dimreduction__cum_evr=0.5, dataprocess__num__num_poly__degree=2, dataprocess__num__pca__n_components=10;, score=-0.034 total time=   0.5s\n",
      "[CV 5/5] END Regmodel__max_features=auto, Regmodel__n_estimators=10, dataprocess__cat__dimreduction__cum_evr=0.5, dataprocess__num__num_poly__degree=2, dataprocess__num__pca__n_components=10;, score=-0.037 total time=   0.5s\n",
      "[CV 1/5] END Regmodel__max_features=auto, Regmodel__n_estimators=10, dataprocess__cat__dimreduction__cum_evr=0.5, dataprocess__num__num_poly__degree=2, dataprocess__num__pca__n_components=20;, score=-0.026 total time=   1.0s\n",
      "[CV 2/5] END Regmodel__max_features=auto, Regmodel__n_estimators=10, dataprocess__cat__dimreduction__cum_evr=0.5, dataprocess__num__num_poly__degree=2, dataprocess__num__pca__n_components=20;, score=-0.027 total time=   1.0s\n",
      "[CV 3/5] END Regmodel__max_features=auto, Regmodel__n_estimators=10, dataprocess__cat__dimreduction__cum_evr=0.5, dataprocess__num__num_poly__degree=2, dataprocess__num__pca__n_components=20;, score=-0.028 total time=   1.0s\n",
      "[CV 4/5] END Regmodel__max_features=auto, Regmodel__n_estimators=10, dataprocess__cat__dimreduction__cum_evr=0.5, dataprocess__num__num_poly__degree=2, dataprocess__num__pca__n_components=20;, score=-0.034 total time=   1.0s\n",
      "[CV 5/5] END Regmodel__max_features=auto, Regmodel__n_estimators=10, dataprocess__cat__dimreduction__cum_evr=0.5, dataprocess__num__num_poly__degree=2, dataprocess__num__pca__n_components=20;, score=-0.037 total time=   1.0s\n",
      "[CV 1/5] END Regmodel__max_features=auto, Regmodel__n_estimators=10, dataprocess__cat__dimreduction__cum_evr=0.5, dataprocess__num__num_poly__degree=2, dataprocess__num__pca__n_components=36;, score=-0.027 total time=   2.5s\n",
      "[CV 2/5] END Regmodel__max_features=auto, Regmodel__n_estimators=10, dataprocess__cat__dimreduction__cum_evr=0.5, dataprocess__num__num_poly__degree=2, dataprocess__num__pca__n_components=36;, score=-0.028 total time=   2.5s\n",
      "[CV 3/5] END Regmodel__max_features=auto, Regmodel__n_estimators=10, dataprocess__cat__dimreduction__cum_evr=0.5, dataprocess__num__num_poly__degree=2, dataprocess__num__pca__n_components=36;, score=-0.030 total time=   2.4s\n",
      "[CV 4/5] END Regmodel__max_features=auto, Regmodel__n_estimators=10, dataprocess__cat__dimreduction__cum_evr=0.5, dataprocess__num__num_poly__degree=2, dataprocess__num__pca__n_components=36;, score=-0.034 total time=   2.5s\n",
      "[CV 5/5] END Regmodel__max_features=auto, Regmodel__n_estimators=10, dataprocess__cat__dimreduction__cum_evr=0.5, dataprocess__num__num_poly__degree=2, dataprocess__num__pca__n_components=36;, score=-0.041 total time=   2.4s\n",
      "[CV 1/5] END Regmodel__max_features=auto, Regmodel__n_estimators=10, dataprocess__cat__dimreduction__cum_evr=0.75, dataprocess__num__num_poly__degree=1, dataprocess__num__pca__n_components=10;, score=-0.024 total time=   0.3s\n",
      "[CV 2/5] END Regmodel__max_features=auto, Regmodel__n_estimators=10, dataprocess__cat__dimreduction__cum_evr=0.75, dataprocess__num__num_poly__degree=1, dataprocess__num__pca__n_components=10;, score=-0.025 total time=   0.3s\n",
      "[CV 3/5] END Regmodel__max_features=auto, Regmodel__n_estimators=10, dataprocess__cat__dimreduction__cum_evr=0.75, dataprocess__num__num_poly__degree=1, dataprocess__num__pca__n_components=10;, score=-0.027 total time=   0.3s\n",
      "[CV 4/5] END Regmodel__max_features=auto, Regmodel__n_estimators=10, dataprocess__cat__dimreduction__cum_evr=0.75, dataprocess__num__num_poly__degree=1, dataprocess__num__pca__n_components=10;, score=-0.032 total time=   0.3s\n",
      "[CV 5/5] END Regmodel__max_features=auto, Regmodel__n_estimators=10, dataprocess__cat__dimreduction__cum_evr=0.75, dataprocess__num__num_poly__degree=1, dataprocess__num__pca__n_components=10;, score=-0.039 total time=   0.3s\n",
      "[CV 1/5] END Regmodel__max_features=auto, Regmodel__n_estimators=10, dataprocess__cat__dimreduction__cum_evr=0.75, dataprocess__num__num_poly__degree=1, dataprocess__num__pca__n_components=20;, score=-0.027 total time=   0.4s\n",
      "[CV 2/5] END Regmodel__max_features=auto, Regmodel__n_estimators=10, dataprocess__cat__dimreduction__cum_evr=0.75, dataprocess__num__num_poly__degree=1, dataprocess__num__pca__n_components=20;, score=-0.025 total time=   0.4s\n",
      "[CV 3/5] END Regmodel__max_features=auto, Regmodel__n_estimators=10, dataprocess__cat__dimreduction__cum_evr=0.75, dataprocess__num__num_poly__degree=1, dataprocess__num__pca__n_components=20;, score=-0.031 total time=   0.4s\n",
      "[CV 4/5] END Regmodel__max_features=auto, Regmodel__n_estimators=10, dataprocess__cat__dimreduction__cum_evr=0.75, dataprocess__num__num_poly__degree=1, dataprocess__num__pca__n_components=20;, score=-0.034 total time=   0.4s\n",
      "[CV 5/5] END Regmodel__max_features=auto, Regmodel__n_estimators=10, dataprocess__cat__dimreduction__cum_evr=0.75, dataprocess__num__num_poly__degree=1, dataprocess__num__pca__n_components=20;, score=-0.038 total time=   0.4s\n",
      "[CV 1/5] END Regmodel__max_features=auto, Regmodel__n_estimators=10, dataprocess__cat__dimreduction__cum_evr=0.75, dataprocess__num__num_poly__degree=1, dataprocess__num__pca__n_components=36;, score=-0.025 total time=   0.5s\n",
      "[CV 2/5] END Regmodel__max_features=auto, Regmodel__n_estimators=10, dataprocess__cat__dimreduction__cum_evr=0.75, dataprocess__num__num_poly__degree=1, dataprocess__num__pca__n_components=36;, score=-0.025 total time=   0.5s\n",
      "[CV 3/5] END Regmodel__max_features=auto, Regmodel__n_estimators=10, dataprocess__cat__dimreduction__cum_evr=0.75, dataprocess__num__num_poly__degree=1, dataprocess__num__pca__n_components=36;, score=-0.025 total time=   0.5s\n"
     ]
    },
    {
     "name": "stdout",
     "output_type": "stream",
     "text": [
      "[CV 4/5] END Regmodel__max_features=auto, Regmodel__n_estimators=10, dataprocess__cat__dimreduction__cum_evr=0.75, dataprocess__num__num_poly__degree=1, dataprocess__num__pca__n_components=36;, score=-0.029 total time=   0.5s\n",
      "[CV 5/5] END Regmodel__max_features=auto, Regmodel__n_estimators=10, dataprocess__cat__dimreduction__cum_evr=0.75, dataprocess__num__num_poly__degree=1, dataprocess__num__pca__n_components=36;, score=-0.038 total time=   0.5s\n",
      "[CV 1/5] END Regmodel__max_features=auto, Regmodel__n_estimators=10, dataprocess__cat__dimreduction__cum_evr=0.75, dataprocess__num__num_poly__degree=2, dataprocess__num__pca__n_components=10;, score=-0.026 total time=   0.6s\n",
      "[CV 2/5] END Regmodel__max_features=auto, Regmodel__n_estimators=10, dataprocess__cat__dimreduction__cum_evr=0.75, dataprocess__num__num_poly__degree=2, dataprocess__num__pca__n_components=10;, score=-0.026 total time=   0.6s\n",
      "[CV 3/5] END Regmodel__max_features=auto, Regmodel__n_estimators=10, dataprocess__cat__dimreduction__cum_evr=0.75, dataprocess__num__num_poly__degree=2, dataprocess__num__pca__n_components=10;, score=-0.027 total time=   0.6s\n",
      "[CV 4/5] END Regmodel__max_features=auto, Regmodel__n_estimators=10, dataprocess__cat__dimreduction__cum_evr=0.75, dataprocess__num__num_poly__degree=2, dataprocess__num__pca__n_components=10;, score=-0.036 total time=   0.6s\n",
      "[CV 5/5] END Regmodel__max_features=auto, Regmodel__n_estimators=10, dataprocess__cat__dimreduction__cum_evr=0.75, dataprocess__num__num_poly__degree=2, dataprocess__num__pca__n_components=10;, score=-0.037 total time=   0.5s\n",
      "[CV 1/5] END Regmodel__max_features=auto, Regmodel__n_estimators=10, dataprocess__cat__dimreduction__cum_evr=0.75, dataprocess__num__num_poly__degree=2, dataprocess__num__pca__n_components=20;, score=-0.026 total time=   1.1s\n",
      "[CV 2/5] END Regmodel__max_features=auto, Regmodel__n_estimators=10, dataprocess__cat__dimreduction__cum_evr=0.75, dataprocess__num__num_poly__degree=2, dataprocess__num__pca__n_components=20;, score=-0.028 total time=   1.1s\n",
      "[CV 3/5] END Regmodel__max_features=auto, Regmodel__n_estimators=10, dataprocess__cat__dimreduction__cum_evr=0.75, dataprocess__num__num_poly__degree=2, dataprocess__num__pca__n_components=20;, score=-0.029 total time=   1.1s\n",
      "[CV 4/5] END Regmodel__max_features=auto, Regmodel__n_estimators=10, dataprocess__cat__dimreduction__cum_evr=0.75, dataprocess__num__num_poly__degree=2, dataprocess__num__pca__n_components=20;, score=-0.036 total time=   1.1s\n",
      "[CV 5/5] END Regmodel__max_features=auto, Regmodel__n_estimators=10, dataprocess__cat__dimreduction__cum_evr=0.75, dataprocess__num__num_poly__degree=2, dataprocess__num__pca__n_components=20;, score=-0.042 total time=   1.0s\n",
      "[CV 1/5] END Regmodel__max_features=auto, Regmodel__n_estimators=10, dataprocess__cat__dimreduction__cum_evr=0.75, dataprocess__num__num_poly__degree=2, dataprocess__num__pca__n_components=36;, score=-0.029 total time=   2.6s\n",
      "[CV 2/5] END Regmodel__max_features=auto, Regmodel__n_estimators=10, dataprocess__cat__dimreduction__cum_evr=0.75, dataprocess__num__num_poly__degree=2, dataprocess__num__pca__n_components=36;, score=-0.029 total time=   2.5s\n",
      "[CV 3/5] END Regmodel__max_features=auto, Regmodel__n_estimators=10, dataprocess__cat__dimreduction__cum_evr=0.75, dataprocess__num__num_poly__degree=2, dataprocess__num__pca__n_components=36;, score=-0.032 total time=   2.6s\n",
      "[CV 4/5] END Regmodel__max_features=auto, Regmodel__n_estimators=10, dataprocess__cat__dimreduction__cum_evr=0.75, dataprocess__num__num_poly__degree=2, dataprocess__num__pca__n_components=36;, score=-0.035 total time=   2.5s\n",
      "[CV 5/5] END Regmodel__max_features=auto, Regmodel__n_estimators=10, dataprocess__cat__dimreduction__cum_evr=0.75, dataprocess__num__num_poly__degree=2, dataprocess__num__pca__n_components=36;, score=-0.041 total time=   2.5s\n",
      "[CV 1/5] END Regmodel__max_features=auto, Regmodel__n_estimators=10, dataprocess__cat__dimreduction__cum_evr=0.98, dataprocess__num__num_poly__degree=1, dataprocess__num__pca__n_components=10;, score=-0.028 total time=   0.6s\n",
      "[CV 2/5] END Regmodel__max_features=auto, Regmodel__n_estimators=10, dataprocess__cat__dimreduction__cum_evr=0.98, dataprocess__num__num_poly__degree=1, dataprocess__num__pca__n_components=10;, score=-0.023 total time=   0.6s\n",
      "[CV 3/5] END Regmodel__max_features=auto, Regmodel__n_estimators=10, dataprocess__cat__dimreduction__cum_evr=0.98, dataprocess__num__num_poly__degree=1, dataprocess__num__pca__n_components=10;, score=-0.035 total time=   0.6s\n",
      "[CV 4/5] END Regmodel__max_features=auto, Regmodel__n_estimators=10, dataprocess__cat__dimreduction__cum_evr=0.98, dataprocess__num__num_poly__degree=1, dataprocess__num__pca__n_components=10;, score=-0.034 total time=   0.6s\n",
      "[CV 5/5] END Regmodel__max_features=auto, Regmodel__n_estimators=10, dataprocess__cat__dimreduction__cum_evr=0.98, dataprocess__num__num_poly__degree=1, dataprocess__num__pca__n_components=10;, score=-0.039 total time=   0.6s\n",
      "[CV 1/5] END Regmodel__max_features=auto, Regmodel__n_estimators=10, dataprocess__cat__dimreduction__cum_evr=0.98, dataprocess__num__num_poly__degree=1, dataprocess__num__pca__n_components=20;, score=-0.027 total time=   0.7s\n",
      "[CV 2/5] END Regmodel__max_features=auto, Regmodel__n_estimators=10, dataprocess__cat__dimreduction__cum_evr=0.98, dataprocess__num__num_poly__degree=1, dataprocess__num__pca__n_components=20;, score=-0.028 total time=   0.7s\n",
      "[CV 3/5] END Regmodel__max_features=auto, Regmodel__n_estimators=10, dataprocess__cat__dimreduction__cum_evr=0.98, dataprocess__num__num_poly__degree=1, dataprocess__num__pca__n_components=20;, score=-0.035 total time=   0.7s\n",
      "[CV 4/5] END Regmodel__max_features=auto, Regmodel__n_estimators=10, dataprocess__cat__dimreduction__cum_evr=0.98, dataprocess__num__num_poly__degree=1, dataprocess__num__pca__n_components=20;, score=-0.032 total time=   0.7s\n",
      "[CV 5/5] END Regmodel__max_features=auto, Regmodel__n_estimators=10, dataprocess__cat__dimreduction__cum_evr=0.98, dataprocess__num__num_poly__degree=1, dataprocess__num__pca__n_components=20;, score=-0.041 total time=   0.7s\n",
      "[CV 1/5] END Regmodel__max_features=auto, Regmodel__n_estimators=10, dataprocess__cat__dimreduction__cum_evr=0.98, dataprocess__num__num_poly__degree=1, dataprocess__num__pca__n_components=36;, score=-0.026 total time=   0.7s\n",
      "[CV 2/5] END Regmodel__max_features=auto, Regmodel__n_estimators=10, dataprocess__cat__dimreduction__cum_evr=0.98, dataprocess__num__num_poly__degree=1, dataprocess__num__pca__n_components=36;, score=-0.023 total time=   0.7s\n",
      "[CV 3/5] END Regmodel__max_features=auto, Regmodel__n_estimators=10, dataprocess__cat__dimreduction__cum_evr=0.98, dataprocess__num__num_poly__degree=1, dataprocess__num__pca__n_components=36;, score=-0.029 total time=   0.7s\n",
      "[CV 4/5] END Regmodel__max_features=auto, Regmodel__n_estimators=10, dataprocess__cat__dimreduction__cum_evr=0.98, dataprocess__num__num_poly__degree=1, dataprocess__num__pca__n_components=36;, score=-0.031 total time=   0.7s\n",
      "[CV 5/5] END Regmodel__max_features=auto, Regmodel__n_estimators=10, dataprocess__cat__dimreduction__cum_evr=0.98, dataprocess__num__num_poly__degree=1, dataprocess__num__pca__n_components=36;, score=-0.039 total time=   0.7s\n",
      "[CV 1/5] END Regmodel__max_features=auto, Regmodel__n_estimators=10, dataprocess__cat__dimreduction__cum_evr=0.98, dataprocess__num__num_poly__degree=2, dataprocess__num__pca__n_components=10;, score=-0.029 total time=   0.8s\n",
      "[CV 2/5] END Regmodel__max_features=auto, Regmodel__n_estimators=10, dataprocess__cat__dimreduction__cum_evr=0.98, dataprocess__num__num_poly__degree=2, dataprocess__num__pca__n_components=10;, score=-0.026 total time=   0.8s\n",
      "[CV 3/5] END Regmodel__max_features=auto, Regmodel__n_estimators=10, dataprocess__cat__dimreduction__cum_evr=0.98, dataprocess__num__num_poly__degree=2, dataprocess__num__pca__n_components=10;, score=-0.028 total time=   0.8s\n",
      "[CV 4/5] END Regmodel__max_features=auto, Regmodel__n_estimators=10, dataprocess__cat__dimreduction__cum_evr=0.98, dataprocess__num__num_poly__degree=2, dataprocess__num__pca__n_components=10;, score=-0.033 total time=   0.8s\n",
      "[CV 5/5] END Regmodel__max_features=auto, Regmodel__n_estimators=10, dataprocess__cat__dimreduction__cum_evr=0.98, dataprocess__num__num_poly__degree=2, dataprocess__num__pca__n_components=10;, score=-0.041 total time=   0.8s\n"
     ]
    },
    {
     "name": "stdout",
     "output_type": "stream",
     "text": [
      "[CV 1/5] END Regmodel__max_features=auto, Regmodel__n_estimators=10, dataprocess__cat__dimreduction__cum_evr=0.98, dataprocess__num__num_poly__degree=2, dataprocess__num__pca__n_components=20;, score=-0.026 total time=   1.4s\n",
      "[CV 2/5] END Regmodel__max_features=auto, Regmodel__n_estimators=10, dataprocess__cat__dimreduction__cum_evr=0.98, dataprocess__num__num_poly__degree=2, dataprocess__num__pca__n_components=20;, score=-0.026 total time=   1.3s\n",
      "[CV 3/5] END Regmodel__max_features=auto, Regmodel__n_estimators=10, dataprocess__cat__dimreduction__cum_evr=0.98, dataprocess__num__num_poly__degree=2, dataprocess__num__pca__n_components=20;, score=-0.033 total time=   1.3s\n",
      "[CV 4/5] END Regmodel__max_features=auto, Regmodel__n_estimators=10, dataprocess__cat__dimreduction__cum_evr=0.98, dataprocess__num__num_poly__degree=2, dataprocess__num__pca__n_components=20;, score=-0.034 total time=   1.3s\n",
      "[CV 5/5] END Regmodel__max_features=auto, Regmodel__n_estimators=10, dataprocess__cat__dimreduction__cum_evr=0.98, dataprocess__num__num_poly__degree=2, dataprocess__num__pca__n_components=20;, score=-0.041 total time=   1.3s\n",
      "[CV 1/5] END Regmodel__max_features=auto, Regmodel__n_estimators=10, dataprocess__cat__dimreduction__cum_evr=0.98, dataprocess__num__num_poly__degree=2, dataprocess__num__pca__n_components=36;, score=-0.032 total time=   2.9s\n",
      "[CV 2/5] END Regmodel__max_features=auto, Regmodel__n_estimators=10, dataprocess__cat__dimreduction__cum_evr=0.98, dataprocess__num__num_poly__degree=2, dataprocess__num__pca__n_components=36;, score=-0.024 total time=   2.8s\n",
      "[CV 3/5] END Regmodel__max_features=auto, Regmodel__n_estimators=10, dataprocess__cat__dimreduction__cum_evr=0.98, dataprocess__num__num_poly__degree=2, dataprocess__num__pca__n_components=36;, score=-0.033 total time=   2.8s\n",
      "[CV 4/5] END Regmodel__max_features=auto, Regmodel__n_estimators=10, dataprocess__cat__dimreduction__cum_evr=0.98, dataprocess__num__num_poly__degree=2, dataprocess__num__pca__n_components=36;, score=-0.037 total time=   2.8s\n",
      "[CV 5/5] END Regmodel__max_features=auto, Regmodel__n_estimators=10, dataprocess__cat__dimreduction__cum_evr=0.98, dataprocess__num__num_poly__degree=2, dataprocess__num__pca__n_components=36;, score=-0.037 total time=   2.9s\n",
      "[CV 1/5] END Regmodel__max_features=auto, Regmodel__n_estimators=30, dataprocess__cat__dimreduction__cum_evr=0.25, dataprocess__num__num_poly__degree=1, dataprocess__num__pca__n_components=10;, score=-0.022 total time=   0.3s\n",
      "[CV 2/5] END Regmodel__max_features=auto, Regmodel__n_estimators=30, dataprocess__cat__dimreduction__cum_evr=0.25, dataprocess__num__num_poly__degree=1, dataprocess__num__pca__n_components=10;, score=-0.024 total time=   0.3s\n",
      "[CV 3/5] END Regmodel__max_features=auto, Regmodel__n_estimators=30, dataprocess__cat__dimreduction__cum_evr=0.25, dataprocess__num__num_poly__degree=1, dataprocess__num__pca__n_components=10;, score=-0.028 total time=   0.3s\n",
      "[CV 4/5] END Regmodel__max_features=auto, Regmodel__n_estimators=30, dataprocess__cat__dimreduction__cum_evr=0.25, dataprocess__num__num_poly__degree=1, dataprocess__num__pca__n_components=10;, score=-0.030 total time=   0.3s\n",
      "[CV 5/5] END Regmodel__max_features=auto, Regmodel__n_estimators=30, dataprocess__cat__dimreduction__cum_evr=0.25, dataprocess__num__num_poly__degree=1, dataprocess__num__pca__n_components=10;, score=-0.037 total time=   0.3s\n",
      "[CV 1/5] END Regmodel__max_features=auto, Regmodel__n_estimators=30, dataprocess__cat__dimreduction__cum_evr=0.25, dataprocess__num__num_poly__degree=1, dataprocess__num__pca__n_components=20;, score=-0.022 total time=   0.4s\n",
      "[CV 2/5] END Regmodel__max_features=auto, Regmodel__n_estimators=30, dataprocess__cat__dimreduction__cum_evr=0.25, dataprocess__num__num_poly__degree=1, dataprocess__num__pca__n_components=20;, score=-0.022 total time=   0.4s\n",
      "[CV 3/5] END Regmodel__max_features=auto, Regmodel__n_estimators=30, dataprocess__cat__dimreduction__cum_evr=0.25, dataprocess__num__num_poly__degree=1, dataprocess__num__pca__n_components=20;, score=-0.029 total time=   0.5s\n",
      "[CV 4/5] END Regmodel__max_features=auto, Regmodel__n_estimators=30, dataprocess__cat__dimreduction__cum_evr=0.25, dataprocess__num__num_poly__degree=1, dataprocess__num__pca__n_components=20;, score=-0.031 total time=   0.5s\n",
      "[CV 5/5] END Regmodel__max_features=auto, Regmodel__n_estimators=30, dataprocess__cat__dimreduction__cum_evr=0.25, dataprocess__num__num_poly__degree=1, dataprocess__num__pca__n_components=20;, score=-0.036 total time=   0.5s\n",
      "[CV 1/5] END Regmodel__max_features=auto, Regmodel__n_estimators=30, dataprocess__cat__dimreduction__cum_evr=0.25, dataprocess__num__num_poly__degree=1, dataprocess__num__pca__n_components=36;, score=-0.024 total time=   0.7s\n",
      "[CV 2/5] END Regmodel__max_features=auto, Regmodel__n_estimators=30, dataprocess__cat__dimreduction__cum_evr=0.25, dataprocess__num__num_poly__degree=1, dataprocess__num__pca__n_components=36;, score=-0.021 total time=   0.6s\n",
      "[CV 3/5] END Regmodel__max_features=auto, Regmodel__n_estimators=30, dataprocess__cat__dimreduction__cum_evr=0.25, dataprocess__num__num_poly__degree=1, dataprocess__num__pca__n_components=36;, score=-0.026 total time=   0.6s\n",
      "[CV 4/5] END Regmodel__max_features=auto, Regmodel__n_estimators=30, dataprocess__cat__dimreduction__cum_evr=0.25, dataprocess__num__num_poly__degree=1, dataprocess__num__pca__n_components=36;, score=-0.028 total time=   0.6s\n",
      "[CV 5/5] END Regmodel__max_features=auto, Regmodel__n_estimators=30, dataprocess__cat__dimreduction__cum_evr=0.25, dataprocess__num__num_poly__degree=1, dataprocess__num__pca__n_components=36;, score=-0.038 total time=   0.7s\n",
      "[CV 1/5] END Regmodel__max_features=auto, Regmodel__n_estimators=30, dataprocess__cat__dimreduction__cum_evr=0.25, dataprocess__num__num_poly__degree=2, dataprocess__num__pca__n_components=10;, score=-0.025 total time=   0.9s\n",
      "[CV 2/5] END Regmodel__max_features=auto, Regmodel__n_estimators=30, dataprocess__cat__dimreduction__cum_evr=0.25, dataprocess__num__num_poly__degree=2, dataprocess__num__pca__n_components=10;, score=-0.023 total time=   0.9s\n",
      "[CV 3/5] END Regmodel__max_features=auto, Regmodel__n_estimators=30, dataprocess__cat__dimreduction__cum_evr=0.25, dataprocess__num__num_poly__degree=2, dataprocess__num__pca__n_components=10;, score=-0.027 total time=   0.9s\n",
      "[CV 4/5] END Regmodel__max_features=auto, Regmodel__n_estimators=30, dataprocess__cat__dimreduction__cum_evr=0.25, dataprocess__num__num_poly__degree=2, dataprocess__num__pca__n_components=10;, score=-0.031 total time=   0.9s\n",
      "[CV 5/5] END Regmodel__max_features=auto, Regmodel__n_estimators=30, dataprocess__cat__dimreduction__cum_evr=0.25, dataprocess__num__num_poly__degree=2, dataprocess__num__pca__n_components=10;, score=-0.037 total time=   0.9s\n",
      "[CV 1/5] END Regmodel__max_features=auto, Regmodel__n_estimators=30, dataprocess__cat__dimreduction__cum_evr=0.25, dataprocess__num__num_poly__degree=2, dataprocess__num__pca__n_components=20;, score=-0.026 total time=   2.4s\n",
      "[CV 2/5] END Regmodel__max_features=auto, Regmodel__n_estimators=30, dataprocess__cat__dimreduction__cum_evr=0.25, dataprocess__num__num_poly__degree=2, dataprocess__num__pca__n_components=20;, score=-0.026 total time=   2.5s\n",
      "[CV 3/5] END Regmodel__max_features=auto, Regmodel__n_estimators=30, dataprocess__cat__dimreduction__cum_evr=0.25, dataprocess__num__num_poly__degree=2, dataprocess__num__pca__n_components=20;, score=-0.029 total time=   2.4s\n",
      "[CV 4/5] END Regmodel__max_features=auto, Regmodel__n_estimators=30, dataprocess__cat__dimreduction__cum_evr=0.25, dataprocess__num__num_poly__degree=2, dataprocess__num__pca__n_components=20;, score=-0.030 total time=   2.4s\n",
      "[CV 5/5] END Regmodel__max_features=auto, Regmodel__n_estimators=30, dataprocess__cat__dimreduction__cum_evr=0.25, dataprocess__num__num_poly__degree=2, dataprocess__num__pca__n_components=20;, score=-0.040 total time=   2.4s\n",
      "[CV 1/5] END Regmodel__max_features=auto, Regmodel__n_estimators=30, dataprocess__cat__dimreduction__cum_evr=0.25, dataprocess__num__num_poly__degree=2, dataprocess__num__pca__n_components=36;, score=-0.028 total time=   7.0s\n",
      "[CV 2/5] END Regmodel__max_features=auto, Regmodel__n_estimators=30, dataprocess__cat__dimreduction__cum_evr=0.25, dataprocess__num__num_poly__degree=2, dataprocess__num__pca__n_components=36;, score=-0.025 total time=   6.9s\n"
     ]
    },
    {
     "name": "stdout",
     "output_type": "stream",
     "text": [
      "[CV 3/5] END Regmodel__max_features=auto, Regmodel__n_estimators=30, dataprocess__cat__dimreduction__cum_evr=0.25, dataprocess__num__num_poly__degree=2, dataprocess__num__pca__n_components=36;, score=-0.032 total time=   6.9s\n",
      "[CV 4/5] END Regmodel__max_features=auto, Regmodel__n_estimators=30, dataprocess__cat__dimreduction__cum_evr=0.25, dataprocess__num__num_poly__degree=2, dataprocess__num__pca__n_components=36;, score=-0.033 total time=   6.8s\n",
      "[CV 5/5] END Regmodel__max_features=auto, Regmodel__n_estimators=30, dataprocess__cat__dimreduction__cum_evr=0.25, dataprocess__num__num_poly__degree=2, dataprocess__num__pca__n_components=36;, score=-0.041 total time=   6.9s\n",
      "[CV 1/5] END Regmodel__max_features=auto, Regmodel__n_estimators=30, dataprocess__cat__dimreduction__cum_evr=0.5, dataprocess__num__num_poly__degree=1, dataprocess__num__pca__n_components=10;, score=-0.022 total time=   0.5s\n",
      "[CV 2/5] END Regmodel__max_features=auto, Regmodel__n_estimators=30, dataprocess__cat__dimreduction__cum_evr=0.5, dataprocess__num__num_poly__degree=1, dataprocess__num__pca__n_components=10;, score=-0.021 total time=   0.5s\n",
      "[CV 3/5] END Regmodel__max_features=auto, Regmodel__n_estimators=30, dataprocess__cat__dimreduction__cum_evr=0.5, dataprocess__num__num_poly__degree=1, dataprocess__num__pca__n_components=10;, score=-0.025 total time=   0.5s\n",
      "[CV 4/5] END Regmodel__max_features=auto, Regmodel__n_estimators=30, dataprocess__cat__dimreduction__cum_evr=0.5, dataprocess__num__num_poly__degree=1, dataprocess__num__pca__n_components=10;, score=-0.029 total time=   0.5s\n",
      "[CV 5/5] END Regmodel__max_features=auto, Regmodel__n_estimators=30, dataprocess__cat__dimreduction__cum_evr=0.5, dataprocess__num__num_poly__degree=1, dataprocess__num__pca__n_components=10;, score=-0.038 total time=   0.5s\n",
      "[CV 1/5] END Regmodel__max_features=auto, Regmodel__n_estimators=30, dataprocess__cat__dimreduction__cum_evr=0.5, dataprocess__num__num_poly__degree=1, dataprocess__num__pca__n_components=20;, score=-0.022 total time=   0.6s\n",
      "[CV 2/5] END Regmodel__max_features=auto, Regmodel__n_estimators=30, dataprocess__cat__dimreduction__cum_evr=0.5, dataprocess__num__num_poly__degree=1, dataprocess__num__pca__n_components=20;, score=-0.020 total time=   0.6s\n",
      "[CV 3/5] END Regmodel__max_features=auto, Regmodel__n_estimators=30, dataprocess__cat__dimreduction__cum_evr=0.5, dataprocess__num__num_poly__degree=1, dataprocess__num__pca__n_components=20;, score=-0.026 total time=   0.5s\n",
      "[CV 4/5] END Regmodel__max_features=auto, Regmodel__n_estimators=30, dataprocess__cat__dimreduction__cum_evr=0.5, dataprocess__num__num_poly__degree=1, dataprocess__num__pca__n_components=20;, score=-0.030 total time=   0.6s\n",
      "[CV 5/5] END Regmodel__max_features=auto, Regmodel__n_estimators=30, dataprocess__cat__dimreduction__cum_evr=0.5, dataprocess__num__num_poly__degree=1, dataprocess__num__pca__n_components=20;, score=-0.035 total time=   0.6s\n",
      "[CV 1/5] END Regmodel__max_features=auto, Regmodel__n_estimators=30, dataprocess__cat__dimreduction__cum_evr=0.5, dataprocess__num__num_poly__degree=1, dataprocess__num__pca__n_components=36;, score=-0.022 total time=   0.7s\n",
      "[CV 2/5] END Regmodel__max_features=auto, Regmodel__n_estimators=30, dataprocess__cat__dimreduction__cum_evr=0.5, dataprocess__num__num_poly__degree=1, dataprocess__num__pca__n_components=36;, score=-0.019 total time=   0.7s\n",
      "[CV 3/5] END Regmodel__max_features=auto, Regmodel__n_estimators=30, dataprocess__cat__dimreduction__cum_evr=0.5, dataprocess__num__num_poly__degree=1, dataprocess__num__pca__n_components=36;, score=-0.027 total time=   0.7s\n",
      "[CV 4/5] END Regmodel__max_features=auto, Regmodel__n_estimators=30, dataprocess__cat__dimreduction__cum_evr=0.5, dataprocess__num__num_poly__degree=1, dataprocess__num__pca__n_components=36;, score=-0.028 total time=   0.7s\n",
      "[CV 5/5] END Regmodel__max_features=auto, Regmodel__n_estimators=30, dataprocess__cat__dimreduction__cum_evr=0.5, dataprocess__num__num_poly__degree=1, dataprocess__num__pca__n_components=36;, score=-0.035 total time=   0.7s\n",
      "[CV 1/5] END Regmodel__max_features=auto, Regmodel__n_estimators=30, dataprocess__cat__dimreduction__cum_evr=0.5, dataprocess__num__num_poly__degree=2, dataprocess__num__pca__n_components=10;, score=-0.024 total time=   1.0s\n",
      "[CV 2/5] END Regmodel__max_features=auto, Regmodel__n_estimators=30, dataprocess__cat__dimreduction__cum_evr=0.5, dataprocess__num__num_poly__degree=2, dataprocess__num__pca__n_components=10;, score=-0.022 total time=   1.0s\n",
      "[CV 3/5] END Regmodel__max_features=auto, Regmodel__n_estimators=30, dataprocess__cat__dimreduction__cum_evr=0.5, dataprocess__num__num_poly__degree=2, dataprocess__num__pca__n_components=10;, score=-0.028 total time=   1.0s\n",
      "[CV 4/5] END Regmodel__max_features=auto, Regmodel__n_estimators=30, dataprocess__cat__dimreduction__cum_evr=0.5, dataprocess__num__num_poly__degree=2, dataprocess__num__pca__n_components=10;, score=-0.030 total time=   1.0s\n",
      "[CV 5/5] END Regmodel__max_features=auto, Regmodel__n_estimators=30, dataprocess__cat__dimreduction__cum_evr=0.5, dataprocess__num__num_poly__degree=2, dataprocess__num__pca__n_components=10;, score=-0.035 total time=   1.0s\n",
      "[CV 1/5] END Regmodel__max_features=auto, Regmodel__n_estimators=30, dataprocess__cat__dimreduction__cum_evr=0.5, dataprocess__num__num_poly__degree=2, dataprocess__num__pca__n_components=20;, score=-0.023 total time=   2.6s\n",
      "[CV 2/5] END Regmodel__max_features=auto, Regmodel__n_estimators=30, dataprocess__cat__dimreduction__cum_evr=0.5, dataprocess__num__num_poly__degree=2, dataprocess__num__pca__n_components=20;, score=-0.024 total time=   2.5s\n",
      "[CV 3/5] END Regmodel__max_features=auto, Regmodel__n_estimators=30, dataprocess__cat__dimreduction__cum_evr=0.5, dataprocess__num__num_poly__degree=2, dataprocess__num__pca__n_components=20;, score=-0.026 total time=   2.5s\n",
      "[CV 4/5] END Regmodel__max_features=auto, Regmodel__n_estimators=30, dataprocess__cat__dimreduction__cum_evr=0.5, dataprocess__num__num_poly__degree=2, dataprocess__num__pca__n_components=20;, score=-0.032 total time=   2.6s\n",
      "[CV 5/5] END Regmodel__max_features=auto, Regmodel__n_estimators=30, dataprocess__cat__dimreduction__cum_evr=0.5, dataprocess__num__num_poly__degree=2, dataprocess__num__pca__n_components=20;, score=-0.038 total time=   2.6s\n",
      "[CV 1/5] END Regmodel__max_features=auto, Regmodel__n_estimators=30, dataprocess__cat__dimreduction__cum_evr=0.5, dataprocess__num__num_poly__degree=2, dataprocess__num__pca__n_components=36;, score=-0.026 total time=   7.1s\n",
      "[CV 2/5] END Regmodel__max_features=auto, Regmodel__n_estimators=30, dataprocess__cat__dimreduction__cum_evr=0.5, dataprocess__num__num_poly__degree=2, dataprocess__num__pca__n_components=36;, score=-0.024 total time=   7.0s\n",
      "[CV 3/5] END Regmodel__max_features=auto, Regmodel__n_estimators=30, dataprocess__cat__dimreduction__cum_evr=0.5, dataprocess__num__num_poly__degree=2, dataprocess__num__pca__n_components=36;, score=-0.030 total time=   7.1s\n",
      "[CV 4/5] END Regmodel__max_features=auto, Regmodel__n_estimators=30, dataprocess__cat__dimreduction__cum_evr=0.5, dataprocess__num__num_poly__degree=2, dataprocess__num__pca__n_components=36;, score=-0.030 total time=   7.2s\n",
      "[CV 5/5] END Regmodel__max_features=auto, Regmodel__n_estimators=30, dataprocess__cat__dimreduction__cum_evr=0.5, dataprocess__num__num_poly__degree=2, dataprocess__num__pca__n_components=36;, score=-0.039 total time=   7.0s\n",
      "[CV 1/5] END Regmodel__max_features=auto, Regmodel__n_estimators=30, dataprocess__cat__dimreduction__cum_evr=0.75, dataprocess__num__num_poly__degree=1, dataprocess__num__pca__n_components=10;, score=-0.023 total time=   0.7s\n",
      "[CV 2/5] END Regmodel__max_features=auto, Regmodel__n_estimators=30, dataprocess__cat__dimreduction__cum_evr=0.75, dataprocess__num__num_poly__degree=1, dataprocess__num__pca__n_components=10;, score=-0.023 total time=   0.7s\n",
      "[CV 3/5] END Regmodel__max_features=auto, Regmodel__n_estimators=30, dataprocess__cat__dimreduction__cum_evr=0.75, dataprocess__num__num_poly__degree=1, dataprocess__num__pca__n_components=10;, score=-0.026 total time=   0.6s\n",
      "[CV 4/5] END Regmodel__max_features=auto, Regmodel__n_estimators=30, dataprocess__cat__dimreduction__cum_evr=0.75, dataprocess__num__num_poly__degree=1, dataprocess__num__pca__n_components=10;, score=-0.029 total time=   0.6s\n"
     ]
    },
    {
     "name": "stdout",
     "output_type": "stream",
     "text": [
      "[CV 5/5] END Regmodel__max_features=auto, Regmodel__n_estimators=30, dataprocess__cat__dimreduction__cum_evr=0.75, dataprocess__num__num_poly__degree=1, dataprocess__num__pca__n_components=10;, score=-0.037 total time=   0.7s\n",
      "[CV 1/5] END Regmodel__max_features=auto, Regmodel__n_estimators=30, dataprocess__cat__dimreduction__cum_evr=0.75, dataprocess__num__num_poly__degree=1, dataprocess__num__pca__n_components=20;, score=-0.023 total time=   0.8s\n",
      "[CV 2/5] END Regmodel__max_features=auto, Regmodel__n_estimators=30, dataprocess__cat__dimreduction__cum_evr=0.75, dataprocess__num__num_poly__degree=1, dataprocess__num__pca__n_components=20;, score=-0.023 total time=   0.8s\n",
      "[CV 3/5] END Regmodel__max_features=auto, Regmodel__n_estimators=30, dataprocess__cat__dimreduction__cum_evr=0.75, dataprocess__num__num_poly__degree=1, dataprocess__num__pca__n_components=20;, score=-0.027 total time=   0.8s\n",
      "[CV 4/5] END Regmodel__max_features=auto, Regmodel__n_estimators=30, dataprocess__cat__dimreduction__cum_evr=0.75, dataprocess__num__num_poly__degree=1, dataprocess__num__pca__n_components=20;, score=-0.031 total time=   0.7s\n",
      "[CV 5/5] END Regmodel__max_features=auto, Regmodel__n_estimators=30, dataprocess__cat__dimreduction__cum_evr=0.75, dataprocess__num__num_poly__degree=1, dataprocess__num__pca__n_components=20;, score=-0.036 total time=   0.7s\n",
      "[CV 1/5] END Regmodel__max_features=auto, Regmodel__n_estimators=30, dataprocess__cat__dimreduction__cum_evr=0.75, dataprocess__num__num_poly__degree=1, dataprocess__num__pca__n_components=36;, score=-0.021 total time=   0.9s\n",
      "[CV 2/5] END Regmodel__max_features=auto, Regmodel__n_estimators=30, dataprocess__cat__dimreduction__cum_evr=0.75, dataprocess__num__num_poly__degree=1, dataprocess__num__pca__n_components=36;, score=-0.022 total time=   0.9s\n",
      "[CV 3/5] END Regmodel__max_features=auto, Regmodel__n_estimators=30, dataprocess__cat__dimreduction__cum_evr=0.75, dataprocess__num__num_poly__degree=1, dataprocess__num__pca__n_components=36;, score=-0.027 total time=   0.9s\n",
      "[CV 4/5] END Regmodel__max_features=auto, Regmodel__n_estimators=30, dataprocess__cat__dimreduction__cum_evr=0.75, dataprocess__num__num_poly__degree=1, dataprocess__num__pca__n_components=36;, score=-0.029 total time=   0.9s\n",
      "[CV 5/5] END Regmodel__max_features=auto, Regmodel__n_estimators=30, dataprocess__cat__dimreduction__cum_evr=0.75, dataprocess__num__num_poly__degree=1, dataprocess__num__pca__n_components=36;, score=-0.036 total time=   0.9s\n",
      "[CV 1/5] END Regmodel__max_features=auto, Regmodel__n_estimators=30, dataprocess__cat__dimreduction__cum_evr=0.75, dataprocess__num__num_poly__degree=2, dataprocess__num__pca__n_components=10;, score=-0.021 total time=   1.2s\n",
      "[CV 2/5] END Regmodel__max_features=auto, Regmodel__n_estimators=30, dataprocess__cat__dimreduction__cum_evr=0.75, dataprocess__num__num_poly__degree=2, dataprocess__num__pca__n_components=10;, score=-0.021 total time=   1.2s\n",
      "[CV 3/5] END Regmodel__max_features=auto, Regmodel__n_estimators=30, dataprocess__cat__dimreduction__cum_evr=0.75, dataprocess__num__num_poly__degree=2, dataprocess__num__pca__n_components=10;, score=-0.026 total time=   1.2s\n",
      "[CV 4/5] END Regmodel__max_features=auto, Regmodel__n_estimators=30, dataprocess__cat__dimreduction__cum_evr=0.75, dataprocess__num__num_poly__degree=2, dataprocess__num__pca__n_components=10;, score=-0.033 total time=   1.2s\n",
      "[CV 5/5] END Regmodel__max_features=auto, Regmodel__n_estimators=30, dataprocess__cat__dimreduction__cum_evr=0.75, dataprocess__num__num_poly__degree=2, dataprocess__num__pca__n_components=10;, score=-0.035 total time=   1.2s\n",
      "[CV 1/5] END Regmodel__max_features=auto, Regmodel__n_estimators=30, dataprocess__cat__dimreduction__cum_evr=0.75, dataprocess__num__num_poly__degree=2, dataprocess__num__pca__n_components=20;, score=-0.025 total time=   2.9s\n",
      "[CV 2/5] END Regmodel__max_features=auto, Regmodel__n_estimators=30, dataprocess__cat__dimreduction__cum_evr=0.75, dataprocess__num__num_poly__degree=2, dataprocess__num__pca__n_components=20;, score=-0.024 total time=   2.9s\n",
      "[CV 3/5] END Regmodel__max_features=auto, Regmodel__n_estimators=30, dataprocess__cat__dimreduction__cum_evr=0.75, dataprocess__num__num_poly__degree=2, dataprocess__num__pca__n_components=20;, score=-0.028 total time=   2.8s\n",
      "[CV 4/5] END Regmodel__max_features=auto, Regmodel__n_estimators=30, dataprocess__cat__dimreduction__cum_evr=0.75, dataprocess__num__num_poly__degree=2, dataprocess__num__pca__n_components=20;, score=-0.031 total time=   2.8s\n",
      "[CV 5/5] END Regmodel__max_features=auto, Regmodel__n_estimators=30, dataprocess__cat__dimreduction__cum_evr=0.75, dataprocess__num__num_poly__degree=2, dataprocess__num__pca__n_components=20;, score=-0.038 total time=   2.7s\n",
      "[CV 1/5] END Regmodel__max_features=auto, Regmodel__n_estimators=30, dataprocess__cat__dimreduction__cum_evr=0.75, dataprocess__num__num_poly__degree=2, dataprocess__num__pca__n_components=36;, score=-0.026 total time=   7.3s\n",
      "[CV 2/5] END Regmodel__max_features=auto, Regmodel__n_estimators=30, dataprocess__cat__dimreduction__cum_evr=0.75, dataprocess__num__num_poly__degree=2, dataprocess__num__pca__n_components=36;, score=-0.023 total time=   7.1s\n",
      "[CV 3/5] END Regmodel__max_features=auto, Regmodel__n_estimators=30, dataprocess__cat__dimreduction__cum_evr=0.75, dataprocess__num__num_poly__degree=2, dataprocess__num__pca__n_components=36;, score=-0.028 total time=   7.0s\n",
      "[CV 4/5] END Regmodel__max_features=auto, Regmodel__n_estimators=30, dataprocess__cat__dimreduction__cum_evr=0.75, dataprocess__num__num_poly__degree=2, dataprocess__num__pca__n_components=36;, score=-0.031 total time=   7.1s\n",
      "[CV 5/5] END Regmodel__max_features=auto, Regmodel__n_estimators=30, dataprocess__cat__dimreduction__cum_evr=0.75, dataprocess__num__num_poly__degree=2, dataprocess__num__pca__n_components=36;, score=-0.042 total time=   7.0s\n",
      "[CV 1/5] END Regmodel__max_features=auto, Regmodel__n_estimators=30, dataprocess__cat__dimreduction__cum_evr=0.98, dataprocess__num__num_poly__degree=1, dataprocess__num__pca__n_components=10;, score=-0.024 total time=   1.4s\n",
      "[CV 2/5] END Regmodel__max_features=auto, Regmodel__n_estimators=30, dataprocess__cat__dimreduction__cum_evr=0.98, dataprocess__num__num_poly__degree=1, dataprocess__num__pca__n_components=10;, score=-0.026 total time=   1.4s\n",
      "[CV 3/5] END Regmodel__max_features=auto, Regmodel__n_estimators=30, dataprocess__cat__dimreduction__cum_evr=0.98, dataprocess__num__num_poly__degree=1, dataprocess__num__pca__n_components=10;, score=-0.029 total time=   1.4s\n",
      "[CV 4/5] END Regmodel__max_features=auto, Regmodel__n_estimators=30, dataprocess__cat__dimreduction__cum_evr=0.98, dataprocess__num__num_poly__degree=1, dataprocess__num__pca__n_components=10;, score=-0.031 total time=   1.4s\n",
      "[CV 5/5] END Regmodel__max_features=auto, Regmodel__n_estimators=30, dataprocess__cat__dimreduction__cum_evr=0.98, dataprocess__num__num_poly__degree=1, dataprocess__num__pca__n_components=10;, score=-0.038 total time=   1.4s\n",
      "[CV 1/5] END Regmodel__max_features=auto, Regmodel__n_estimators=30, dataprocess__cat__dimreduction__cum_evr=0.98, dataprocess__num__num_poly__degree=1, dataprocess__num__pca__n_components=20;, score=-0.023 total time=   1.5s\n",
      "[CV 2/5] END Regmodel__max_features=auto, Regmodel__n_estimators=30, dataprocess__cat__dimreduction__cum_evr=0.98, dataprocess__num__num_poly__degree=1, dataprocess__num__pca__n_components=20;, score=-0.025 total time=   1.5s\n",
      "[CV 3/5] END Regmodel__max_features=auto, Regmodel__n_estimators=30, dataprocess__cat__dimreduction__cum_evr=0.98, dataprocess__num__num_poly__degree=1, dataprocess__num__pca__n_components=20;, score=-0.028 total time=   1.5s\n",
      "[CV 4/5] END Regmodel__max_features=auto, Regmodel__n_estimators=30, dataprocess__cat__dimreduction__cum_evr=0.98, dataprocess__num__num_poly__degree=1, dataprocess__num__pca__n_components=20;, score=-0.031 total time=   1.5s\n",
      "[CV 5/5] END Regmodel__max_features=auto, Regmodel__n_estimators=30, dataprocess__cat__dimreduction__cum_evr=0.98, dataprocess__num__num_poly__degree=1, dataprocess__num__pca__n_components=20;, score=-0.037 total time=   1.5s\n",
      "[CV 1/5] END Regmodel__max_features=auto, Regmodel__n_estimators=30, dataprocess__cat__dimreduction__cum_evr=0.98, dataprocess__num__num_poly__degree=1, dataprocess__num__pca__n_components=36;, score=-0.023 total time=   1.7s\n"
     ]
    },
    {
     "name": "stdout",
     "output_type": "stream",
     "text": [
      "[CV 2/5] END Regmodel__max_features=auto, Regmodel__n_estimators=30, dataprocess__cat__dimreduction__cum_evr=0.98, dataprocess__num__num_poly__degree=1, dataprocess__num__pca__n_components=36;, score=-0.021 total time=   1.7s\n",
      "[CV 3/5] END Regmodel__max_features=auto, Regmodel__n_estimators=30, dataprocess__cat__dimreduction__cum_evr=0.98, dataprocess__num__num_poly__degree=1, dataprocess__num__pca__n_components=36;, score=-0.027 total time=   1.6s\n",
      "[CV 4/5] END Regmodel__max_features=auto, Regmodel__n_estimators=30, dataprocess__cat__dimreduction__cum_evr=0.98, dataprocess__num__num_poly__degree=1, dataprocess__num__pca__n_components=36;, score=-0.030 total time=   1.6s\n",
      "[CV 5/5] END Regmodel__max_features=auto, Regmodel__n_estimators=30, dataprocess__cat__dimreduction__cum_evr=0.98, dataprocess__num__num_poly__degree=1, dataprocess__num__pca__n_components=36;, score=-0.038 total time=   1.6s\n",
      "[CV 1/5] END Regmodel__max_features=auto, Regmodel__n_estimators=30, dataprocess__cat__dimreduction__cum_evr=0.98, dataprocess__num__num_poly__degree=2, dataprocess__num__pca__n_components=10;, score=-0.023 total time=   2.0s\n",
      "[CV 2/5] END Regmodel__max_features=auto, Regmodel__n_estimators=30, dataprocess__cat__dimreduction__cum_evr=0.98, dataprocess__num__num_poly__degree=2, dataprocess__num__pca__n_components=10;, score=-0.021 total time=   1.9s\n",
      "[CV 3/5] END Regmodel__max_features=auto, Regmodel__n_estimators=30, dataprocess__cat__dimreduction__cum_evr=0.98, dataprocess__num__num_poly__degree=2, dataprocess__num__pca__n_components=10;, score=-0.027 total time=   1.9s\n",
      "[CV 4/5] END Regmodel__max_features=auto, Regmodel__n_estimators=30, dataprocess__cat__dimreduction__cum_evr=0.98, dataprocess__num__num_poly__degree=2, dataprocess__num__pca__n_components=10;, score=-0.030 total time=   1.9s\n",
      "[CV 5/5] END Regmodel__max_features=auto, Regmodel__n_estimators=30, dataprocess__cat__dimreduction__cum_evr=0.98, dataprocess__num__num_poly__degree=2, dataprocess__num__pca__n_components=10;, score=-0.039 total time=   1.9s\n",
      "[CV 1/5] END Regmodel__max_features=auto, Regmodel__n_estimators=30, dataprocess__cat__dimreduction__cum_evr=0.98, dataprocess__num__num_poly__degree=2, dataprocess__num__pca__n_components=20;, score=-0.024 total time=   3.5s\n",
      "[CV 2/5] END Regmodel__max_features=auto, Regmodel__n_estimators=30, dataprocess__cat__dimreduction__cum_evr=0.98, dataprocess__num__num_poly__degree=2, dataprocess__num__pca__n_components=20;, score=-0.024 total time=   3.5s\n",
      "[CV 3/5] END Regmodel__max_features=auto, Regmodel__n_estimators=30, dataprocess__cat__dimreduction__cum_evr=0.98, dataprocess__num__num_poly__degree=2, dataprocess__num__pca__n_components=20;, score=-0.027 total time=   3.4s\n",
      "[CV 4/5] END Regmodel__max_features=auto, Regmodel__n_estimators=30, dataprocess__cat__dimreduction__cum_evr=0.98, dataprocess__num__num_poly__degree=2, dataprocess__num__pca__n_components=20;, score=-0.030 total time=   3.5s\n",
      "[CV 5/5] END Regmodel__max_features=auto, Regmodel__n_estimators=30, dataprocess__cat__dimreduction__cum_evr=0.98, dataprocess__num__num_poly__degree=2, dataprocess__num__pca__n_components=20;, score=-0.039 total time=   3.4s\n",
      "[CV 1/5] END Regmodel__max_features=auto, Regmodel__n_estimators=30, dataprocess__cat__dimreduction__cum_evr=0.98, dataprocess__num__num_poly__degree=2, dataprocess__num__pca__n_components=36;, score=-0.026 total time=   8.1s\n",
      "[CV 2/5] END Regmodel__max_features=auto, Regmodel__n_estimators=30, dataprocess__cat__dimreduction__cum_evr=0.98, dataprocess__num__num_poly__degree=2, dataprocess__num__pca__n_components=36;, score=-0.024 total time=   8.0s\n",
      "[CV 3/5] END Regmodel__max_features=auto, Regmodel__n_estimators=30, dataprocess__cat__dimreduction__cum_evr=0.98, dataprocess__num__num_poly__degree=2, dataprocess__num__pca__n_components=36;, score=-0.029 total time=   8.0s\n",
      "[CV 4/5] END Regmodel__max_features=auto, Regmodel__n_estimators=30, dataprocess__cat__dimreduction__cum_evr=0.98, dataprocess__num__num_poly__degree=2, dataprocess__num__pca__n_components=36;, score=-0.031 total time=   7.8s\n",
      "[CV 5/5] END Regmodel__max_features=auto, Regmodel__n_estimators=30, dataprocess__cat__dimreduction__cum_evr=0.98, dataprocess__num__num_poly__degree=2, dataprocess__num__pca__n_components=36;, score=-0.037 total time=   7.7s\n",
      "[CV 1/5] END Regmodel__max_features=auto, Regmodel__n_estimators=100, dataprocess__cat__dimreduction__cum_evr=0.25, dataprocess__num__num_poly__degree=1, dataprocess__num__pca__n_components=10;, score=-0.023 total time=   0.7s\n",
      "[CV 2/5] END Regmodel__max_features=auto, Regmodel__n_estimators=100, dataprocess__cat__dimreduction__cum_evr=0.25, dataprocess__num__num_poly__degree=1, dataprocess__num__pca__n_components=10;, score=-0.022 total time=   0.7s\n",
      "[CV 3/5] END Regmodel__max_features=auto, Regmodel__n_estimators=100, dataprocess__cat__dimreduction__cum_evr=0.25, dataprocess__num__num_poly__degree=1, dataprocess__num__pca__n_components=10;, score=-0.027 total time=   0.7s\n",
      "[CV 4/5] END Regmodel__max_features=auto, Regmodel__n_estimators=100, dataprocess__cat__dimreduction__cum_evr=0.25, dataprocess__num__num_poly__degree=1, dataprocess__num__pca__n_components=10;, score=-0.027 total time=   0.7s\n",
      "[CV 5/5] END Regmodel__max_features=auto, Regmodel__n_estimators=100, dataprocess__cat__dimreduction__cum_evr=0.25, dataprocess__num__num_poly__degree=1, dataprocess__num__pca__n_components=10;, score=-0.035 total time=   0.7s\n",
      "[CV 1/5] END Regmodel__max_features=auto, Regmodel__n_estimators=100, dataprocess__cat__dimreduction__cum_evr=0.25, dataprocess__num__num_poly__degree=1, dataprocess__num__pca__n_components=20;, score=-0.022 total time=   1.0s\n",
      "[CV 2/5] END Regmodel__max_features=auto, Regmodel__n_estimators=100, dataprocess__cat__dimreduction__cum_evr=0.25, dataprocess__num__num_poly__degree=1, dataprocess__num__pca__n_components=20;, score=-0.023 total time=   1.0s\n",
      "[CV 3/5] END Regmodel__max_features=auto, Regmodel__n_estimators=100, dataprocess__cat__dimreduction__cum_evr=0.25, dataprocess__num__num_poly__degree=1, dataprocess__num__pca__n_components=20;, score=-0.026 total time=   1.0s\n",
      "[CV 4/5] END Regmodel__max_features=auto, Regmodel__n_estimators=100, dataprocess__cat__dimreduction__cum_evr=0.25, dataprocess__num__num_poly__degree=1, dataprocess__num__pca__n_components=20;, score=-0.029 total time=   1.0s\n",
      "[CV 5/5] END Regmodel__max_features=auto, Regmodel__n_estimators=100, dataprocess__cat__dimreduction__cum_evr=0.25, dataprocess__num__num_poly__degree=1, dataprocess__num__pca__n_components=20;, score=-0.035 total time=   1.0s\n",
      "[CV 1/5] END Regmodel__max_features=auto, Regmodel__n_estimators=100, dataprocess__cat__dimreduction__cum_evr=0.25, dataprocess__num__num_poly__degree=1, dataprocess__num__pca__n_components=36;, score=-0.022 total time=   1.5s\n",
      "[CV 2/5] END Regmodel__max_features=auto, Regmodel__n_estimators=100, dataprocess__cat__dimreduction__cum_evr=0.25, dataprocess__num__num_poly__degree=1, dataprocess__num__pca__n_components=36;, score=-0.021 total time=   1.6s\n",
      "[CV 3/5] END Regmodel__max_features=auto, Regmodel__n_estimators=100, dataprocess__cat__dimreduction__cum_evr=0.25, dataprocess__num__num_poly__degree=1, dataprocess__num__pca__n_components=36;, score=-0.026 total time=   1.5s\n",
      "[CV 4/5] END Regmodel__max_features=auto, Regmodel__n_estimators=100, dataprocess__cat__dimreduction__cum_evr=0.25, dataprocess__num__num_poly__degree=1, dataprocess__num__pca__n_components=36;, score=-0.027 total time=   1.5s\n",
      "[CV 5/5] END Regmodel__max_features=auto, Regmodel__n_estimators=100, dataprocess__cat__dimreduction__cum_evr=0.25, dataprocess__num__num_poly__degree=1, dataprocess__num__pca__n_components=36;, score=-0.035 total time=   1.5s\n",
      "[CV 1/5] END Regmodel__max_features=auto, Regmodel__n_estimators=100, dataprocess__cat__dimreduction__cum_evr=0.25, dataprocess__num__num_poly__degree=2, dataprocess__num__pca__n_components=10;, score=-0.024 total time=   2.5s\n",
      "[CV 2/5] END Regmodel__max_features=auto, Regmodel__n_estimators=100, dataprocess__cat__dimreduction__cum_evr=0.25, dataprocess__num__num_poly__degree=2, dataprocess__num__pca__n_components=10;, score=-0.023 total time=   2.5s\n",
      "[CV 3/5] END Regmodel__max_features=auto, Regmodel__n_estimators=100, dataprocess__cat__dimreduction__cum_evr=0.25, dataprocess__num__num_poly__degree=2, dataprocess__num__pca__n_components=10;, score=-0.026 total time=   2.5s\n"
     ]
    },
    {
     "name": "stdout",
     "output_type": "stream",
     "text": [
      "[CV 4/5] END Regmodel__max_features=auto, Regmodel__n_estimators=100, dataprocess__cat__dimreduction__cum_evr=0.25, dataprocess__num__num_poly__degree=2, dataprocess__num__pca__n_components=10;, score=-0.030 total time=   2.5s\n",
      "[CV 5/5] END Regmodel__max_features=auto, Regmodel__n_estimators=100, dataprocess__cat__dimreduction__cum_evr=0.25, dataprocess__num__num_poly__degree=2, dataprocess__num__pca__n_components=10;, score=-0.037 total time=   2.4s\n",
      "[CV 1/5] END Regmodel__max_features=auto, Regmodel__n_estimators=100, dataprocess__cat__dimreduction__cum_evr=0.25, dataprocess__num__num_poly__degree=2, dataprocess__num__pca__n_components=20;, score=-0.024 total time=   7.6s\n",
      "[CV 2/5] END Regmodel__max_features=auto, Regmodel__n_estimators=100, dataprocess__cat__dimreduction__cum_evr=0.25, dataprocess__num__num_poly__degree=2, dataprocess__num__pca__n_components=20;, score=-0.025 total time=   7.5s\n",
      "[CV 3/5] END Regmodel__max_features=auto, Regmodel__n_estimators=100, dataprocess__cat__dimreduction__cum_evr=0.25, dataprocess__num__num_poly__degree=2, dataprocess__num__pca__n_components=20;, score=-0.027 total time=   7.6s\n",
      "[CV 4/5] END Regmodel__max_features=auto, Regmodel__n_estimators=100, dataprocess__cat__dimreduction__cum_evr=0.25, dataprocess__num__num_poly__degree=2, dataprocess__num__pca__n_components=20;, score=-0.031 total time=   7.5s\n",
      "[CV 5/5] END Regmodel__max_features=auto, Regmodel__n_estimators=100, dataprocess__cat__dimreduction__cum_evr=0.25, dataprocess__num__num_poly__degree=2, dataprocess__num__pca__n_components=20;, score=-0.037 total time=   7.4s\n",
      "[CV 1/5] END Regmodel__max_features=auto, Regmodel__n_estimators=100, dataprocess__cat__dimreduction__cum_evr=0.25, dataprocess__num__num_poly__degree=2, dataprocess__num__pca__n_components=36;, score=-0.026 total time=  22.6s\n",
      "[CV 2/5] END Regmodel__max_features=auto, Regmodel__n_estimators=100, dataprocess__cat__dimreduction__cum_evr=0.25, dataprocess__num__num_poly__degree=2, dataprocess__num__pca__n_components=36;, score=-0.024 total time=  22.3s\n",
      "[CV 3/5] END Regmodel__max_features=auto, Regmodel__n_estimators=100, dataprocess__cat__dimreduction__cum_evr=0.25, dataprocess__num__num_poly__degree=2, dataprocess__num__pca__n_components=36;, score=-0.028 total time=  22.9s\n",
      "[CV 4/5] END Regmodel__max_features=auto, Regmodel__n_estimators=100, dataprocess__cat__dimreduction__cum_evr=0.25, dataprocess__num__num_poly__degree=2, dataprocess__num__pca__n_components=36;, score=-0.030 total time=  23.2s\n",
      "[CV 5/5] END Regmodel__max_features=auto, Regmodel__n_estimators=100, dataprocess__cat__dimreduction__cum_evr=0.25, dataprocess__num__num_poly__degree=2, dataprocess__num__pca__n_components=36;, score=-0.039 total time=  22.4s\n",
      "[CV 1/5] END Regmodel__max_features=auto, Regmodel__n_estimators=100, dataprocess__cat__dimreduction__cum_evr=0.5, dataprocess__num__num_poly__degree=1, dataprocess__num__pca__n_components=10;, score=-0.021 total time=   1.1s\n",
      "[CV 2/5] END Regmodel__max_features=auto, Regmodel__n_estimators=100, dataprocess__cat__dimreduction__cum_evr=0.5, dataprocess__num__num_poly__degree=1, dataprocess__num__pca__n_components=10;, score=-0.020 total time=   1.1s\n",
      "[CV 3/5] END Regmodel__max_features=auto, Regmodel__n_estimators=100, dataprocess__cat__dimreduction__cum_evr=0.5, dataprocess__num__num_poly__degree=1, dataprocess__num__pca__n_components=10;, score=-0.026 total time=   1.1s\n",
      "[CV 4/5] END Regmodel__max_features=auto, Regmodel__n_estimators=100, dataprocess__cat__dimreduction__cum_evr=0.5, dataprocess__num__num_poly__degree=1, dataprocess__num__pca__n_components=10;, score=-0.028 total time=   1.2s\n",
      "[CV 5/5] END Regmodel__max_features=auto, Regmodel__n_estimators=100, dataprocess__cat__dimreduction__cum_evr=0.5, dataprocess__num__num_poly__degree=1, dataprocess__num__pca__n_components=10;, score=-0.034 total time=   1.1s\n",
      "[CV 1/5] END Regmodel__max_features=auto, Regmodel__n_estimators=100, dataprocess__cat__dimreduction__cum_evr=0.5, dataprocess__num__num_poly__degree=1, dataprocess__num__pca__n_components=20;, score=-0.021 total time=   1.5s\n",
      "[CV 2/5] END Regmodel__max_features=auto, Regmodel__n_estimators=100, dataprocess__cat__dimreduction__cum_evr=0.5, dataprocess__num__num_poly__degree=1, dataprocess__num__pca__n_components=20;, score=-0.021 total time=   1.5s\n",
      "[CV 3/5] END Regmodel__max_features=auto, Regmodel__n_estimators=100, dataprocess__cat__dimreduction__cum_evr=0.5, dataprocess__num__num_poly__degree=1, dataprocess__num__pca__n_components=20;, score=-0.025 total time=   1.4s\n",
      "[CV 4/5] END Regmodel__max_features=auto, Regmodel__n_estimators=100, dataprocess__cat__dimreduction__cum_evr=0.5, dataprocess__num__num_poly__degree=1, dataprocess__num__pca__n_components=20;, score=-0.028 total time=   1.4s\n",
      "[CV 5/5] END Regmodel__max_features=auto, Regmodel__n_estimators=100, dataprocess__cat__dimreduction__cum_evr=0.5, dataprocess__num__num_poly__degree=1, dataprocess__num__pca__n_components=20;, score=-0.035 total time=   1.4s\n",
      "[CV 1/5] END Regmodel__max_features=auto, Regmodel__n_estimators=100, dataprocess__cat__dimreduction__cum_evr=0.5, dataprocess__num__num_poly__degree=1, dataprocess__num__pca__n_components=36;, score=-0.021 total time=   2.0s\n",
      "[CV 2/5] END Regmodel__max_features=auto, Regmodel__n_estimators=100, dataprocess__cat__dimreduction__cum_evr=0.5, dataprocess__num__num_poly__degree=1, dataprocess__num__pca__n_components=36;, score=-0.019 total time=   1.9s\n",
      "[CV 3/5] END Regmodel__max_features=auto, Regmodel__n_estimators=100, dataprocess__cat__dimreduction__cum_evr=0.5, dataprocess__num__num_poly__degree=1, dataprocess__num__pca__n_components=36;, score=-0.026 total time=   1.9s\n",
      "[CV 4/5] END Regmodel__max_features=auto, Regmodel__n_estimators=100, dataprocess__cat__dimreduction__cum_evr=0.5, dataprocess__num__num_poly__degree=1, dataprocess__num__pca__n_components=36;, score=-0.027 total time=   1.9s\n",
      "[CV 5/5] END Regmodel__max_features=auto, Regmodel__n_estimators=100, dataprocess__cat__dimreduction__cum_evr=0.5, dataprocess__num__num_poly__degree=1, dataprocess__num__pca__n_components=36;, score=-0.034 total time=   1.9s\n",
      "[CV 1/5] END Regmodel__max_features=auto, Regmodel__n_estimators=100, dataprocess__cat__dimreduction__cum_evr=0.5, dataprocess__num__num_poly__degree=2, dataprocess__num__pca__n_components=10;, score=-0.022 total time=   2.9s\n",
      "[CV 2/5] END Regmodel__max_features=auto, Regmodel__n_estimators=100, dataprocess__cat__dimreduction__cum_evr=0.5, dataprocess__num__num_poly__degree=2, dataprocess__num__pca__n_components=10;, score=-0.021 total time=   2.9s\n",
      "[CV 3/5] END Regmodel__max_features=auto, Regmodel__n_estimators=100, dataprocess__cat__dimreduction__cum_evr=0.5, dataprocess__num__num_poly__degree=2, dataprocess__num__pca__n_components=10;, score=-0.026 total time=   2.8s\n",
      "[CV 4/5] END Regmodel__max_features=auto, Regmodel__n_estimators=100, dataprocess__cat__dimreduction__cum_evr=0.5, dataprocess__num__num_poly__degree=2, dataprocess__num__pca__n_components=10;, score=-0.030 total time=   2.8s\n",
      "[CV 5/5] END Regmodel__max_features=auto, Regmodel__n_estimators=100, dataprocess__cat__dimreduction__cum_evr=0.5, dataprocess__num__num_poly__degree=2, dataprocess__num__pca__n_components=10;, score=-0.034 total time=   2.8s\n",
      "[CV 1/5] END Regmodel__max_features=auto, Regmodel__n_estimators=100, dataprocess__cat__dimreduction__cum_evr=0.5, dataprocess__num__num_poly__degree=2, dataprocess__num__pca__n_components=20;, score=-0.023 total time=   8.2s\n",
      "[CV 2/5] END Regmodel__max_features=auto, Regmodel__n_estimators=100, dataprocess__cat__dimreduction__cum_evr=0.5, dataprocess__num__num_poly__degree=2, dataprocess__num__pca__n_components=20;, score=-0.023 total time=   8.1s\n",
      "[CV 3/5] END Regmodel__max_features=auto, Regmodel__n_estimators=100, dataprocess__cat__dimreduction__cum_evr=0.5, dataprocess__num__num_poly__degree=2, dataprocess__num__pca__n_components=20;, score=-0.028 total time=   8.5s\n",
      "[CV 4/5] END Regmodel__max_features=auto, Regmodel__n_estimators=100, dataprocess__cat__dimreduction__cum_evr=0.5, dataprocess__num__num_poly__degree=2, dataprocess__num__pca__n_components=20;, score=-0.031 total time=   8.4s\n",
      "[CV 5/5] END Regmodel__max_features=auto, Regmodel__n_estimators=100, dataprocess__cat__dimreduction__cum_evr=0.5, dataprocess__num__num_poly__degree=2, dataprocess__num__pca__n_components=20;, score=-0.037 total time=   8.8s\n"
     ]
    },
    {
     "name": "stdout",
     "output_type": "stream",
     "text": [
      "[CV 1/5] END Regmodel__max_features=auto, Regmodel__n_estimators=100, dataprocess__cat__dimreduction__cum_evr=0.5, dataprocess__num__num_poly__degree=2, dataprocess__num__pca__n_components=36;, score=-0.024 total time=  26.8s\n",
      "[CV 2/5] END Regmodel__max_features=auto, Regmodel__n_estimators=100, dataprocess__cat__dimreduction__cum_evr=0.5, dataprocess__num__num_poly__degree=2, dataprocess__num__pca__n_components=36;, score=-0.022 total time=  24.0s\n",
      "[CV 3/5] END Regmodel__max_features=auto, Regmodel__n_estimators=100, dataprocess__cat__dimreduction__cum_evr=0.5, dataprocess__num__num_poly__degree=2, dataprocess__num__pca__n_components=36;, score=-0.028 total time=  23.6s\n",
      "[CV 4/5] END Regmodel__max_features=auto, Regmodel__n_estimators=100, dataprocess__cat__dimreduction__cum_evr=0.5, dataprocess__num__num_poly__degree=2, dataprocess__num__pca__n_components=36;, score=-0.032 total time=  23.2s\n",
      "[CV 5/5] END Regmodel__max_features=auto, Regmodel__n_estimators=100, dataprocess__cat__dimreduction__cum_evr=0.5, dataprocess__num__num_poly__degree=2, dataprocess__num__pca__n_components=36;, score=-0.039 total time=  23.2s\n",
      "[CV 1/5] END Regmodel__max_features=auto, Regmodel__n_estimators=100, dataprocess__cat__dimreduction__cum_evr=0.75, dataprocess__num__num_poly__degree=1, dataprocess__num__pca__n_components=10;, score=-0.022 total time=   1.7s\n",
      "[CV 2/5] END Regmodel__max_features=auto, Regmodel__n_estimators=100, dataprocess__cat__dimreduction__cum_evr=0.75, dataprocess__num__num_poly__degree=1, dataprocess__num__pca__n_components=10;, score=-0.022 total time=   1.7s\n",
      "[CV 3/5] END Regmodel__max_features=auto, Regmodel__n_estimators=100, dataprocess__cat__dimreduction__cum_evr=0.75, dataprocess__num__num_poly__degree=1, dataprocess__num__pca__n_components=10;, score=-0.025 total time=   1.7s\n",
      "[CV 4/5] END Regmodel__max_features=auto, Regmodel__n_estimators=100, dataprocess__cat__dimreduction__cum_evr=0.75, dataprocess__num__num_poly__degree=1, dataprocess__num__pca__n_components=10;, score=-0.028 total time=   1.7s\n",
      "[CV 5/5] END Regmodel__max_features=auto, Regmodel__n_estimators=100, dataprocess__cat__dimreduction__cum_evr=0.75, dataprocess__num__num_poly__degree=1, dataprocess__num__pca__n_components=10;, score=-0.035 total time=   1.7s\n",
      "[CV 1/5] END Regmodel__max_features=auto, Regmodel__n_estimators=100, dataprocess__cat__dimreduction__cum_evr=0.75, dataprocess__num__num_poly__degree=1, dataprocess__num__pca__n_components=20;, score=-0.021 total time=   2.0s\n",
      "[CV 2/5] END Regmodel__max_features=auto, Regmodel__n_estimators=100, dataprocess__cat__dimreduction__cum_evr=0.75, dataprocess__num__num_poly__degree=1, dataprocess__num__pca__n_components=20;, score=-0.023 total time=   2.0s\n",
      "[CV 3/5] END Regmodel__max_features=auto, Regmodel__n_estimators=100, dataprocess__cat__dimreduction__cum_evr=0.75, dataprocess__num__num_poly__degree=1, dataprocess__num__pca__n_components=20;, score=-0.026 total time=   2.0s\n",
      "[CV 4/5] END Regmodel__max_features=auto, Regmodel__n_estimators=100, dataprocess__cat__dimreduction__cum_evr=0.75, dataprocess__num__num_poly__degree=1, dataprocess__num__pca__n_components=20;, score=-0.030 total time=   2.0s\n",
      "[CV 5/5] END Regmodel__max_features=auto, Regmodel__n_estimators=100, dataprocess__cat__dimreduction__cum_evr=0.75, dataprocess__num__num_poly__degree=1, dataprocess__num__pca__n_components=20;, score=-0.035 total time=   2.0s\n",
      "[CV 1/5] END Regmodel__max_features=auto, Regmodel__n_estimators=100, dataprocess__cat__dimreduction__cum_evr=0.75, dataprocess__num__num_poly__degree=1, dataprocess__num__pca__n_components=36;, score=-0.021 total time=   2.5s\n",
      "[CV 2/5] END Regmodel__max_features=auto, Regmodel__n_estimators=100, dataprocess__cat__dimreduction__cum_evr=0.75, dataprocess__num__num_poly__degree=1, dataprocess__num__pca__n_components=36;, score=-0.020 total time=   2.5s\n",
      "[CV 3/5] END Regmodel__max_features=auto, Regmodel__n_estimators=100, dataprocess__cat__dimreduction__cum_evr=0.75, dataprocess__num__num_poly__degree=1, dataprocess__num__pca__n_components=36;, score=-0.026 total time=   2.5s\n",
      "[CV 4/5] END Regmodel__max_features=auto, Regmodel__n_estimators=100, dataprocess__cat__dimreduction__cum_evr=0.75, dataprocess__num__num_poly__degree=1, dataprocess__num__pca__n_components=36;, score=-0.028 total time=   2.4s\n",
      "[CV 5/5] END Regmodel__max_features=auto, Regmodel__n_estimators=100, dataprocess__cat__dimreduction__cum_evr=0.75, dataprocess__num__num_poly__degree=1, dataprocess__num__pca__n_components=36;, score=-0.036 total time=   2.5s\n",
      "[CV 1/5] END Regmodel__max_features=auto, Regmodel__n_estimators=100, dataprocess__cat__dimreduction__cum_evr=0.75, dataprocess__num__num_poly__degree=2, dataprocess__num__pca__n_components=10;, score=-0.024 total time=   3.4s\n",
      "[CV 2/5] END Regmodel__max_features=auto, Regmodel__n_estimators=100, dataprocess__cat__dimreduction__cum_evr=0.75, dataprocess__num__num_poly__degree=2, dataprocess__num__pca__n_components=10;, score=-0.022 total time=   3.4s\n",
      "[CV 3/5] END Regmodel__max_features=auto, Regmodel__n_estimators=100, dataprocess__cat__dimreduction__cum_evr=0.75, dataprocess__num__num_poly__degree=2, dataprocess__num__pca__n_components=10;, score=-0.025 total time=   3.4s\n",
      "[CV 4/5] END Regmodel__max_features=auto, Regmodel__n_estimators=100, dataprocess__cat__dimreduction__cum_evr=0.75, dataprocess__num__num_poly__degree=2, dataprocess__num__pca__n_components=10;, score=-0.031 total time=   3.4s\n",
      "[CV 5/5] END Regmodel__max_features=auto, Regmodel__n_estimators=100, dataprocess__cat__dimreduction__cum_evr=0.75, dataprocess__num__num_poly__degree=2, dataprocess__num__pca__n_components=10;, score=-0.036 total time=   3.4s\n",
      "[CV 1/5] END Regmodel__max_features=auto, Regmodel__n_estimators=100, dataprocess__cat__dimreduction__cum_evr=0.75, dataprocess__num__num_poly__degree=2, dataprocess__num__pca__n_components=20;, score=-0.023 total time=   8.6s\n",
      "[CV 2/5] END Regmodel__max_features=auto, Regmodel__n_estimators=100, dataprocess__cat__dimreduction__cum_evr=0.75, dataprocess__num__num_poly__degree=2, dataprocess__num__pca__n_components=20;, score=-0.024 total time=   8.6s\n",
      "[CV 3/5] END Regmodel__max_features=auto, Regmodel__n_estimators=100, dataprocess__cat__dimreduction__cum_evr=0.75, dataprocess__num__num_poly__degree=2, dataprocess__num__pca__n_components=20;, score=-0.027 total time=   8.5s\n",
      "[CV 4/5] END Regmodel__max_features=auto, Regmodel__n_estimators=100, dataprocess__cat__dimreduction__cum_evr=0.75, dataprocess__num__num_poly__degree=2, dataprocess__num__pca__n_components=20;, score=-0.032 total time=   8.4s\n",
      "[CV 5/5] END Regmodel__max_features=auto, Regmodel__n_estimators=100, dataprocess__cat__dimreduction__cum_evr=0.75, dataprocess__num__num_poly__degree=2, dataprocess__num__pca__n_components=20;, score=-0.037 total time=   8.3s\n",
      "[CV 1/5] END Regmodel__max_features=auto, Regmodel__n_estimators=100, dataprocess__cat__dimreduction__cum_evr=0.75, dataprocess__num__num_poly__degree=2, dataprocess__num__pca__n_components=36;, score=-0.025 total time=  23.7s\n",
      "[CV 2/5] END Regmodel__max_features=auto, Regmodel__n_estimators=100, dataprocess__cat__dimreduction__cum_evr=0.75, dataprocess__num__num_poly__degree=2, dataprocess__num__pca__n_components=36;, score=-0.023 total time=  23.4s\n",
      "[CV 3/5] END Regmodel__max_features=auto, Regmodel__n_estimators=100, dataprocess__cat__dimreduction__cum_evr=0.75, dataprocess__num__num_poly__degree=2, dataprocess__num__pca__n_components=36;, score=-0.027 total time=  23.3s\n",
      "[CV 4/5] END Regmodel__max_features=auto, Regmodel__n_estimators=100, dataprocess__cat__dimreduction__cum_evr=0.75, dataprocess__num__num_poly__degree=2, dataprocess__num__pca__n_components=36;, score=-0.029 total time=  23.3s\n",
      "[CV 5/5] END Regmodel__max_features=auto, Regmodel__n_estimators=100, dataprocess__cat__dimreduction__cum_evr=0.75, dataprocess__num__num_poly__degree=2, dataprocess__num__pca__n_components=36;, score=-0.038 total time=  23.0s\n",
      "[CV 1/5] END Regmodel__max_features=auto, Regmodel__n_estimators=100, dataprocess__cat__dimreduction__cum_evr=0.98, dataprocess__num__num_poly__degree=1, dataprocess__num__pca__n_components=10;, score=-0.023 total time=   4.1s\n",
      "[CV 2/5] END Regmodel__max_features=auto, Regmodel__n_estimators=100, dataprocess__cat__dimreduction__cum_evr=0.98, dataprocess__num__num_poly__degree=1, dataprocess__num__pca__n_components=10;, score=-0.023 total time=   4.2s\n"
     ]
    },
    {
     "name": "stdout",
     "output_type": "stream",
     "text": [
      "[CV 3/5] END Regmodel__max_features=auto, Regmodel__n_estimators=100, dataprocess__cat__dimreduction__cum_evr=0.98, dataprocess__num__num_poly__degree=1, dataprocess__num__pca__n_components=10;, score=-0.027 total time=   4.1s\n",
      "[CV 4/5] END Regmodel__max_features=auto, Regmodel__n_estimators=100, dataprocess__cat__dimreduction__cum_evr=0.98, dataprocess__num__num_poly__degree=1, dataprocess__num__pca__n_components=10;, score=-0.030 total time=   4.1s\n",
      "[CV 5/5] END Regmodel__max_features=auto, Regmodel__n_estimators=100, dataprocess__cat__dimreduction__cum_evr=0.98, dataprocess__num__num_poly__degree=1, dataprocess__num__pca__n_components=10;, score=-0.036 total time=   4.2s\n",
      "[CV 1/5] END Regmodel__max_features=auto, Regmodel__n_estimators=100, dataprocess__cat__dimreduction__cum_evr=0.98, dataprocess__num__num_poly__degree=1, dataprocess__num__pca__n_components=20;, score=-0.024 total time=   4.5s\n",
      "[CV 2/5] END Regmodel__max_features=auto, Regmodel__n_estimators=100, dataprocess__cat__dimreduction__cum_evr=0.98, dataprocess__num__num_poly__degree=1, dataprocess__num__pca__n_components=20;, score=-0.024 total time=   4.5s\n",
      "[CV 3/5] END Regmodel__max_features=auto, Regmodel__n_estimators=100, dataprocess__cat__dimreduction__cum_evr=0.98, dataprocess__num__num_poly__degree=1, dataprocess__num__pca__n_components=20;, score=-0.026 total time=   4.4s\n",
      "[CV 4/5] END Regmodel__max_features=auto, Regmodel__n_estimators=100, dataprocess__cat__dimreduction__cum_evr=0.98, dataprocess__num__num_poly__degree=1, dataprocess__num__pca__n_components=20;, score=-0.031 total time=   4.4s\n",
      "[CV 5/5] END Regmodel__max_features=auto, Regmodel__n_estimators=100, dataprocess__cat__dimreduction__cum_evr=0.98, dataprocess__num__num_poly__degree=1, dataprocess__num__pca__n_components=20;, score=-0.036 total time=   4.4s\n",
      "[CV 1/5] END Regmodel__max_features=auto, Regmodel__n_estimators=100, dataprocess__cat__dimreduction__cum_evr=0.98, dataprocess__num__num_poly__degree=1, dataprocess__num__pca__n_components=36;, score=-0.023 total time=   5.0s\n",
      "[CV 2/5] END Regmodel__max_features=auto, Regmodel__n_estimators=100, dataprocess__cat__dimreduction__cum_evr=0.98, dataprocess__num__num_poly__degree=1, dataprocess__num__pca__n_components=36;, score=-0.022 total time=   5.0s\n",
      "[CV 3/5] END Regmodel__max_features=auto, Regmodel__n_estimators=100, dataprocess__cat__dimreduction__cum_evr=0.98, dataprocess__num__num_poly__degree=1, dataprocess__num__pca__n_components=36;, score=-0.026 total time=   4.9s\n",
      "[CV 4/5] END Regmodel__max_features=auto, Regmodel__n_estimators=100, dataprocess__cat__dimreduction__cum_evr=0.98, dataprocess__num__num_poly__degree=1, dataprocess__num__pca__n_components=36;, score=-0.028 total time=   4.9s\n",
      "[CV 5/5] END Regmodel__max_features=auto, Regmodel__n_estimators=100, dataprocess__cat__dimreduction__cum_evr=0.98, dataprocess__num__num_poly__degree=1, dataprocess__num__pca__n_components=36;, score=-0.036 total time=   5.0s\n",
      "[CV 1/5] END Regmodel__max_features=auto, Regmodel__n_estimators=100, dataprocess__cat__dimreduction__cum_evr=0.98, dataprocess__num__num_poly__degree=2, dataprocess__num__pca__n_components=10;, score=-0.023 total time=   5.9s\n",
      "[CV 2/5] END Regmodel__max_features=auto, Regmodel__n_estimators=100, dataprocess__cat__dimreduction__cum_evr=0.98, dataprocess__num__num_poly__degree=2, dataprocess__num__pca__n_components=10;, score=-0.022 total time=   5.9s\n",
      "[CV 3/5] END Regmodel__max_features=auto, Regmodel__n_estimators=100, dataprocess__cat__dimreduction__cum_evr=0.98, dataprocess__num__num_poly__degree=2, dataprocess__num__pca__n_components=10;, score=-0.025 total time=   5.9s\n",
      "[CV 4/5] END Regmodel__max_features=auto, Regmodel__n_estimators=100, dataprocess__cat__dimreduction__cum_evr=0.98, dataprocess__num__num_poly__degree=2, dataprocess__num__pca__n_components=10;, score=-0.030 total time=   5.8s\n",
      "[CV 5/5] END Regmodel__max_features=auto, Regmodel__n_estimators=100, dataprocess__cat__dimreduction__cum_evr=0.98, dataprocess__num__num_poly__degree=2, dataprocess__num__pca__n_components=10;, score=-0.036 total time=   5.9s\n",
      "[CV 1/5] END Regmodel__max_features=auto, Regmodel__n_estimators=100, dataprocess__cat__dimreduction__cum_evr=0.98, dataprocess__num__num_poly__degree=2, dataprocess__num__pca__n_components=20;, score=-0.024 total time=  11.1s\n",
      "[CV 2/5] END Regmodel__max_features=auto, Regmodel__n_estimators=100, dataprocess__cat__dimreduction__cum_evr=0.98, dataprocess__num__num_poly__degree=2, dataprocess__num__pca__n_components=20;, score=-0.023 total time=  11.0s\n",
      "[CV 3/5] END Regmodel__max_features=auto, Regmodel__n_estimators=100, dataprocess__cat__dimreduction__cum_evr=0.98, dataprocess__num__num_poly__degree=2, dataprocess__num__pca__n_components=20;, score=-0.028 total time=  10.9s\n",
      "[CV 4/5] END Regmodel__max_features=auto, Regmodel__n_estimators=100, dataprocess__cat__dimreduction__cum_evr=0.98, dataprocess__num__num_poly__degree=2, dataprocess__num__pca__n_components=20;, score=-0.031 total time=  10.9s\n",
      "[CV 5/5] END Regmodel__max_features=auto, Regmodel__n_estimators=100, dataprocess__cat__dimreduction__cum_evr=0.98, dataprocess__num__num_poly__degree=2, dataprocess__num__pca__n_components=20;, score=-0.037 total time=  10.9s\n",
      "[CV 1/5] END Regmodel__max_features=auto, Regmodel__n_estimators=100, dataprocess__cat__dimreduction__cum_evr=0.98, dataprocess__num__num_poly__degree=2, dataprocess__num__pca__n_components=36;, score=-0.025 total time=  26.1s\n",
      "[CV 2/5] END Regmodel__max_features=auto, Regmodel__n_estimators=100, dataprocess__cat__dimreduction__cum_evr=0.98, dataprocess__num__num_poly__degree=2, dataprocess__num__pca__n_components=36;, score=-0.023 total time=  26.1s\n",
      "[CV 3/5] END Regmodel__max_features=auto, Regmodel__n_estimators=100, dataprocess__cat__dimreduction__cum_evr=0.98, dataprocess__num__num_poly__degree=2, dataprocess__num__pca__n_components=36;, score=-0.028 total time=  26.6s\n",
      "[CV 4/5] END Regmodel__max_features=auto, Regmodel__n_estimators=100, dataprocess__cat__dimreduction__cum_evr=0.98, dataprocess__num__num_poly__degree=2, dataprocess__num__pca__n_components=36;, score=-0.030 total time=  26.4s\n",
      "[CV 5/5] END Regmodel__max_features=auto, Regmodel__n_estimators=100, dataprocess__cat__dimreduction__cum_evr=0.98, dataprocess__num__num_poly__degree=2, dataprocess__num__pca__n_components=36;, score=-0.039 total time=  26.2s\n",
      "[CV 1/5] END Regmodel__max_features=sqrt, Regmodel__n_estimators=10, dataprocess__cat__dimreduction__cum_evr=0.25, dataprocess__num__num_poly__degree=1, dataprocess__num__pca__n_components=10;, score=-0.030 total time=   0.2s\n",
      "[CV 2/5] END Regmodel__max_features=sqrt, Regmodel__n_estimators=10, dataprocess__cat__dimreduction__cum_evr=0.25, dataprocess__num__num_poly__degree=1, dataprocess__num__pca__n_components=10;, score=-0.029 total time=   0.2s\n",
      "[CV 3/5] END Regmodel__max_features=sqrt, Regmodel__n_estimators=10, dataprocess__cat__dimreduction__cum_evr=0.25, dataprocess__num__num_poly__degree=1, dataprocess__num__pca__n_components=10;, score=-0.031 total time=   0.2s\n",
      "[CV 4/5] END Regmodel__max_features=sqrt, Regmodel__n_estimators=10, dataprocess__cat__dimreduction__cum_evr=0.25, dataprocess__num__num_poly__degree=1, dataprocess__num__pca__n_components=10;, score=-0.033 total time=   0.2s\n",
      "[CV 5/5] END Regmodel__max_features=sqrt, Regmodel__n_estimators=10, dataprocess__cat__dimreduction__cum_evr=0.25, dataprocess__num__num_poly__degree=1, dataprocess__num__pca__n_components=10;, score=-0.041 total time=   0.2s\n",
      "[CV 1/5] END Regmodel__max_features=sqrt, Regmodel__n_estimators=10, dataprocess__cat__dimreduction__cum_evr=0.25, dataprocess__num__num_poly__degree=1, dataprocess__num__pca__n_components=20;, score=-0.028 total time=   0.2s\n",
      "[CV 2/5] END Regmodel__max_features=sqrt, Regmodel__n_estimators=10, dataprocess__cat__dimreduction__cum_evr=0.25, dataprocess__num__num_poly__degree=1, dataprocess__num__pca__n_components=20;, score=-0.035 total time=   0.2s\n",
      "[CV 3/5] END Regmodel__max_features=sqrt, Regmodel__n_estimators=10, dataprocess__cat__dimreduction__cum_evr=0.25, dataprocess__num__num_poly__degree=1, dataprocess__num__pca__n_components=20;, score=-0.035 total time=   0.2s\n",
      "[CV 4/5] END Regmodel__max_features=sqrt, Regmodel__n_estimators=10, dataprocess__cat__dimreduction__cum_evr=0.25, dataprocess__num__num_poly__degree=1, dataprocess__num__pca__n_components=20;, score=-0.032 total time=   0.2s\n"
     ]
    },
    {
     "name": "stdout",
     "output_type": "stream",
     "text": [
      "[CV 5/5] END Regmodel__max_features=sqrt, Regmodel__n_estimators=10, dataprocess__cat__dimreduction__cum_evr=0.25, dataprocess__num__num_poly__degree=1, dataprocess__num__pca__n_components=20;, score=-0.042 total time=   0.2s\n",
      "[CV 1/5] END Regmodel__max_features=sqrt, Regmodel__n_estimators=10, dataprocess__cat__dimreduction__cum_evr=0.25, dataprocess__num__num_poly__degree=1, dataprocess__num__pca__n_components=36;, score=-0.030 total time=   0.2s\n",
      "[CV 2/5] END Regmodel__max_features=sqrt, Regmodel__n_estimators=10, dataprocess__cat__dimreduction__cum_evr=0.25, dataprocess__num__num_poly__degree=1, dataprocess__num__pca__n_components=36;, score=-0.033 total time=   0.2s\n",
      "[CV 3/5] END Regmodel__max_features=sqrt, Regmodel__n_estimators=10, dataprocess__cat__dimreduction__cum_evr=0.25, dataprocess__num__num_poly__degree=1, dataprocess__num__pca__n_components=36;, score=-0.032 total time=   0.2s\n",
      "[CV 4/5] END Regmodel__max_features=sqrt, Regmodel__n_estimators=10, dataprocess__cat__dimreduction__cum_evr=0.25, dataprocess__num__num_poly__degree=1, dataprocess__num__pca__n_components=36;, score=-0.033 total time=   0.2s\n",
      "[CV 5/5] END Regmodel__max_features=sqrt, Regmodel__n_estimators=10, dataprocess__cat__dimreduction__cum_evr=0.25, dataprocess__num__num_poly__degree=1, dataprocess__num__pca__n_components=36;, score=-0.046 total time=   0.2s\n",
      "[CV 1/5] END Regmodel__max_features=sqrt, Regmodel__n_estimators=10, dataprocess__cat__dimreduction__cum_evr=0.25, dataprocess__num__num_poly__degree=2, dataprocess__num__pca__n_components=10;, score=-0.037 total time=   0.2s\n",
      "[CV 2/5] END Regmodel__max_features=sqrt, Regmodel__n_estimators=10, dataprocess__cat__dimreduction__cum_evr=0.25, dataprocess__num__num_poly__degree=2, dataprocess__num__pca__n_components=10;, score=-0.038 total time=   0.2s\n",
      "[CV 3/5] END Regmodel__max_features=sqrt, Regmodel__n_estimators=10, dataprocess__cat__dimreduction__cum_evr=0.25, dataprocess__num__num_poly__degree=2, dataprocess__num__pca__n_components=10;, score=-0.032 total time=   0.2s\n",
      "[CV 4/5] END Regmodel__max_features=sqrt, Regmodel__n_estimators=10, dataprocess__cat__dimreduction__cum_evr=0.25, dataprocess__num__num_poly__degree=2, dataprocess__num__pca__n_components=10;, score=-0.036 total time=   0.2s\n",
      "[CV 5/5] END Regmodel__max_features=sqrt, Regmodel__n_estimators=10, dataprocess__cat__dimreduction__cum_evr=0.25, dataprocess__num__num_poly__degree=2, dataprocess__num__pca__n_components=10;, score=-0.050 total time=   0.2s\n",
      "[CV 1/5] END Regmodel__max_features=sqrt, Regmodel__n_estimators=10, dataprocess__cat__dimreduction__cum_evr=0.25, dataprocess__num__num_poly__degree=2, dataprocess__num__pca__n_components=20;, score=-0.046 total time=   0.2s\n",
      "[CV 2/5] END Regmodel__max_features=sqrt, Regmodel__n_estimators=10, dataprocess__cat__dimreduction__cum_evr=0.25, dataprocess__num__num_poly__degree=2, dataprocess__num__pca__n_components=20;, score=-0.037 total time=   0.2s\n",
      "[CV 3/5] END Regmodel__max_features=sqrt, Regmodel__n_estimators=10, dataprocess__cat__dimreduction__cum_evr=0.25, dataprocess__num__num_poly__degree=2, dataprocess__num__pca__n_components=20;, score=-0.040 total time=   0.2s\n",
      "[CV 4/5] END Regmodel__max_features=sqrt, Regmodel__n_estimators=10, dataprocess__cat__dimreduction__cum_evr=0.25, dataprocess__num__num_poly__degree=2, dataprocess__num__pca__n_components=20;, score=-0.046 total time=   0.2s\n",
      "[CV 5/5] END Regmodel__max_features=sqrt, Regmodel__n_estimators=10, dataprocess__cat__dimreduction__cum_evr=0.25, dataprocess__num__num_poly__degree=2, dataprocess__num__pca__n_components=20;, score=-0.055 total time=   0.2s\n",
      "[CV 1/5] END Regmodel__max_features=sqrt, Regmodel__n_estimators=10, dataprocess__cat__dimreduction__cum_evr=0.25, dataprocess__num__num_poly__degree=2, dataprocess__num__pca__n_components=36;, score=-0.051 total time=   0.3s\n",
      "[CV 2/5] END Regmodel__max_features=sqrt, Regmodel__n_estimators=10, dataprocess__cat__dimreduction__cum_evr=0.25, dataprocess__num__num_poly__degree=2, dataprocess__num__pca__n_components=36;, score=-0.057 total time=   0.3s\n",
      "[CV 3/5] END Regmodel__max_features=sqrt, Regmodel__n_estimators=10, dataprocess__cat__dimreduction__cum_evr=0.25, dataprocess__num__num_poly__degree=2, dataprocess__num__pca__n_components=36;, score=-0.061 total time=   0.3s\n",
      "[CV 4/5] END Regmodel__max_features=sqrt, Regmodel__n_estimators=10, dataprocess__cat__dimreduction__cum_evr=0.25, dataprocess__num__num_poly__degree=2, dataprocess__num__pca__n_components=36;, score=-0.056 total time=   0.3s\n",
      "[CV 5/5] END Regmodel__max_features=sqrt, Regmodel__n_estimators=10, dataprocess__cat__dimreduction__cum_evr=0.25, dataprocess__num__num_poly__degree=2, dataprocess__num__pca__n_components=36;, score=-0.074 total time=   0.3s\n",
      "[CV 1/5] END Regmodel__max_features=sqrt, Regmodel__n_estimators=10, dataprocess__cat__dimreduction__cum_evr=0.5, dataprocess__num__num_poly__degree=1, dataprocess__num__pca__n_components=10;, score=-0.027 total time=   0.2s\n",
      "[CV 2/5] END Regmodel__max_features=sqrt, Regmodel__n_estimators=10, dataprocess__cat__dimreduction__cum_evr=0.5, dataprocess__num__num_poly__degree=1, dataprocess__num__pca__n_components=10;, score=-0.029 total time=   0.2s\n",
      "[CV 3/5] END Regmodel__max_features=sqrt, Regmodel__n_estimators=10, dataprocess__cat__dimreduction__cum_evr=0.5, dataprocess__num__num_poly__degree=1, dataprocess__num__pca__n_components=10;, score=-0.032 total time=   0.2s\n",
      "[CV 4/5] END Regmodel__max_features=sqrt, Regmodel__n_estimators=10, dataprocess__cat__dimreduction__cum_evr=0.5, dataprocess__num__num_poly__degree=1, dataprocess__num__pca__n_components=10;, score=-0.035 total time=   0.2s\n",
      "[CV 5/5] END Regmodel__max_features=sqrt, Regmodel__n_estimators=10, dataprocess__cat__dimreduction__cum_evr=0.5, dataprocess__num__num_poly__degree=1, dataprocess__num__pca__n_components=10;, score=-0.047 total time=   0.2s\n",
      "[CV 1/5] END Regmodel__max_features=sqrt, Regmodel__n_estimators=10, dataprocess__cat__dimreduction__cum_evr=0.5, dataprocess__num__num_poly__degree=1, dataprocess__num__pca__n_components=20;, score=-0.030 total time=   0.2s\n",
      "[CV 2/5] END Regmodel__max_features=sqrt, Regmodel__n_estimators=10, dataprocess__cat__dimreduction__cum_evr=0.5, dataprocess__num__num_poly__degree=1, dataprocess__num__pca__n_components=20;, score=-0.033 total time=   0.2s\n",
      "[CV 3/5] END Regmodel__max_features=sqrt, Regmodel__n_estimators=10, dataprocess__cat__dimreduction__cum_evr=0.5, dataprocess__num__num_poly__degree=1, dataprocess__num__pca__n_components=20;, score=-0.026 total time=   0.2s\n",
      "[CV 4/5] END Regmodel__max_features=sqrt, Regmodel__n_estimators=10, dataprocess__cat__dimreduction__cum_evr=0.5, dataprocess__num__num_poly__degree=1, dataprocess__num__pca__n_components=20;, score=-0.039 total time=   0.2s\n",
      "[CV 5/5] END Regmodel__max_features=sqrt, Regmodel__n_estimators=10, dataprocess__cat__dimreduction__cum_evr=0.5, dataprocess__num__num_poly__degree=1, dataprocess__num__pca__n_components=20;, score=-0.042 total time=   0.2s\n",
      "[CV 1/5] END Regmodel__max_features=sqrt, Regmodel__n_estimators=10, dataprocess__cat__dimreduction__cum_evr=0.5, dataprocess__num__num_poly__degree=1, dataprocess__num__pca__n_components=36;, score=-0.031 total time=   0.2s\n",
      "[CV 2/5] END Regmodel__max_features=sqrt, Regmodel__n_estimators=10, dataprocess__cat__dimreduction__cum_evr=0.5, dataprocess__num__num_poly__degree=1, dataprocess__num__pca__n_components=36;, score=-0.032 total time=   0.2s\n",
      "[CV 3/5] END Regmodel__max_features=sqrt, Regmodel__n_estimators=10, dataprocess__cat__dimreduction__cum_evr=0.5, dataprocess__num__num_poly__degree=1, dataprocess__num__pca__n_components=36;, score=-0.030 total time=   0.2s\n",
      "[CV 4/5] END Regmodel__max_features=sqrt, Regmodel__n_estimators=10, dataprocess__cat__dimreduction__cum_evr=0.5, dataprocess__num__num_poly__degree=1, dataprocess__num__pca__n_components=36;, score=-0.038 total time=   0.2s\n",
      "[CV 5/5] END Regmodel__max_features=sqrt, Regmodel__n_estimators=10, dataprocess__cat__dimreduction__cum_evr=0.5, dataprocess__num__num_poly__degree=1, dataprocess__num__pca__n_components=36;, score=-0.045 total time=   0.2s\n",
      "[CV 1/5] END Regmodel__max_features=sqrt, Regmodel__n_estimators=10, dataprocess__cat__dimreduction__cum_evr=0.5, dataprocess__num__num_poly__degree=2, dataprocess__num__pca__n_components=10;, score=-0.037 total time=   0.2s\n"
     ]
    },
    {
     "name": "stdout",
     "output_type": "stream",
     "text": [
      "[CV 2/5] END Regmodel__max_features=sqrt, Regmodel__n_estimators=10, dataprocess__cat__dimreduction__cum_evr=0.5, dataprocess__num__num_poly__degree=2, dataprocess__num__pca__n_components=10;, score=-0.034 total time=   0.2s\n",
      "[CV 3/5] END Regmodel__max_features=sqrt, Regmodel__n_estimators=10, dataprocess__cat__dimreduction__cum_evr=0.5, dataprocess__num__num_poly__degree=2, dataprocess__num__pca__n_components=10;, score=-0.039 total time=   0.2s\n",
      "[CV 4/5] END Regmodel__max_features=sqrt, Regmodel__n_estimators=10, dataprocess__cat__dimreduction__cum_evr=0.5, dataprocess__num__num_poly__degree=2, dataprocess__num__pca__n_components=10;, score=-0.036 total time=   0.2s\n",
      "[CV 5/5] END Regmodel__max_features=sqrt, Regmodel__n_estimators=10, dataprocess__cat__dimreduction__cum_evr=0.5, dataprocess__num__num_poly__degree=2, dataprocess__num__pca__n_components=10;, score=-0.047 total time=   0.2s\n",
      "[CV 1/5] END Regmodel__max_features=sqrt, Regmodel__n_estimators=10, dataprocess__cat__dimreduction__cum_evr=0.5, dataprocess__num__num_poly__degree=2, dataprocess__num__pca__n_components=20;, score=-0.039 total time=   0.3s\n",
      "[CV 2/5] END Regmodel__max_features=sqrt, Regmodel__n_estimators=10, dataprocess__cat__dimreduction__cum_evr=0.5, dataprocess__num__num_poly__degree=2, dataprocess__num__pca__n_components=20;, score=-0.046 total time=   0.3s\n",
      "[CV 3/5] END Regmodel__max_features=sqrt, Regmodel__n_estimators=10, dataprocess__cat__dimreduction__cum_evr=0.5, dataprocess__num__num_poly__degree=2, dataprocess__num__pca__n_components=20;, score=-0.039 total time=   0.3s\n",
      "[CV 4/5] END Regmodel__max_features=sqrt, Regmodel__n_estimators=10, dataprocess__cat__dimreduction__cum_evr=0.5, dataprocess__num__num_poly__degree=2, dataprocess__num__pca__n_components=20;, score=-0.039 total time=   0.3s\n",
      "[CV 5/5] END Regmodel__max_features=sqrt, Regmodel__n_estimators=10, dataprocess__cat__dimreduction__cum_evr=0.5, dataprocess__num__num_poly__degree=2, dataprocess__num__pca__n_components=20;, score=-0.050 total time=   0.3s\n",
      "[CV 1/5] END Regmodel__max_features=sqrt, Regmodel__n_estimators=10, dataprocess__cat__dimreduction__cum_evr=0.5, dataprocess__num__num_poly__degree=2, dataprocess__num__pca__n_components=36;, score=-0.056 total time=   0.3s\n",
      "[CV 2/5] END Regmodel__max_features=sqrt, Regmodel__n_estimators=10, dataprocess__cat__dimreduction__cum_evr=0.5, dataprocess__num__num_poly__degree=2, dataprocess__num__pca__n_components=36;, score=-0.056 total time=   0.3s\n",
      "[CV 3/5] END Regmodel__max_features=sqrt, Regmodel__n_estimators=10, dataprocess__cat__dimreduction__cum_evr=0.5, dataprocess__num__num_poly__degree=2, dataprocess__num__pca__n_components=36;, score=-0.051 total time=   0.3s\n",
      "[CV 4/5] END Regmodel__max_features=sqrt, Regmodel__n_estimators=10, dataprocess__cat__dimreduction__cum_evr=0.5, dataprocess__num__num_poly__degree=2, dataprocess__num__pca__n_components=36;, score=-0.067 total time=   0.3s\n",
      "[CV 5/5] END Regmodel__max_features=sqrt, Regmodel__n_estimators=10, dataprocess__cat__dimreduction__cum_evr=0.5, dataprocess__num__num_poly__degree=2, dataprocess__num__pca__n_components=36;, score=-0.061 total time=   0.3s\n",
      "[CV 1/5] END Regmodel__max_features=sqrt, Regmodel__n_estimators=10, dataprocess__cat__dimreduction__cum_evr=0.75, dataprocess__num__num_poly__degree=1, dataprocess__num__pca__n_components=10;, score=-0.034 total time=   0.2s\n",
      "[CV 2/5] END Regmodel__max_features=sqrt, Regmodel__n_estimators=10, dataprocess__cat__dimreduction__cum_evr=0.75, dataprocess__num__num_poly__degree=1, dataprocess__num__pca__n_components=10;, score=-0.040 total time=   0.3s\n",
      "[CV 3/5] END Regmodel__max_features=sqrt, Regmodel__n_estimators=10, dataprocess__cat__dimreduction__cum_evr=0.75, dataprocess__num__num_poly__degree=1, dataprocess__num__pca__n_components=10;, score=-0.033 total time=   0.2s\n",
      "[CV 4/5] END Regmodel__max_features=sqrt, Regmodel__n_estimators=10, dataprocess__cat__dimreduction__cum_evr=0.75, dataprocess__num__num_poly__degree=1, dataprocess__num__pca__n_components=10;, score=-0.042 total time=   0.2s\n",
      "[CV 5/5] END Regmodel__max_features=sqrt, Regmodel__n_estimators=10, dataprocess__cat__dimreduction__cum_evr=0.75, dataprocess__num__num_poly__degree=1, dataprocess__num__pca__n_components=10;, score=-0.049 total time=   0.2s\n",
      "[CV 1/5] END Regmodel__max_features=sqrt, Regmodel__n_estimators=10, dataprocess__cat__dimreduction__cum_evr=0.75, dataprocess__num__num_poly__degree=1, dataprocess__num__pca__n_components=20;, score=-0.033 total time=   0.2s\n",
      "[CV 2/5] END Regmodel__max_features=sqrt, Regmodel__n_estimators=10, dataprocess__cat__dimreduction__cum_evr=0.75, dataprocess__num__num_poly__degree=1, dataprocess__num__pca__n_components=20;, score=-0.035 total time=   0.2s\n",
      "[CV 3/5] END Regmodel__max_features=sqrt, Regmodel__n_estimators=10, dataprocess__cat__dimreduction__cum_evr=0.75, dataprocess__num__num_poly__degree=1, dataprocess__num__pca__n_components=20;, score=-0.034 total time=   0.2s\n",
      "[CV 4/5] END Regmodel__max_features=sqrt, Regmodel__n_estimators=10, dataprocess__cat__dimreduction__cum_evr=0.75, dataprocess__num__num_poly__degree=1, dataprocess__num__pca__n_components=20;, score=-0.039 total time=   0.2s\n",
      "[CV 5/5] END Regmodel__max_features=sqrt, Regmodel__n_estimators=10, dataprocess__cat__dimreduction__cum_evr=0.75, dataprocess__num__num_poly__degree=1, dataprocess__num__pca__n_components=20;, score=-0.048 total time=   0.2s\n",
      "[CV 1/5] END Regmodel__max_features=sqrt, Regmodel__n_estimators=10, dataprocess__cat__dimreduction__cum_evr=0.75, dataprocess__num__num_poly__degree=1, dataprocess__num__pca__n_components=36;, score=-0.034 total time=   0.2s\n",
      "[CV 2/5] END Regmodel__max_features=sqrt, Regmodel__n_estimators=10, dataprocess__cat__dimreduction__cum_evr=0.75, dataprocess__num__num_poly__degree=1, dataprocess__num__pca__n_components=36;, score=-0.040 total time=   0.2s\n",
      "[CV 3/5] END Regmodel__max_features=sqrt, Regmodel__n_estimators=10, dataprocess__cat__dimreduction__cum_evr=0.75, dataprocess__num__num_poly__degree=1, dataprocess__num__pca__n_components=36;, score=-0.035 total time=   0.2s\n",
      "[CV 4/5] END Regmodel__max_features=sqrt, Regmodel__n_estimators=10, dataprocess__cat__dimreduction__cum_evr=0.75, dataprocess__num__num_poly__degree=1, dataprocess__num__pca__n_components=36;, score=-0.034 total time=   0.2s\n",
      "[CV 5/5] END Regmodel__max_features=sqrt, Regmodel__n_estimators=10, dataprocess__cat__dimreduction__cum_evr=0.75, dataprocess__num__num_poly__degree=1, dataprocess__num__pca__n_components=36;, score=-0.050 total time=   0.2s\n",
      "[CV 1/5] END Regmodel__max_features=sqrt, Regmodel__n_estimators=10, dataprocess__cat__dimreduction__cum_evr=0.75, dataprocess__num__num_poly__degree=2, dataprocess__num__pca__n_components=10;, score=-0.031 total time=   0.3s\n",
      "[CV 2/5] END Regmodel__max_features=sqrt, Regmodel__n_estimators=10, dataprocess__cat__dimreduction__cum_evr=0.75, dataprocess__num__num_poly__degree=2, dataprocess__num__pca__n_components=10;, score=-0.039 total time=   0.3s\n",
      "[CV 3/5] END Regmodel__max_features=sqrt, Regmodel__n_estimators=10, dataprocess__cat__dimreduction__cum_evr=0.75, dataprocess__num__num_poly__degree=2, dataprocess__num__pca__n_components=10;, score=-0.037 total time=   0.3s\n",
      "[CV 4/5] END Regmodel__max_features=sqrt, Regmodel__n_estimators=10, dataprocess__cat__dimreduction__cum_evr=0.75, dataprocess__num__num_poly__degree=2, dataprocess__num__pca__n_components=10;, score=-0.044 total time=   0.3s\n",
      "[CV 5/5] END Regmodel__max_features=sqrt, Regmodel__n_estimators=10, dataprocess__cat__dimreduction__cum_evr=0.75, dataprocess__num__num_poly__degree=2, dataprocess__num__pca__n_components=10;, score=-0.052 total time=   0.3s\n",
      "[CV 1/5] END Regmodel__max_features=sqrt, Regmodel__n_estimators=10, dataprocess__cat__dimreduction__cum_evr=0.75, dataprocess__num__num_poly__degree=2, dataprocess__num__pca__n_components=20;, score=-0.038 total time=   0.3s\n",
      "[CV 2/5] END Regmodel__max_features=sqrt, Regmodel__n_estimators=10, dataprocess__cat__dimreduction__cum_evr=0.75, dataprocess__num__num_poly__degree=2, dataprocess__num__pca__n_components=20;, score=-0.040 total time=   0.3s\n",
      "[CV 3/5] END Regmodel__max_features=sqrt, Regmodel__n_estimators=10, dataprocess__cat__dimreduction__cum_evr=0.75, dataprocess__num__num_poly__degree=2, dataprocess__num__pca__n_components=20;, score=-0.041 total time=   0.3s\n"
     ]
    },
    {
     "name": "stdout",
     "output_type": "stream",
     "text": [
      "[CV 4/5] END Regmodel__max_features=sqrt, Regmodel__n_estimators=10, dataprocess__cat__dimreduction__cum_evr=0.75, dataprocess__num__num_poly__degree=2, dataprocess__num__pca__n_components=20;, score=-0.044 total time=   0.3s\n",
      "[CV 5/5] END Regmodel__max_features=sqrt, Regmodel__n_estimators=10, dataprocess__cat__dimreduction__cum_evr=0.75, dataprocess__num__num_poly__degree=2, dataprocess__num__pca__n_components=20;, score=-0.052 total time=   0.3s\n",
      "[CV 1/5] END Regmodel__max_features=sqrt, Regmodel__n_estimators=10, dataprocess__cat__dimreduction__cum_evr=0.75, dataprocess__num__num_poly__degree=2, dataprocess__num__pca__n_components=36;, score=-0.056 total time=   0.3s\n",
      "[CV 2/5] END Regmodel__max_features=sqrt, Regmodel__n_estimators=10, dataprocess__cat__dimreduction__cum_evr=0.75, dataprocess__num__num_poly__degree=2, dataprocess__num__pca__n_components=36;, score=-0.050 total time=   0.3s\n",
      "[CV 3/5] END Regmodel__max_features=sqrt, Regmodel__n_estimators=10, dataprocess__cat__dimreduction__cum_evr=0.75, dataprocess__num__num_poly__degree=2, dataprocess__num__pca__n_components=36;, score=-0.042 total time=   0.3s\n",
      "[CV 4/5] END Regmodel__max_features=sqrt, Regmodel__n_estimators=10, dataprocess__cat__dimreduction__cum_evr=0.75, dataprocess__num__num_poly__degree=2, dataprocess__num__pca__n_components=36;, score=-0.061 total time=   0.3s\n",
      "[CV 5/5] END Regmodel__max_features=sqrt, Regmodel__n_estimators=10, dataprocess__cat__dimreduction__cum_evr=0.75, dataprocess__num__num_poly__degree=2, dataprocess__num__pca__n_components=36;, score=-0.072 total time=   0.4s\n",
      "[CV 1/5] END Regmodel__max_features=sqrt, Regmodel__n_estimators=10, dataprocess__cat__dimreduction__cum_evr=0.98, dataprocess__num__num_poly__degree=1, dataprocess__num__pca__n_components=10;, score=-0.044 total time=   0.3s\n",
      "[CV 2/5] END Regmodel__max_features=sqrt, Regmodel__n_estimators=10, dataprocess__cat__dimreduction__cum_evr=0.98, dataprocess__num__num_poly__degree=1, dataprocess__num__pca__n_components=10;, score=-0.038 total time=   0.3s\n",
      "[CV 3/5] END Regmodel__max_features=sqrt, Regmodel__n_estimators=10, dataprocess__cat__dimreduction__cum_evr=0.98, dataprocess__num__num_poly__degree=1, dataprocess__num__pca__n_components=10;, score=-0.042 total time=   0.3s\n",
      "[CV 4/5] END Regmodel__max_features=sqrt, Regmodel__n_estimators=10, dataprocess__cat__dimreduction__cum_evr=0.98, dataprocess__num__num_poly__degree=1, dataprocess__num__pca__n_components=10;, score=-0.051 total time=   0.3s\n",
      "[CV 5/5] END Regmodel__max_features=sqrt, Regmodel__n_estimators=10, dataprocess__cat__dimreduction__cum_evr=0.98, dataprocess__num__num_poly__degree=1, dataprocess__num__pca__n_components=10;, score=-0.055 total time=   0.3s\n",
      "[CV 1/5] END Regmodel__max_features=sqrt, Regmodel__n_estimators=10, dataprocess__cat__dimreduction__cum_evr=0.98, dataprocess__num__num_poly__degree=1, dataprocess__num__pca__n_components=20;, score=-0.042 total time=   0.3s\n",
      "[CV 2/5] END Regmodel__max_features=sqrt, Regmodel__n_estimators=10, dataprocess__cat__dimreduction__cum_evr=0.98, dataprocess__num__num_poly__degree=1, dataprocess__num__pca__n_components=20;, score=-0.040 total time=   0.3s\n",
      "[CV 3/5] END Regmodel__max_features=sqrt, Regmodel__n_estimators=10, dataprocess__cat__dimreduction__cum_evr=0.98, dataprocess__num__num_poly__degree=1, dataprocess__num__pca__n_components=20;, score=-0.041 total time=   0.3s\n",
      "[CV 4/5] END Regmodel__max_features=sqrt, Regmodel__n_estimators=10, dataprocess__cat__dimreduction__cum_evr=0.98, dataprocess__num__num_poly__degree=1, dataprocess__num__pca__n_components=20;, score=-0.038 total time=   0.3s\n",
      "[CV 5/5] END Regmodel__max_features=sqrt, Regmodel__n_estimators=10, dataprocess__cat__dimreduction__cum_evr=0.98, dataprocess__num__num_poly__degree=1, dataprocess__num__pca__n_components=20;, score=-0.065 total time=   0.3s\n",
      "[CV 1/5] END Regmodel__max_features=sqrt, Regmodel__n_estimators=10, dataprocess__cat__dimreduction__cum_evr=0.98, dataprocess__num__num_poly__degree=1, dataprocess__num__pca__n_components=36;, score=-0.043 total time=   0.3s\n",
      "[CV 2/5] END Regmodel__max_features=sqrt, Regmodel__n_estimators=10, dataprocess__cat__dimreduction__cum_evr=0.98, dataprocess__num__num_poly__degree=1, dataprocess__num__pca__n_components=36;, score=-0.039 total time=   0.3s\n",
      "[CV 3/5] END Regmodel__max_features=sqrt, Regmodel__n_estimators=10, dataprocess__cat__dimreduction__cum_evr=0.98, dataprocess__num__num_poly__degree=1, dataprocess__num__pca__n_components=36;, score=-0.044 total time=   0.3s\n",
      "[CV 4/5] END Regmodel__max_features=sqrt, Regmodel__n_estimators=10, dataprocess__cat__dimreduction__cum_evr=0.98, dataprocess__num__num_poly__degree=1, dataprocess__num__pca__n_components=36;, score=-0.043 total time=   0.3s\n",
      "[CV 5/5] END Regmodel__max_features=sqrt, Regmodel__n_estimators=10, dataprocess__cat__dimreduction__cum_evr=0.98, dataprocess__num__num_poly__degree=1, dataprocess__num__pca__n_components=36;, score=-0.055 total time=   0.3s\n",
      "[CV 1/5] END Regmodel__max_features=sqrt, Regmodel__n_estimators=10, dataprocess__cat__dimreduction__cum_evr=0.98, dataprocess__num__num_poly__degree=2, dataprocess__num__pca__n_components=10;, score=-0.037 total time=   0.3s\n",
      "[CV 2/5] END Regmodel__max_features=sqrt, Regmodel__n_estimators=10, dataprocess__cat__dimreduction__cum_evr=0.98, dataprocess__num__num_poly__degree=2, dataprocess__num__pca__n_components=10;, score=-0.036 total time=   0.3s\n",
      "[CV 3/5] END Regmodel__max_features=sqrt, Regmodel__n_estimators=10, dataprocess__cat__dimreduction__cum_evr=0.98, dataprocess__num__num_poly__degree=2, dataprocess__num__pca__n_components=10;, score=-0.040 total time=   0.3s\n",
      "[CV 4/5] END Regmodel__max_features=sqrt, Regmodel__n_estimators=10, dataprocess__cat__dimreduction__cum_evr=0.98, dataprocess__num__num_poly__degree=2, dataprocess__num__pca__n_components=10;, score=-0.042 total time=   0.3s\n",
      "[CV 5/5] END Regmodel__max_features=sqrt, Regmodel__n_estimators=10, dataprocess__cat__dimreduction__cum_evr=0.98, dataprocess__num__num_poly__degree=2, dataprocess__num__pca__n_components=10;, score=-0.054 total time=   0.3s\n",
      "[CV 1/5] END Regmodel__max_features=sqrt, Regmodel__n_estimators=10, dataprocess__cat__dimreduction__cum_evr=0.98, dataprocess__num__num_poly__degree=2, dataprocess__num__pca__n_components=20;, score=-0.039 total time=   0.3s\n",
      "[CV 2/5] END Regmodel__max_features=sqrt, Regmodel__n_estimators=10, dataprocess__cat__dimreduction__cum_evr=0.98, dataprocess__num__num_poly__degree=2, dataprocess__num__pca__n_components=20;, score=-0.046 total time=   0.3s\n",
      "[CV 3/5] END Regmodel__max_features=sqrt, Regmodel__n_estimators=10, dataprocess__cat__dimreduction__cum_evr=0.98, dataprocess__num__num_poly__degree=2, dataprocess__num__pca__n_components=20;, score=-0.034 total time=   0.3s\n",
      "[CV 4/5] END Regmodel__max_features=sqrt, Regmodel__n_estimators=10, dataprocess__cat__dimreduction__cum_evr=0.98, dataprocess__num__num_poly__degree=2, dataprocess__num__pca__n_components=20;, score=-0.046 total time=   0.3s\n",
      "[CV 5/5] END Regmodel__max_features=sqrt, Regmodel__n_estimators=10, dataprocess__cat__dimreduction__cum_evr=0.98, dataprocess__num__num_poly__degree=2, dataprocess__num__pca__n_components=20;, score=-0.059 total time=   0.3s\n",
      "[CV 1/5] END Regmodel__max_features=sqrt, Regmodel__n_estimators=10, dataprocess__cat__dimreduction__cum_evr=0.98, dataprocess__num__num_poly__degree=2, dataprocess__num__pca__n_components=36;, score=-0.057 total time=   0.4s\n",
      "[CV 2/5] END Regmodel__max_features=sqrt, Regmodel__n_estimators=10, dataprocess__cat__dimreduction__cum_evr=0.98, dataprocess__num__num_poly__degree=2, dataprocess__num__pca__n_components=36;, score=-0.056 total time=   0.4s\n",
      "[CV 3/5] END Regmodel__max_features=sqrt, Regmodel__n_estimators=10, dataprocess__cat__dimreduction__cum_evr=0.98, dataprocess__num__num_poly__degree=2, dataprocess__num__pca__n_components=36;, score=-0.055 total time=   0.4s\n",
      "[CV 4/5] END Regmodel__max_features=sqrt, Regmodel__n_estimators=10, dataprocess__cat__dimreduction__cum_evr=0.98, dataprocess__num__num_poly__degree=2, dataprocess__num__pca__n_components=36;, score=-0.053 total time=   0.4s\n",
      "[CV 5/5] END Regmodel__max_features=sqrt, Regmodel__n_estimators=10, dataprocess__cat__dimreduction__cum_evr=0.98, dataprocess__num__num_poly__degree=2, dataprocess__num__pca__n_components=36;, score=-0.073 total time=   0.4s\n"
     ]
    },
    {
     "name": "stdout",
     "output_type": "stream",
     "text": [
      "[CV 1/5] END Regmodel__max_features=sqrt, Regmodel__n_estimators=30, dataprocess__cat__dimreduction__cum_evr=0.25, dataprocess__num__num_poly__degree=1, dataprocess__num__pca__n_components=10;, score=-0.025 total time=   0.3s\n",
      "[CV 2/5] END Regmodel__max_features=sqrt, Regmodel__n_estimators=30, dataprocess__cat__dimreduction__cum_evr=0.25, dataprocess__num__num_poly__degree=1, dataprocess__num__pca__n_components=10;, score=-0.025 total time=   0.3s\n",
      "[CV 3/5] END Regmodel__max_features=sqrt, Regmodel__n_estimators=30, dataprocess__cat__dimreduction__cum_evr=0.25, dataprocess__num__num_poly__degree=1, dataprocess__num__pca__n_components=10;, score=-0.024 total time=   0.3s\n",
      "[CV 4/5] END Regmodel__max_features=sqrt, Regmodel__n_estimators=30, dataprocess__cat__dimreduction__cum_evr=0.25, dataprocess__num__num_poly__degree=1, dataprocess__num__pca__n_components=10;, score=-0.029 total time=   0.3s\n",
      "[CV 5/5] END Regmodel__max_features=sqrt, Regmodel__n_estimators=30, dataprocess__cat__dimreduction__cum_evr=0.25, dataprocess__num__num_poly__degree=1, dataprocess__num__pca__n_components=10;, score=-0.038 total time=   0.3s\n",
      "[CV 1/5] END Regmodel__max_features=sqrt, Regmodel__n_estimators=30, dataprocess__cat__dimreduction__cum_evr=0.25, dataprocess__num__num_poly__degree=1, dataprocess__num__pca__n_components=20;, score=-0.024 total time=   0.3s\n",
      "[CV 2/5] END Regmodel__max_features=sqrt, Regmodel__n_estimators=30, dataprocess__cat__dimreduction__cum_evr=0.25, dataprocess__num__num_poly__degree=1, dataprocess__num__pca__n_components=20;, score=-0.028 total time=   0.3s\n",
      "[CV 3/5] END Regmodel__max_features=sqrt, Regmodel__n_estimators=30, dataprocess__cat__dimreduction__cum_evr=0.25, dataprocess__num__num_poly__degree=1, dataprocess__num__pca__n_components=20;, score=-0.028 total time=   0.3s\n",
      "[CV 4/5] END Regmodel__max_features=sqrt, Regmodel__n_estimators=30, dataprocess__cat__dimreduction__cum_evr=0.25, dataprocess__num__num_poly__degree=1, dataprocess__num__pca__n_components=20;, score=-0.032 total time=   0.3s\n",
      "[CV 5/5] END Regmodel__max_features=sqrt, Regmodel__n_estimators=30, dataprocess__cat__dimreduction__cum_evr=0.25, dataprocess__num__num_poly__degree=1, dataprocess__num__pca__n_components=20;, score=-0.042 total time=   0.3s\n",
      "[CV 1/5] END Regmodel__max_features=sqrt, Regmodel__n_estimators=30, dataprocess__cat__dimreduction__cum_evr=0.25, dataprocess__num__num_poly__degree=1, dataprocess__num__pca__n_components=36;, score=-0.023 total time=   0.3s\n",
      "[CV 2/5] END Regmodel__max_features=sqrt, Regmodel__n_estimators=30, dataprocess__cat__dimreduction__cum_evr=0.25, dataprocess__num__num_poly__degree=1, dataprocess__num__pca__n_components=36;, score=-0.027 total time=   0.3s\n",
      "[CV 3/5] END Regmodel__max_features=sqrt, Regmodel__n_estimators=30, dataprocess__cat__dimreduction__cum_evr=0.25, dataprocess__num__num_poly__degree=1, dataprocess__num__pca__n_components=36;, score=-0.027 total time=   0.3s\n",
      "[CV 4/5] END Regmodel__max_features=sqrt, Regmodel__n_estimators=30, dataprocess__cat__dimreduction__cum_evr=0.25, dataprocess__num__num_poly__degree=1, dataprocess__num__pca__n_components=36;, score=-0.029 total time=   0.3s\n",
      "[CV 5/5] END Regmodel__max_features=sqrt, Regmodel__n_estimators=30, dataprocess__cat__dimreduction__cum_evr=0.25, dataprocess__num__num_poly__degree=1, dataprocess__num__pca__n_components=36;, score=-0.042 total time=   0.3s\n",
      "[CV 1/5] END Regmodel__max_features=sqrt, Regmodel__n_estimators=30, dataprocess__cat__dimreduction__cum_evr=0.25, dataprocess__num__num_poly__degree=2, dataprocess__num__pca__n_components=10;, score=-0.031 total time=   0.3s\n",
      "[CV 2/5] END Regmodel__max_features=sqrt, Regmodel__n_estimators=30, dataprocess__cat__dimreduction__cum_evr=0.25, dataprocess__num__num_poly__degree=2, dataprocess__num__pca__n_components=10;, score=-0.028 total time=   0.4s\n",
      "[CV 3/5] END Regmodel__max_features=sqrt, Regmodel__n_estimators=30, dataprocess__cat__dimreduction__cum_evr=0.25, dataprocess__num__num_poly__degree=2, dataprocess__num__pca__n_components=10;, score=-0.029 total time=   0.3s\n",
      "[CV 4/5] END Regmodel__max_features=sqrt, Regmodel__n_estimators=30, dataprocess__cat__dimreduction__cum_evr=0.25, dataprocess__num__num_poly__degree=2, dataprocess__num__pca__n_components=10;, score=-0.036 total time=   0.3s\n",
      "[CV 5/5] END Regmodel__max_features=sqrt, Regmodel__n_estimators=30, dataprocess__cat__dimreduction__cum_evr=0.25, dataprocess__num__num_poly__degree=2, dataprocess__num__pca__n_components=10;, score=-0.044 total time=   0.3s\n",
      "[CV 1/5] END Regmodel__max_features=sqrt, Regmodel__n_estimators=30, dataprocess__cat__dimreduction__cum_evr=0.25, dataprocess__num__num_poly__degree=2, dataprocess__num__pca__n_components=20;, score=-0.037 total time=   0.4s\n",
      "[CV 2/5] END Regmodel__max_features=sqrt, Regmodel__n_estimators=30, dataprocess__cat__dimreduction__cum_evr=0.25, dataprocess__num__num_poly__degree=2, dataprocess__num__pca__n_components=20;, score=-0.034 total time=   0.4s\n",
      "[CV 3/5] END Regmodel__max_features=sqrt, Regmodel__n_estimators=30, dataprocess__cat__dimreduction__cum_evr=0.25, dataprocess__num__num_poly__degree=2, dataprocess__num__pca__n_components=20;, score=-0.035 total time=   0.4s\n",
      "[CV 4/5] END Regmodel__max_features=sqrt, Regmodel__n_estimators=30, dataprocess__cat__dimreduction__cum_evr=0.25, dataprocess__num__num_poly__degree=2, dataprocess__num__pca__n_components=20;, score=-0.038 total time=   0.4s\n",
      "[CV 5/5] END Regmodel__max_features=sqrt, Regmodel__n_estimators=30, dataprocess__cat__dimreduction__cum_evr=0.25, dataprocess__num__num_poly__degree=2, dataprocess__num__pca__n_components=20;, score=-0.052 total time=   0.4s\n",
      "[CV 1/5] END Regmodel__max_features=sqrt, Regmodel__n_estimators=30, dataprocess__cat__dimreduction__cum_evr=0.25, dataprocess__num__num_poly__degree=2, dataprocess__num__pca__n_components=36;, score=-0.046 total time=   0.6s\n",
      "[CV 2/5] END Regmodel__max_features=sqrt, Regmodel__n_estimators=30, dataprocess__cat__dimreduction__cum_evr=0.25, dataprocess__num__num_poly__degree=2, dataprocess__num__pca__n_components=36;, score=-0.057 total time=   0.5s\n",
      "[CV 3/5] END Regmodel__max_features=sqrt, Regmodel__n_estimators=30, dataprocess__cat__dimreduction__cum_evr=0.25, dataprocess__num__num_poly__degree=2, dataprocess__num__pca__n_components=36;, score=-0.048 total time=   0.6s\n",
      "[CV 4/5] END Regmodel__max_features=sqrt, Regmodel__n_estimators=30, dataprocess__cat__dimreduction__cum_evr=0.25, dataprocess__num__num_poly__degree=2, dataprocess__num__pca__n_components=36;, score=-0.047 total time=   0.6s\n",
      "[CV 5/5] END Regmodel__max_features=sqrt, Regmodel__n_estimators=30, dataprocess__cat__dimreduction__cum_evr=0.25, dataprocess__num__num_poly__degree=2, dataprocess__num__pca__n_components=36;, score=-0.060 total time=   0.6s\n",
      "[CV 1/5] END Regmodel__max_features=sqrt, Regmodel__n_estimators=30, dataprocess__cat__dimreduction__cum_evr=0.5, dataprocess__num__num_poly__degree=1, dataprocess__num__pca__n_components=10;, score=-0.025 total time=   0.3s\n",
      "[CV 2/5] END Regmodel__max_features=sqrt, Regmodel__n_estimators=30, dataprocess__cat__dimreduction__cum_evr=0.5, dataprocess__num__num_poly__degree=1, dataprocess__num__pca__n_components=10;, score=-0.027 total time=   0.3s\n",
      "[CV 3/5] END Regmodel__max_features=sqrt, Regmodel__n_estimators=30, dataprocess__cat__dimreduction__cum_evr=0.5, dataprocess__num__num_poly__degree=1, dataprocess__num__pca__n_components=10;, score=-0.029 total time=   0.3s\n",
      "[CV 4/5] END Regmodel__max_features=sqrt, Regmodel__n_estimators=30, dataprocess__cat__dimreduction__cum_evr=0.5, dataprocess__num__num_poly__degree=1, dataprocess__num__pca__n_components=10;, score=-0.032 total time=   0.3s\n",
      "[CV 5/5] END Regmodel__max_features=sqrt, Regmodel__n_estimators=30, dataprocess__cat__dimreduction__cum_evr=0.5, dataprocess__num__num_poly__degree=1, dataprocess__num__pca__n_components=10;, score=-0.041 total time=   0.3s\n",
      "[CV 1/5] END Regmodel__max_features=sqrt, Regmodel__n_estimators=30, dataprocess__cat__dimreduction__cum_evr=0.5, dataprocess__num__num_poly__degree=1, dataprocess__num__pca__n_components=20;, score=-0.023 total time=   0.3s\n",
      "[CV 2/5] END Regmodel__max_features=sqrt, Regmodel__n_estimators=30, dataprocess__cat__dimreduction__cum_evr=0.5, dataprocess__num__num_poly__degree=1, dataprocess__num__pca__n_components=20;, score=-0.030 total time=   0.3s\n"
     ]
    },
    {
     "name": "stdout",
     "output_type": "stream",
     "text": [
      "[CV 3/5] END Regmodel__max_features=sqrt, Regmodel__n_estimators=30, dataprocess__cat__dimreduction__cum_evr=0.5, dataprocess__num__num_poly__degree=1, dataprocess__num__pca__n_components=20;, score=-0.029 total time=   0.3s\n",
      "[CV 4/5] END Regmodel__max_features=sqrt, Regmodel__n_estimators=30, dataprocess__cat__dimreduction__cum_evr=0.5, dataprocess__num__num_poly__degree=1, dataprocess__num__pca__n_components=20;, score=-0.033 total time=   0.3s\n",
      "[CV 5/5] END Regmodel__max_features=sqrt, Regmodel__n_estimators=30, dataprocess__cat__dimreduction__cum_evr=0.5, dataprocess__num__num_poly__degree=1, dataprocess__num__pca__n_components=20;, score=-0.039 total time=   0.3s\n",
      "[CV 1/5] END Regmodel__max_features=sqrt, Regmodel__n_estimators=30, dataprocess__cat__dimreduction__cum_evr=0.5, dataprocess__num__num_poly__degree=1, dataprocess__num__pca__n_components=36;, score=-0.026 total time=   0.3s\n",
      "[CV 2/5] END Regmodel__max_features=sqrt, Regmodel__n_estimators=30, dataprocess__cat__dimreduction__cum_evr=0.5, dataprocess__num__num_poly__degree=1, dataprocess__num__pca__n_components=36;, score=-0.028 total time=   0.3s\n",
      "[CV 3/5] END Regmodel__max_features=sqrt, Regmodel__n_estimators=30, dataprocess__cat__dimreduction__cum_evr=0.5, dataprocess__num__num_poly__degree=1, dataprocess__num__pca__n_components=36;, score=-0.028 total time=   0.3s\n",
      "[CV 4/5] END Regmodel__max_features=sqrt, Regmodel__n_estimators=30, dataprocess__cat__dimreduction__cum_evr=0.5, dataprocess__num__num_poly__degree=1, dataprocess__num__pca__n_components=36;, score=-0.031 total time=   0.3s\n",
      "[CV 5/5] END Regmodel__max_features=sqrt, Regmodel__n_estimators=30, dataprocess__cat__dimreduction__cum_evr=0.5, dataprocess__num__num_poly__degree=1, dataprocess__num__pca__n_components=36;, score=-0.044 total time=   0.3s\n",
      "[CV 1/5] END Regmodel__max_features=sqrt, Regmodel__n_estimators=30, dataprocess__cat__dimreduction__cum_evr=0.5, dataprocess__num__num_poly__degree=2, dataprocess__num__pca__n_components=10;, score=-0.036 total time=   0.3s\n",
      "[CV 2/5] END Regmodel__max_features=sqrt, Regmodel__n_estimators=30, dataprocess__cat__dimreduction__cum_evr=0.5, dataprocess__num__num_poly__degree=2, dataprocess__num__pca__n_components=10;, score=-0.033 total time=   0.3s\n",
      "[CV 3/5] END Regmodel__max_features=sqrt, Regmodel__n_estimators=30, dataprocess__cat__dimreduction__cum_evr=0.5, dataprocess__num__num_poly__degree=2, dataprocess__num__pca__n_components=10;, score=-0.029 total time=   0.3s\n",
      "[CV 4/5] END Regmodel__max_features=sqrt, Regmodel__n_estimators=30, dataprocess__cat__dimreduction__cum_evr=0.5, dataprocess__num__num_poly__degree=2, dataprocess__num__pca__n_components=10;, score=-0.037 total time=   0.3s\n",
      "[CV 5/5] END Regmodel__max_features=sqrt, Regmodel__n_estimators=30, dataprocess__cat__dimreduction__cum_evr=0.5, dataprocess__num__num_poly__degree=2, dataprocess__num__pca__n_components=10;, score=-0.042 total time=   0.3s\n",
      "[CV 1/5] END Regmodel__max_features=sqrt, Regmodel__n_estimators=30, dataprocess__cat__dimreduction__cum_evr=0.5, dataprocess__num__num_poly__degree=2, dataprocess__num__pca__n_components=20;, score=-0.033 total time=   0.4s\n",
      "[CV 2/5] END Regmodel__max_features=sqrt, Regmodel__n_estimators=30, dataprocess__cat__dimreduction__cum_evr=0.5, dataprocess__num__num_poly__degree=2, dataprocess__num__pca__n_components=20;, score=-0.034 total time=   0.4s\n",
      "[CV 3/5] END Regmodel__max_features=sqrt, Regmodel__n_estimators=30, dataprocess__cat__dimreduction__cum_evr=0.5, dataprocess__num__num_poly__degree=2, dataprocess__num__pca__n_components=20;, score=-0.036 total time=   0.4s\n",
      "[CV 4/5] END Regmodel__max_features=sqrt, Regmodel__n_estimators=30, dataprocess__cat__dimreduction__cum_evr=0.5, dataprocess__num__num_poly__degree=2, dataprocess__num__pca__n_components=20;, score=-0.043 total time=   0.4s\n",
      "[CV 5/5] END Regmodel__max_features=sqrt, Regmodel__n_estimators=30, dataprocess__cat__dimreduction__cum_evr=0.5, dataprocess__num__num_poly__degree=2, dataprocess__num__pca__n_components=20;, score=-0.049 total time=   0.4s\n",
      "[CV 1/5] END Regmodel__max_features=sqrt, Regmodel__n_estimators=30, dataprocess__cat__dimreduction__cum_evr=0.5, dataprocess__num__num_poly__degree=2, dataprocess__num__pca__n_components=36;, score=-0.045 total time=   0.6s\n",
      "[CV 2/5] END Regmodel__max_features=sqrt, Regmodel__n_estimators=30, dataprocess__cat__dimreduction__cum_evr=0.5, dataprocess__num__num_poly__degree=2, dataprocess__num__pca__n_components=36;, score=-0.047 total time=   0.5s\n",
      "[CV 3/5] END Regmodel__max_features=sqrt, Regmodel__n_estimators=30, dataprocess__cat__dimreduction__cum_evr=0.5, dataprocess__num__num_poly__degree=2, dataprocess__num__pca__n_components=36;, score=-0.042 total time=   0.6s\n",
      "[CV 4/5] END Regmodel__max_features=sqrt, Regmodel__n_estimators=30, dataprocess__cat__dimreduction__cum_evr=0.5, dataprocess__num__num_poly__degree=2, dataprocess__num__pca__n_components=36;, score=-0.040 total time=   0.6s\n",
      "[CV 5/5] END Regmodel__max_features=sqrt, Regmodel__n_estimators=30, dataprocess__cat__dimreduction__cum_evr=0.5, dataprocess__num__num_poly__degree=2, dataprocess__num__pca__n_components=36;, score=-0.067 total time=   0.6s\n",
      "[CV 1/5] END Regmodel__max_features=sqrt, Regmodel__n_estimators=30, dataprocess__cat__dimreduction__cum_evr=0.75, dataprocess__num__num_poly__degree=1, dataprocess__num__pca__n_components=10;, score=-0.027 total time=   0.3s\n",
      "[CV 2/5] END Regmodel__max_features=sqrt, Regmodel__n_estimators=30, dataprocess__cat__dimreduction__cum_evr=0.75, dataprocess__num__num_poly__degree=1, dataprocess__num__pca__n_components=10;, score=-0.030 total time=   0.3s\n",
      "[CV 3/5] END Regmodel__max_features=sqrt, Regmodel__n_estimators=30, dataprocess__cat__dimreduction__cum_evr=0.75, dataprocess__num__num_poly__degree=1, dataprocess__num__pca__n_components=10;, score=-0.032 total time=   0.3s\n",
      "[CV 4/5] END Regmodel__max_features=sqrt, Regmodel__n_estimators=30, dataprocess__cat__dimreduction__cum_evr=0.75, dataprocess__num__num_poly__degree=1, dataprocess__num__pca__n_components=10;, score=-0.032 total time=   0.3s\n",
      "[CV 5/5] END Regmodel__max_features=sqrt, Regmodel__n_estimators=30, dataprocess__cat__dimreduction__cum_evr=0.75, dataprocess__num__num_poly__degree=1, dataprocess__num__pca__n_components=10;, score=-0.043 total time=   0.3s\n",
      "[CV 1/5] END Regmodel__max_features=sqrt, Regmodel__n_estimators=30, dataprocess__cat__dimreduction__cum_evr=0.75, dataprocess__num__num_poly__degree=1, dataprocess__num__pca__n_components=20;, score=-0.027 total time=   0.3s\n",
      "[CV 2/5] END Regmodel__max_features=sqrt, Regmodel__n_estimators=30, dataprocess__cat__dimreduction__cum_evr=0.75, dataprocess__num__num_poly__degree=1, dataprocess__num__pca__n_components=20;, score=-0.029 total time=   0.3s\n",
      "[CV 3/5] END Regmodel__max_features=sqrt, Regmodel__n_estimators=30, dataprocess__cat__dimreduction__cum_evr=0.75, dataprocess__num__num_poly__degree=1, dataprocess__num__pca__n_components=20;, score=-0.027 total time=   0.3s\n",
      "[CV 4/5] END Regmodel__max_features=sqrt, Regmodel__n_estimators=30, dataprocess__cat__dimreduction__cum_evr=0.75, dataprocess__num__num_poly__degree=1, dataprocess__num__pca__n_components=20;, score=-0.035 total time=   0.3s\n",
      "[CV 5/5] END Regmodel__max_features=sqrt, Regmodel__n_estimators=30, dataprocess__cat__dimreduction__cum_evr=0.75, dataprocess__num__num_poly__degree=1, dataprocess__num__pca__n_components=20;, score=-0.047 total time=   0.3s\n",
      "[CV 1/5] END Regmodel__max_features=sqrt, Regmodel__n_estimators=30, dataprocess__cat__dimreduction__cum_evr=0.75, dataprocess__num__num_poly__degree=1, dataprocess__num__pca__n_components=36;, score=-0.027 total time=   0.3s\n",
      "[CV 2/5] END Regmodel__max_features=sqrt, Regmodel__n_estimators=30, dataprocess__cat__dimreduction__cum_evr=0.75, dataprocess__num__num_poly__degree=1, dataprocess__num__pca__n_components=36;, score=-0.028 total time=   0.3s\n",
      "[CV 3/5] END Regmodel__max_features=sqrt, Regmodel__n_estimators=30, dataprocess__cat__dimreduction__cum_evr=0.75, dataprocess__num__num_poly__degree=1, dataprocess__num__pca__n_components=36;, score=-0.028 total time=   0.3s\n",
      "[CV 4/5] END Regmodel__max_features=sqrt, Regmodel__n_estimators=30, dataprocess__cat__dimreduction__cum_evr=0.75, dataprocess__num__num_poly__degree=1, dataprocess__num__pca__n_components=36;, score=-0.034 total time=   0.3s\n"
     ]
    },
    {
     "name": "stdout",
     "output_type": "stream",
     "text": [
      "[CV 5/5] END Regmodel__max_features=sqrt, Regmodel__n_estimators=30, dataprocess__cat__dimreduction__cum_evr=0.75, dataprocess__num__num_poly__degree=1, dataprocess__num__pca__n_components=36;, score=-0.046 total time=   0.3s\n",
      "[CV 1/5] END Regmodel__max_features=sqrt, Regmodel__n_estimators=30, dataprocess__cat__dimreduction__cum_evr=0.75, dataprocess__num__num_poly__degree=2, dataprocess__num__pca__n_components=10;, score=-0.028 total time=   0.4s\n",
      "[CV 2/5] END Regmodel__max_features=sqrt, Regmodel__n_estimators=30, dataprocess__cat__dimreduction__cum_evr=0.75, dataprocess__num__num_poly__degree=2, dataprocess__num__pca__n_components=10;, score=-0.033 total time=   0.4s\n",
      "[CV 3/5] END Regmodel__max_features=sqrt, Regmodel__n_estimators=30, dataprocess__cat__dimreduction__cum_evr=0.75, dataprocess__num__num_poly__degree=2, dataprocess__num__pca__n_components=10;, score=-0.028 total time=   0.4s\n",
      "[CV 4/5] END Regmodel__max_features=sqrt, Regmodel__n_estimators=30, dataprocess__cat__dimreduction__cum_evr=0.75, dataprocess__num__num_poly__degree=2, dataprocess__num__pca__n_components=10;, score=-0.034 total time=   0.4s\n",
      "[CV 5/5] END Regmodel__max_features=sqrt, Regmodel__n_estimators=30, dataprocess__cat__dimreduction__cum_evr=0.75, dataprocess__num__num_poly__degree=2, dataprocess__num__pca__n_components=10;, score=-0.043 total time=   0.4s\n",
      "[CV 1/5] END Regmodel__max_features=sqrt, Regmodel__n_estimators=30, dataprocess__cat__dimreduction__cum_evr=0.75, dataprocess__num__num_poly__degree=2, dataprocess__num__pca__n_components=20;, score=-0.034 total time=   0.4s\n",
      "[CV 2/5] END Regmodel__max_features=sqrt, Regmodel__n_estimators=30, dataprocess__cat__dimreduction__cum_evr=0.75, dataprocess__num__num_poly__degree=2, dataprocess__num__pca__n_components=20;, score=-0.032 total time=   0.4s\n",
      "[CV 3/5] END Regmodel__max_features=sqrt, Regmodel__n_estimators=30, dataprocess__cat__dimreduction__cum_evr=0.75, dataprocess__num__num_poly__degree=2, dataprocess__num__pca__n_components=20;, score=-0.037 total time=   0.4s\n",
      "[CV 4/5] END Regmodel__max_features=sqrt, Regmodel__n_estimators=30, dataprocess__cat__dimreduction__cum_evr=0.75, dataprocess__num__num_poly__degree=2, dataprocess__num__pca__n_components=20;, score=-0.037 total time=   0.4s\n",
      "[CV 5/5] END Regmodel__max_features=sqrt, Regmodel__n_estimators=30, dataprocess__cat__dimreduction__cum_evr=0.75, dataprocess__num__num_poly__degree=2, dataprocess__num__pca__n_components=20;, score=-0.052 total time=   0.4s\n",
      "[CV 1/5] END Regmodel__max_features=sqrt, Regmodel__n_estimators=30, dataprocess__cat__dimreduction__cum_evr=0.75, dataprocess__num__num_poly__degree=2, dataprocess__num__pca__n_components=36;, score=-0.043 total time=   0.6s\n",
      "[CV 2/5] END Regmodel__max_features=sqrt, Regmodel__n_estimators=30, dataprocess__cat__dimreduction__cum_evr=0.75, dataprocess__num__num_poly__degree=2, dataprocess__num__pca__n_components=36;, score=-0.045 total time=   0.6s\n",
      "[CV 3/5] END Regmodel__max_features=sqrt, Regmodel__n_estimators=30, dataprocess__cat__dimreduction__cum_evr=0.75, dataprocess__num__num_poly__degree=2, dataprocess__num__pca__n_components=36;, score=-0.045 total time=   0.6s\n",
      "[CV 4/5] END Regmodel__max_features=sqrt, Regmodel__n_estimators=30, dataprocess__cat__dimreduction__cum_evr=0.75, dataprocess__num__num_poly__degree=2, dataprocess__num__pca__n_components=36;, score=-0.044 total time=   0.6s\n",
      "[CV 5/5] END Regmodel__max_features=sqrt, Regmodel__n_estimators=30, dataprocess__cat__dimreduction__cum_evr=0.75, dataprocess__num__num_poly__degree=2, dataprocess__num__pca__n_components=36;, score=-0.059 total time=   0.6s\n",
      "[CV 1/5] END Regmodel__max_features=sqrt, Regmodel__n_estimators=30, dataprocess__cat__dimreduction__cum_evr=0.98, dataprocess__num__num_poly__degree=1, dataprocess__num__pca__n_components=10;, score=-0.037 total time=   0.4s\n",
      "[CV 2/5] END Regmodel__max_features=sqrt, Regmodel__n_estimators=30, dataprocess__cat__dimreduction__cum_evr=0.98, dataprocess__num__num_poly__degree=1, dataprocess__num__pca__n_components=10;, score=-0.036 total time=   0.4s\n",
      "[CV 3/5] END Regmodel__max_features=sqrt, Regmodel__n_estimators=30, dataprocess__cat__dimreduction__cum_evr=0.98, dataprocess__num__num_poly__degree=1, dataprocess__num__pca__n_components=10;, score=-0.032 total time=   0.4s\n",
      "[CV 4/5] END Regmodel__max_features=sqrt, Regmodel__n_estimators=30, dataprocess__cat__dimreduction__cum_evr=0.98, dataprocess__num__num_poly__degree=1, dataprocess__num__pca__n_components=10;, score=-0.040 total time=   0.5s\n",
      "[CV 5/5] END Regmodel__max_features=sqrt, Regmodel__n_estimators=30, dataprocess__cat__dimreduction__cum_evr=0.98, dataprocess__num__num_poly__degree=1, dataprocess__num__pca__n_components=10;, score=-0.049 total time=   0.4s\n",
      "[CV 1/5] END Regmodel__max_features=sqrt, Regmodel__n_estimators=30, dataprocess__cat__dimreduction__cum_evr=0.98, dataprocess__num__num_poly__degree=1, dataprocess__num__pca__n_components=20;, score=-0.036 total time=   0.4s\n",
      "[CV 2/5] END Regmodel__max_features=sqrt, Regmodel__n_estimators=30, dataprocess__cat__dimreduction__cum_evr=0.98, dataprocess__num__num_poly__degree=1, dataprocess__num__pca__n_components=20;, score=-0.036 total time=   0.4s\n",
      "[CV 3/5] END Regmodel__max_features=sqrt, Regmodel__n_estimators=30, dataprocess__cat__dimreduction__cum_evr=0.98, dataprocess__num__num_poly__degree=1, dataprocess__num__pca__n_components=20;, score=-0.036 total time=   0.4s\n",
      "[CV 4/5] END Regmodel__max_features=sqrt, Regmodel__n_estimators=30, dataprocess__cat__dimreduction__cum_evr=0.98, dataprocess__num__num_poly__degree=1, dataprocess__num__pca__n_components=20;, score=-0.040 total time=   0.4s\n",
      "[CV 5/5] END Regmodel__max_features=sqrt, Regmodel__n_estimators=30, dataprocess__cat__dimreduction__cum_evr=0.98, dataprocess__num__num_poly__degree=1, dataprocess__num__pca__n_components=20;, score=-0.051 total time=   0.4s\n",
      "[CV 1/5] END Regmodel__max_features=sqrt, Regmodel__n_estimators=30, dataprocess__cat__dimreduction__cum_evr=0.98, dataprocess__num__num_poly__degree=1, dataprocess__num__pca__n_components=36;, score=-0.034 total time=   0.4s\n",
      "[CV 2/5] END Regmodel__max_features=sqrt, Regmodel__n_estimators=30, dataprocess__cat__dimreduction__cum_evr=0.98, dataprocess__num__num_poly__degree=1, dataprocess__num__pca__n_components=36;, score=-0.032 total time=   0.4s\n",
      "[CV 3/5] END Regmodel__max_features=sqrt, Regmodel__n_estimators=30, dataprocess__cat__dimreduction__cum_evr=0.98, dataprocess__num__num_poly__degree=1, dataprocess__num__pca__n_components=36;, score=-0.038 total time=   0.4s\n",
      "[CV 4/5] END Regmodel__max_features=sqrt, Regmodel__n_estimators=30, dataprocess__cat__dimreduction__cum_evr=0.98, dataprocess__num__num_poly__degree=1, dataprocess__num__pca__n_components=36;, score=-0.037 total time=   0.4s\n",
      "[CV 5/5] END Regmodel__max_features=sqrt, Regmodel__n_estimators=30, dataprocess__cat__dimreduction__cum_evr=0.98, dataprocess__num__num_poly__degree=1, dataprocess__num__pca__n_components=36;, score=-0.048 total time=   0.4s\n",
      "[CV 1/5] END Regmodel__max_features=sqrt, Regmodel__n_estimators=30, dataprocess__cat__dimreduction__cum_evr=0.98, dataprocess__num__num_poly__degree=2, dataprocess__num__pca__n_components=10;, score=-0.039 total time=   0.5s\n",
      "[CV 2/5] END Regmodel__max_features=sqrt, Regmodel__n_estimators=30, dataprocess__cat__dimreduction__cum_evr=0.98, dataprocess__num__num_poly__degree=2, dataprocess__num__pca__n_components=10;, score=-0.034 total time=   0.5s\n",
      "[CV 3/5] END Regmodel__max_features=sqrt, Regmodel__n_estimators=30, dataprocess__cat__dimreduction__cum_evr=0.98, dataprocess__num__num_poly__degree=2, dataprocess__num__pca__n_components=10;, score=-0.034 total time=   0.5s\n",
      "[CV 4/5] END Regmodel__max_features=sqrt, Regmodel__n_estimators=30, dataprocess__cat__dimreduction__cum_evr=0.98, dataprocess__num__num_poly__degree=2, dataprocess__num__pca__n_components=10;, score=-0.035 total time=   0.5s\n",
      "[CV 5/5] END Regmodel__max_features=sqrt, Regmodel__n_estimators=30, dataprocess__cat__dimreduction__cum_evr=0.98, dataprocess__num__num_poly__degree=2, dataprocess__num__pca__n_components=10;, score=-0.044 total time=   0.5s\n",
      "[CV 1/5] END Regmodel__max_features=sqrt, Regmodel__n_estimators=30, dataprocess__cat__dimreduction__cum_evr=0.98, dataprocess__num__num_poly__degree=2, dataprocess__num__pca__n_components=20;, score=-0.037 total time=   0.5s\n"
     ]
    },
    {
     "name": "stdout",
     "output_type": "stream",
     "text": [
      "[CV 2/5] END Regmodel__max_features=sqrt, Regmodel__n_estimators=30, dataprocess__cat__dimreduction__cum_evr=0.98, dataprocess__num__num_poly__degree=2, dataprocess__num__pca__n_components=20;, score=-0.035 total time=   0.5s\n",
      "[CV 3/5] END Regmodel__max_features=sqrt, Regmodel__n_estimators=30, dataprocess__cat__dimreduction__cum_evr=0.98, dataprocess__num__num_poly__degree=2, dataprocess__num__pca__n_components=20;, score=-0.036 total time=   0.5s\n",
      "[CV 4/5] END Regmodel__max_features=sqrt, Regmodel__n_estimators=30, dataprocess__cat__dimreduction__cum_evr=0.98, dataprocess__num__num_poly__degree=2, dataprocess__num__pca__n_components=20;, score=-0.042 total time=   0.5s\n",
      "[CV 5/5] END Regmodel__max_features=sqrt, Regmodel__n_estimators=30, dataprocess__cat__dimreduction__cum_evr=0.98, dataprocess__num__num_poly__degree=2, dataprocess__num__pca__n_components=20;, score=-0.054 total time=   0.5s\n",
      "[CV 1/5] END Regmodel__max_features=sqrt, Regmodel__n_estimators=30, dataprocess__cat__dimreduction__cum_evr=0.98, dataprocess__num__num_poly__degree=2, dataprocess__num__pca__n_components=36;, score=-0.046 total time=   0.6s\n",
      "[CV 2/5] END Regmodel__max_features=sqrt, Regmodel__n_estimators=30, dataprocess__cat__dimreduction__cum_evr=0.98, dataprocess__num__num_poly__degree=2, dataprocess__num__pca__n_components=36;, score=-0.044 total time=   0.6s\n",
      "[CV 3/5] END Regmodel__max_features=sqrt, Regmodel__n_estimators=30, dataprocess__cat__dimreduction__cum_evr=0.98, dataprocess__num__num_poly__degree=2, dataprocess__num__pca__n_components=36;, score=-0.045 total time=   0.6s\n",
      "[CV 4/5] END Regmodel__max_features=sqrt, Regmodel__n_estimators=30, dataprocess__cat__dimreduction__cum_evr=0.98, dataprocess__num__num_poly__degree=2, dataprocess__num__pca__n_components=36;, score=-0.049 total time=   0.6s\n",
      "[CV 5/5] END Regmodel__max_features=sqrt, Regmodel__n_estimators=30, dataprocess__cat__dimreduction__cum_evr=0.98, dataprocess__num__num_poly__degree=2, dataprocess__num__pca__n_components=36;, score=-0.065 total time=   0.6s\n",
      "[CV 1/5] END Regmodel__max_features=sqrt, Regmodel__n_estimators=100, dataprocess__cat__dimreduction__cum_evr=0.25, dataprocess__num__num_poly__degree=1, dataprocess__num__pca__n_components=10;, score=-0.022 total time=   0.4s\n",
      "[CV 2/5] END Regmodel__max_features=sqrt, Regmodel__n_estimators=100, dataprocess__cat__dimreduction__cum_evr=0.25, dataprocess__num__num_poly__degree=1, dataprocess__num__pca__n_components=10;, score=-0.024 total time=   0.4s\n",
      "[CV 3/5] END Regmodel__max_features=sqrt, Regmodel__n_estimators=100, dataprocess__cat__dimreduction__cum_evr=0.25, dataprocess__num__num_poly__degree=1, dataprocess__num__pca__n_components=10;, score=-0.023 total time=   0.4s\n",
      "[CV 4/5] END Regmodel__max_features=sqrt, Regmodel__n_estimators=100, dataprocess__cat__dimreduction__cum_evr=0.25, dataprocess__num__num_poly__degree=1, dataprocess__num__pca__n_components=10;, score=-0.028 total time=   0.4s\n",
      "[CV 5/5] END Regmodel__max_features=sqrt, Regmodel__n_estimators=100, dataprocess__cat__dimreduction__cum_evr=0.25, dataprocess__num__num_poly__degree=1, dataprocess__num__pca__n_components=10;, score=-0.038 total time=   0.4s\n",
      "[CV 1/5] END Regmodel__max_features=sqrt, Regmodel__n_estimators=100, dataprocess__cat__dimreduction__cum_evr=0.25, dataprocess__num__num_poly__degree=1, dataprocess__num__pca__n_components=20;, score=-0.024 total time=   0.5s\n",
      "[CV 2/5] END Regmodel__max_features=sqrt, Regmodel__n_estimators=100, dataprocess__cat__dimreduction__cum_evr=0.25, dataprocess__num__num_poly__degree=1, dataprocess__num__pca__n_components=20;, score=-0.027 total time=   0.5s\n",
      "[CV 3/5] END Regmodel__max_features=sqrt, Regmodel__n_estimators=100, dataprocess__cat__dimreduction__cum_evr=0.25, dataprocess__num__num_poly__degree=1, dataprocess__num__pca__n_components=20;, score=-0.027 total time=   0.5s\n",
      "[CV 4/5] END Regmodel__max_features=sqrt, Regmodel__n_estimators=100, dataprocess__cat__dimreduction__cum_evr=0.25, dataprocess__num__num_poly__degree=1, dataprocess__num__pca__n_components=20;, score=-0.031 total time=   0.5s\n",
      "[CV 5/5] END Regmodel__max_features=sqrt, Regmodel__n_estimators=100, dataprocess__cat__dimreduction__cum_evr=0.25, dataprocess__num__num_poly__degree=1, dataprocess__num__pca__n_components=20;, score=-0.040 total time=   0.5s\n",
      "[CV 1/5] END Regmodel__max_features=sqrt, Regmodel__n_estimators=100, dataprocess__cat__dimreduction__cum_evr=0.25, dataprocess__num__num_poly__degree=1, dataprocess__num__pca__n_components=36;, score=-0.024 total time=   0.6s\n",
      "[CV 2/5] END Regmodel__max_features=sqrt, Regmodel__n_estimators=100, dataprocess__cat__dimreduction__cum_evr=0.25, dataprocess__num__num_poly__degree=1, dataprocess__num__pca__n_components=36;, score=-0.025 total time=   0.5s\n",
      "[CV 3/5] END Regmodel__max_features=sqrt, Regmodel__n_estimators=100, dataprocess__cat__dimreduction__cum_evr=0.25, dataprocess__num__num_poly__degree=1, dataprocess__num__pca__n_components=36;, score=-0.025 total time=   0.5s\n",
      "[CV 4/5] END Regmodel__max_features=sqrt, Regmodel__n_estimators=100, dataprocess__cat__dimreduction__cum_evr=0.25, dataprocess__num__num_poly__degree=1, dataprocess__num__pca__n_components=36;, score=-0.027 total time=   0.5s\n",
      "[CV 5/5] END Regmodel__max_features=sqrt, Regmodel__n_estimators=100, dataprocess__cat__dimreduction__cum_evr=0.25, dataprocess__num__num_poly__degree=1, dataprocess__num__pca__n_components=36;, score=-0.039 total time=   0.5s\n",
      "[CV 1/5] END Regmodel__max_features=sqrt, Regmodel__n_estimators=100, dataprocess__cat__dimreduction__cum_evr=0.25, dataprocess__num__num_poly__degree=2, dataprocess__num__pca__n_components=10;, score=-0.030 total time=   0.6s\n",
      "[CV 2/5] END Regmodel__max_features=sqrt, Regmodel__n_estimators=100, dataprocess__cat__dimreduction__cum_evr=0.25, dataprocess__num__num_poly__degree=2, dataprocess__num__pca__n_components=10;, score=-0.029 total time=   0.6s\n",
      "[CV 3/5] END Regmodel__max_features=sqrt, Regmodel__n_estimators=100, dataprocess__cat__dimreduction__cum_evr=0.25, dataprocess__num__num_poly__degree=2, dataprocess__num__pca__n_components=10;, score=-0.027 total time=   0.6s\n",
      "[CV 4/5] END Regmodel__max_features=sqrt, Regmodel__n_estimators=100, dataprocess__cat__dimreduction__cum_evr=0.25, dataprocess__num__num_poly__degree=2, dataprocess__num__pca__n_components=10;, score=-0.033 total time=   0.6s\n",
      "[CV 5/5] END Regmodel__max_features=sqrt, Regmodel__n_estimators=100, dataprocess__cat__dimreduction__cum_evr=0.25, dataprocess__num__num_poly__degree=2, dataprocess__num__pca__n_components=10;, score=-0.041 total time=   0.6s\n",
      "[CV 1/5] END Regmodel__max_features=sqrt, Regmodel__n_estimators=100, dataprocess__cat__dimreduction__cum_evr=0.25, dataprocess__num__num_poly__degree=2, dataprocess__num__pca__n_components=20;, score=-0.033 total time=   0.9s\n",
      "[CV 2/5] END Regmodel__max_features=sqrt, Regmodel__n_estimators=100, dataprocess__cat__dimreduction__cum_evr=0.25, dataprocess__num__num_poly__degree=2, dataprocess__num__pca__n_components=20;, score=-0.033 total time=   0.9s\n",
      "[CV 3/5] END Regmodel__max_features=sqrt, Regmodel__n_estimators=100, dataprocess__cat__dimreduction__cum_evr=0.25, dataprocess__num__num_poly__degree=2, dataprocess__num__pca__n_components=20;, score=-0.032 total time=   0.9s\n",
      "[CV 4/5] END Regmodel__max_features=sqrt, Regmodel__n_estimators=100, dataprocess__cat__dimreduction__cum_evr=0.25, dataprocess__num__num_poly__degree=2, dataprocess__num__pca__n_components=20;, score=-0.035 total time=   0.9s\n",
      "[CV 5/5] END Regmodel__max_features=sqrt, Regmodel__n_estimators=100, dataprocess__cat__dimreduction__cum_evr=0.25, dataprocess__num__num_poly__degree=2, dataprocess__num__pca__n_components=20;, score=-0.052 total time=   0.8s\n",
      "[CV 1/5] END Regmodel__max_features=sqrt, Regmodel__n_estimators=100, dataprocess__cat__dimreduction__cum_evr=0.25, dataprocess__num__num_poly__degree=2, dataprocess__num__pca__n_components=36;, score=-0.047 total time=   1.3s\n",
      "[CV 2/5] END Regmodel__max_features=sqrt, Regmodel__n_estimators=100, dataprocess__cat__dimreduction__cum_evr=0.25, dataprocess__num__num_poly__degree=2, dataprocess__num__pca__n_components=36;, score=-0.044 total time=   1.3s\n",
      "[CV 3/5] END Regmodel__max_features=sqrt, Regmodel__n_estimators=100, dataprocess__cat__dimreduction__cum_evr=0.25, dataprocess__num__num_poly__degree=2, dataprocess__num__pca__n_components=36;, score=-0.041 total time=   1.3s\n"
     ]
    },
    {
     "name": "stdout",
     "output_type": "stream",
     "text": [
      "[CV 4/5] END Regmodel__max_features=sqrt, Regmodel__n_estimators=100, dataprocess__cat__dimreduction__cum_evr=0.25, dataprocess__num__num_poly__degree=2, dataprocess__num__pca__n_components=36;, score=-0.041 total time=   1.3s\n",
      "[CV 5/5] END Regmodel__max_features=sqrt, Regmodel__n_estimators=100, dataprocess__cat__dimreduction__cum_evr=0.25, dataprocess__num__num_poly__degree=2, dataprocess__num__pca__n_components=36;, score=-0.063 total time=   1.3s\n",
      "[CV 1/5] END Regmodel__max_features=sqrt, Regmodel__n_estimators=100, dataprocess__cat__dimreduction__cum_evr=0.5, dataprocess__num__num_poly__degree=1, dataprocess__num__pca__n_components=10;, score=-0.023 total time=   0.4s\n",
      "[CV 2/5] END Regmodel__max_features=sqrt, Regmodel__n_estimators=100, dataprocess__cat__dimreduction__cum_evr=0.5, dataprocess__num__num_poly__degree=1, dataprocess__num__pca__n_components=10;, score=-0.023 total time=   0.5s\n",
      "[CV 3/5] END Regmodel__max_features=sqrt, Regmodel__n_estimators=100, dataprocess__cat__dimreduction__cum_evr=0.5, dataprocess__num__num_poly__degree=1, dataprocess__num__pca__n_components=10;, score=-0.026 total time=   0.5s\n",
      "[CV 4/5] END Regmodel__max_features=sqrt, Regmodel__n_estimators=100, dataprocess__cat__dimreduction__cum_evr=0.5, dataprocess__num__num_poly__degree=1, dataprocess__num__pca__n_components=10;, score=-0.029 total time=   0.5s\n",
      "[CV 5/5] END Regmodel__max_features=sqrt, Regmodel__n_estimators=100, dataprocess__cat__dimreduction__cum_evr=0.5, dataprocess__num__num_poly__degree=1, dataprocess__num__pca__n_components=10;, score=-0.037 total time=   0.5s\n",
      "[CV 1/5] END Regmodel__max_features=sqrt, Regmodel__n_estimators=100, dataprocess__cat__dimreduction__cum_evr=0.5, dataprocess__num__num_poly__degree=1, dataprocess__num__pca__n_components=20;, score=-0.024 total time=   0.5s\n",
      "[CV 2/5] END Regmodel__max_features=sqrt, Regmodel__n_estimators=100, dataprocess__cat__dimreduction__cum_evr=0.5, dataprocess__num__num_poly__degree=1, dataprocess__num__pca__n_components=20;, score=-0.025 total time=   0.5s\n",
      "[CV 3/5] END Regmodel__max_features=sqrt, Regmodel__n_estimators=100, dataprocess__cat__dimreduction__cum_evr=0.5, dataprocess__num__num_poly__degree=1, dataprocess__num__pca__n_components=20;, score=-0.027 total time=   0.5s\n",
      "[CV 4/5] END Regmodel__max_features=sqrt, Regmodel__n_estimators=100, dataprocess__cat__dimreduction__cum_evr=0.5, dataprocess__num__num_poly__degree=1, dataprocess__num__pca__n_components=20;, score=-0.029 total time=   0.5s\n",
      "[CV 5/5] END Regmodel__max_features=sqrt, Regmodel__n_estimators=100, dataprocess__cat__dimreduction__cum_evr=0.5, dataprocess__num__num_poly__degree=1, dataprocess__num__pca__n_components=20;, score=-0.039 total time=   0.5s\n",
      "[CV 1/5] END Regmodel__max_features=sqrt, Regmodel__n_estimators=100, dataprocess__cat__dimreduction__cum_evr=0.5, dataprocess__num__num_poly__degree=1, dataprocess__num__pca__n_components=36;, score=-0.023 total time=   0.6s\n",
      "[CV 2/5] END Regmodel__max_features=sqrt, Regmodel__n_estimators=100, dataprocess__cat__dimreduction__cum_evr=0.5, dataprocess__num__num_poly__degree=1, dataprocess__num__pca__n_components=36;, score=-0.026 total time=   0.6s\n",
      "[CV 3/5] END Regmodel__max_features=sqrt, Regmodel__n_estimators=100, dataprocess__cat__dimreduction__cum_evr=0.5, dataprocess__num__num_poly__degree=1, dataprocess__num__pca__n_components=36;, score=-0.026 total time=   0.6s\n",
      "[CV 4/5] END Regmodel__max_features=sqrt, Regmodel__n_estimators=100, dataprocess__cat__dimreduction__cum_evr=0.5, dataprocess__num__num_poly__degree=1, dataprocess__num__pca__n_components=36;, score=-0.030 total time=   0.6s\n",
      "[CV 5/5] END Regmodel__max_features=sqrt, Regmodel__n_estimators=100, dataprocess__cat__dimreduction__cum_evr=0.5, dataprocess__num__num_poly__degree=1, dataprocess__num__pca__n_components=36;, score=-0.040 total time=   0.6s\n",
      "[CV 1/5] END Regmodel__max_features=sqrt, Regmodel__n_estimators=100, dataprocess__cat__dimreduction__cum_evr=0.5, dataprocess__num__num_poly__degree=2, dataprocess__num__pca__n_components=10;, score=-0.028 total time=   0.6s\n",
      "[CV 2/5] END Regmodel__max_features=sqrt, Regmodel__n_estimators=100, dataprocess__cat__dimreduction__cum_evr=0.5, dataprocess__num__num_poly__degree=2, dataprocess__num__pca__n_components=10;, score=-0.029 total time=   0.6s\n",
      "[CV 3/5] END Regmodel__max_features=sqrt, Regmodel__n_estimators=100, dataprocess__cat__dimreduction__cum_evr=0.5, dataprocess__num__num_poly__degree=2, dataprocess__num__pca__n_components=10;, score=-0.028 total time=   0.6s\n",
      "[CV 4/5] END Regmodel__max_features=sqrt, Regmodel__n_estimators=100, dataprocess__cat__dimreduction__cum_evr=0.5, dataprocess__num__num_poly__degree=2, dataprocess__num__pca__n_components=10;, score=-0.033 total time=   0.6s\n",
      "[CV 5/5] END Regmodel__max_features=sqrt, Regmodel__n_estimators=100, dataprocess__cat__dimreduction__cum_evr=0.5, dataprocess__num__num_poly__degree=2, dataprocess__num__pca__n_components=10;, score=-0.043 total time=   0.6s\n",
      "[CV 1/5] END Regmodel__max_features=sqrt, Regmodel__n_estimators=100, dataprocess__cat__dimreduction__cum_evr=0.5, dataprocess__num__num_poly__degree=2, dataprocess__num__pca__n_components=20;, score=-0.032 total time=   0.9s\n",
      "[CV 2/5] END Regmodel__max_features=sqrt, Regmodel__n_estimators=100, dataprocess__cat__dimreduction__cum_evr=0.5, dataprocess__num__num_poly__degree=2, dataprocess__num__pca__n_components=20;, score=-0.031 total time=   0.9s\n",
      "[CV 3/5] END Regmodel__max_features=sqrt, Regmodel__n_estimators=100, dataprocess__cat__dimreduction__cum_evr=0.5, dataprocess__num__num_poly__degree=2, dataprocess__num__pca__n_components=20;, score=-0.032 total time=   0.9s\n",
      "[CV 4/5] END Regmodel__max_features=sqrt, Regmodel__n_estimators=100, dataprocess__cat__dimreduction__cum_evr=0.5, dataprocess__num__num_poly__degree=2, dataprocess__num__pca__n_components=20;, score=-0.037 total time=   0.9s\n",
      "[CV 5/5] END Regmodel__max_features=sqrt, Regmodel__n_estimators=100, dataprocess__cat__dimreduction__cum_evr=0.5, dataprocess__num__num_poly__degree=2, dataprocess__num__pca__n_components=20;, score=-0.046 total time=   0.9s\n",
      "[CV 1/5] END Regmodel__max_features=sqrt, Regmodel__n_estimators=100, dataprocess__cat__dimreduction__cum_evr=0.5, dataprocess__num__num_poly__degree=2, dataprocess__num__pca__n_components=36;, score=-0.044 total time=   1.3s\n",
      "[CV 2/5] END Regmodel__max_features=sqrt, Regmodel__n_estimators=100, dataprocess__cat__dimreduction__cum_evr=0.5, dataprocess__num__num_poly__degree=2, dataprocess__num__pca__n_components=36;, score=-0.047 total time=   1.3s\n",
      "[CV 3/5] END Regmodel__max_features=sqrt, Regmodel__n_estimators=100, dataprocess__cat__dimreduction__cum_evr=0.5, dataprocess__num__num_poly__degree=2, dataprocess__num__pca__n_components=36;, score=-0.041 total time=   1.4s\n",
      "[CV 4/5] END Regmodel__max_features=sqrt, Regmodel__n_estimators=100, dataprocess__cat__dimreduction__cum_evr=0.5, dataprocess__num__num_poly__degree=2, dataprocess__num__pca__n_components=36;, score=-0.044 total time=   1.3s\n",
      "[CV 5/5] END Regmodel__max_features=sqrt, Regmodel__n_estimators=100, dataprocess__cat__dimreduction__cum_evr=0.5, dataprocess__num__num_poly__degree=2, dataprocess__num__pca__n_components=36;, score=-0.063 total time=   1.4s\n",
      "[CV 1/5] END Regmodel__max_features=sqrt, Regmodel__n_estimators=100, dataprocess__cat__dimreduction__cum_evr=0.75, dataprocess__num__num_poly__degree=1, dataprocess__num__pca__n_components=10;, score=-0.025 total time=   0.5s\n",
      "[CV 2/5] END Regmodel__max_features=sqrt, Regmodel__n_estimators=100, dataprocess__cat__dimreduction__cum_evr=0.75, dataprocess__num__num_poly__degree=1, dataprocess__num__pca__n_components=10;, score=-0.027 total time=   0.5s\n",
      "[CV 3/5] END Regmodel__max_features=sqrt, Regmodel__n_estimators=100, dataprocess__cat__dimreduction__cum_evr=0.75, dataprocess__num__num_poly__degree=1, dataprocess__num__pca__n_components=10;, score=-0.028 total time=   0.6s\n",
      "[CV 4/5] END Regmodel__max_features=sqrt, Regmodel__n_estimators=100, dataprocess__cat__dimreduction__cum_evr=0.75, dataprocess__num__num_poly__degree=1, dataprocess__num__pca__n_components=10;, score=-0.033 total time=   0.6s\n",
      "[CV 5/5] END Regmodel__max_features=sqrt, Regmodel__n_estimators=100, dataprocess__cat__dimreduction__cum_evr=0.75, dataprocess__num__num_poly__degree=1, dataprocess__num__pca__n_components=10;, score=-0.041 total time=   0.6s\n"
     ]
    },
    {
     "name": "stdout",
     "output_type": "stream",
     "text": [
      "[CV 1/5] END Regmodel__max_features=sqrt, Regmodel__n_estimators=100, dataprocess__cat__dimreduction__cum_evr=0.75, dataprocess__num__num_poly__degree=1, dataprocess__num__pca__n_components=20;, score=-0.026 total time=   0.6s\n",
      "[CV 2/5] END Regmodel__max_features=sqrt, Regmodel__n_estimators=100, dataprocess__cat__dimreduction__cum_evr=0.75, dataprocess__num__num_poly__degree=1, dataprocess__num__pca__n_components=20;, score=-0.028 total time=   0.6s\n",
      "[CV 3/5] END Regmodel__max_features=sqrt, Regmodel__n_estimators=100, dataprocess__cat__dimreduction__cum_evr=0.75, dataprocess__num__num_poly__degree=1, dataprocess__num__pca__n_components=20;, score=-0.028 total time=   0.6s\n",
      "[CV 4/5] END Regmodel__max_features=sqrt, Regmodel__n_estimators=100, dataprocess__cat__dimreduction__cum_evr=0.75, dataprocess__num__num_poly__degree=1, dataprocess__num__pca__n_components=20;, score=-0.032 total time=   0.6s\n",
      "[CV 5/5] END Regmodel__max_features=sqrt, Regmodel__n_estimators=100, dataprocess__cat__dimreduction__cum_evr=0.75, dataprocess__num__num_poly__degree=1, dataprocess__num__pca__n_components=20;, score=-0.042 total time=   0.6s\n",
      "[CV 1/5] END Regmodel__max_features=sqrt, Regmodel__n_estimators=100, dataprocess__cat__dimreduction__cum_evr=0.75, dataprocess__num__num_poly__degree=1, dataprocess__num__pca__n_components=36;, score=-0.027 total time=   0.7s\n",
      "[CV 2/5] END Regmodel__max_features=sqrt, Regmodel__n_estimators=100, dataprocess__cat__dimreduction__cum_evr=0.75, dataprocess__num__num_poly__degree=1, dataprocess__num__pca__n_components=36;, score=-0.028 total time=   0.6s\n",
      "[CV 3/5] END Regmodel__max_features=sqrt, Regmodel__n_estimators=100, dataprocess__cat__dimreduction__cum_evr=0.75, dataprocess__num__num_poly__degree=1, dataprocess__num__pca__n_components=36;, score=-0.028 total time=   0.7s\n",
      "[CV 4/5] END Regmodel__max_features=sqrt, Regmodel__n_estimators=100, dataprocess__cat__dimreduction__cum_evr=0.75, dataprocess__num__num_poly__degree=1, dataprocess__num__pca__n_components=36;, score=-0.032 total time=   0.6s\n",
      "[CV 5/5] END Regmodel__max_features=sqrt, Regmodel__n_estimators=100, dataprocess__cat__dimreduction__cum_evr=0.75, dataprocess__num__num_poly__degree=1, dataprocess__num__pca__n_components=36;, score=-0.042 total time=   0.6s\n",
      "[CV 1/5] END Regmodel__max_features=sqrt, Regmodel__n_estimators=100, dataprocess__cat__dimreduction__cum_evr=0.75, dataprocess__num__num_poly__degree=2, dataprocess__num__pca__n_components=10;, score=-0.032 total time=   0.7s\n",
      "[CV 2/5] END Regmodel__max_features=sqrt, Regmodel__n_estimators=100, dataprocess__cat__dimreduction__cum_evr=0.75, dataprocess__num__num_poly__degree=2, dataprocess__num__pca__n_components=10;, score=-0.032 total time=   0.7s\n",
      "[CV 3/5] END Regmodel__max_features=sqrt, Regmodel__n_estimators=100, dataprocess__cat__dimreduction__cum_evr=0.75, dataprocess__num__num_poly__degree=2, dataprocess__num__pca__n_components=10;, score=-0.030 total time=   0.7s\n",
      "[CV 4/5] END Regmodel__max_features=sqrt, Regmodel__n_estimators=100, dataprocess__cat__dimreduction__cum_evr=0.75, dataprocess__num__num_poly__degree=2, dataprocess__num__pca__n_components=10;, score=-0.034 total time=   0.7s\n",
      "[CV 5/5] END Regmodel__max_features=sqrt, Regmodel__n_estimators=100, dataprocess__cat__dimreduction__cum_evr=0.75, dataprocess__num__num_poly__degree=2, dataprocess__num__pca__n_components=10;, score=-0.042 total time=   0.7s\n",
      "[CV 1/5] END Regmodel__max_features=sqrt, Regmodel__n_estimators=100, dataprocess__cat__dimreduction__cum_evr=0.75, dataprocess__num__num_poly__degree=2, dataprocess__num__pca__n_components=20;, score=-0.036 total time=   1.0s\n",
      "[CV 2/5] END Regmodel__max_features=sqrt, Regmodel__n_estimators=100, dataprocess__cat__dimreduction__cum_evr=0.75, dataprocess__num__num_poly__degree=2, dataprocess__num__pca__n_components=20;, score=-0.032 total time=   1.0s\n",
      "[CV 3/5] END Regmodel__max_features=sqrt, Regmodel__n_estimators=100, dataprocess__cat__dimreduction__cum_evr=0.75, dataprocess__num__num_poly__degree=2, dataprocess__num__pca__n_components=20;, score=-0.033 total time=   0.9s\n",
      "[CV 4/5] END Regmodel__max_features=sqrt, Regmodel__n_estimators=100, dataprocess__cat__dimreduction__cum_evr=0.75, dataprocess__num__num_poly__degree=2, dataprocess__num__pca__n_components=20;, score=-0.038 total time=   0.9s\n",
      "[CV 5/5] END Regmodel__max_features=sqrt, Regmodel__n_estimators=100, dataprocess__cat__dimreduction__cum_evr=0.75, dataprocess__num__num_poly__degree=2, dataprocess__num__pca__n_components=20;, score=-0.050 total time=   1.0s\n",
      "[CV 1/5] END Regmodel__max_features=sqrt, Regmodel__n_estimators=100, dataprocess__cat__dimreduction__cum_evr=0.75, dataprocess__num__num_poly__degree=2, dataprocess__num__pca__n_components=36;, score=-0.046 total time=   1.4s\n",
      "[CV 2/5] END Regmodel__max_features=sqrt, Regmodel__n_estimators=100, dataprocess__cat__dimreduction__cum_evr=0.75, dataprocess__num__num_poly__degree=2, dataprocess__num__pca__n_components=36;, score=-0.044 total time=   1.4s\n",
      "[CV 3/5] END Regmodel__max_features=sqrt, Regmodel__n_estimators=100, dataprocess__cat__dimreduction__cum_evr=0.75, dataprocess__num__num_poly__degree=2, dataprocess__num__pca__n_components=36;, score=-0.039 total time=   1.4s\n",
      "[CV 4/5] END Regmodel__max_features=sqrt, Regmodel__n_estimators=100, dataprocess__cat__dimreduction__cum_evr=0.75, dataprocess__num__num_poly__degree=2, dataprocess__num__pca__n_components=36;, score=-0.043 total time=   1.4s\n",
      "[CV 5/5] END Regmodel__max_features=sqrt, Regmodel__n_estimators=100, dataprocess__cat__dimreduction__cum_evr=0.75, dataprocess__num__num_poly__degree=2, dataprocess__num__pca__n_components=36;, score=-0.062 total time=   1.3s\n",
      "[CV 1/5] END Regmodel__max_features=sqrt, Regmodel__n_estimators=100, dataprocess__cat__dimreduction__cum_evr=0.98, dataprocess__num__num_poly__degree=1, dataprocess__num__pca__n_components=10;, score=-0.035 total time=   0.8s\n",
      "[CV 2/5] END Regmodel__max_features=sqrt, Regmodel__n_estimators=100, dataprocess__cat__dimreduction__cum_evr=0.98, dataprocess__num__num_poly__degree=1, dataprocess__num__pca__n_components=10;, score=-0.035 total time=   0.8s\n",
      "[CV 3/5] END Regmodel__max_features=sqrt, Regmodel__n_estimators=100, dataprocess__cat__dimreduction__cum_evr=0.98, dataprocess__num__num_poly__degree=1, dataprocess__num__pca__n_components=10;, score=-0.035 total time=   0.8s\n",
      "[CV 4/5] END Regmodel__max_features=sqrt, Regmodel__n_estimators=100, dataprocess__cat__dimreduction__cum_evr=0.98, dataprocess__num__num_poly__degree=1, dataprocess__num__pca__n_components=10;, score=-0.038 total time=   0.8s\n",
      "[CV 5/5] END Regmodel__max_features=sqrt, Regmodel__n_estimators=100, dataprocess__cat__dimreduction__cum_evr=0.98, dataprocess__num__num_poly__degree=1, dataprocess__num__pca__n_components=10;, score=-0.048 total time=   0.8s\n",
      "[CV 1/5] END Regmodel__max_features=sqrt, Regmodel__n_estimators=100, dataprocess__cat__dimreduction__cum_evr=0.98, dataprocess__num__num_poly__degree=1, dataprocess__num__pca__n_components=20;, score=-0.032 total time=   0.8s\n",
      "[CV 2/5] END Regmodel__max_features=sqrt, Regmodel__n_estimators=100, dataprocess__cat__dimreduction__cum_evr=0.98, dataprocess__num__num_poly__degree=1, dataprocess__num__pca__n_components=20;, score=-0.036 total time=   0.8s\n",
      "[CV 3/5] END Regmodel__max_features=sqrt, Regmodel__n_estimators=100, dataprocess__cat__dimreduction__cum_evr=0.98, dataprocess__num__num_poly__degree=1, dataprocess__num__pca__n_components=20;, score=-0.034 total time=   0.8s\n",
      "[CV 4/5] END Regmodel__max_features=sqrt, Regmodel__n_estimators=100, dataprocess__cat__dimreduction__cum_evr=0.98, dataprocess__num__num_poly__degree=1, dataprocess__num__pca__n_components=20;, score=-0.037 total time=   0.8s\n",
      "[CV 5/5] END Regmodel__max_features=sqrt, Regmodel__n_estimators=100, dataprocess__cat__dimreduction__cum_evr=0.98, dataprocess__num__num_poly__degree=1, dataprocess__num__pca__n_components=20;, score=-0.050 total time=   0.8s\n",
      "[CV 1/5] END Regmodel__max_features=sqrt, Regmodel__n_estimators=100, dataprocess__cat__dimreduction__cum_evr=0.98, dataprocess__num__num_poly__degree=1, dataprocess__num__pca__n_components=36;, score=-0.033 total time=   0.9s\n",
      "[CV 2/5] END Regmodel__max_features=sqrt, Regmodel__n_estimators=100, dataprocess__cat__dimreduction__cum_evr=0.98, dataprocess__num__num_poly__degree=1, dataprocess__num__pca__n_components=36;, score=-0.036 total time=   0.9s\n"
     ]
    },
    {
     "name": "stdout",
     "output_type": "stream",
     "text": [
      "[CV 3/5] END Regmodel__max_features=sqrt, Regmodel__n_estimators=100, dataprocess__cat__dimreduction__cum_evr=0.98, dataprocess__num__num_poly__degree=1, dataprocess__num__pca__n_components=36;, score=-0.033 total time=   0.8s\n",
      "[CV 4/5] END Regmodel__max_features=sqrt, Regmodel__n_estimators=100, dataprocess__cat__dimreduction__cum_evr=0.98, dataprocess__num__num_poly__degree=1, dataprocess__num__pca__n_components=36;, score=-0.035 total time=   0.9s\n",
      "[CV 5/5] END Regmodel__max_features=sqrt, Regmodel__n_estimators=100, dataprocess__cat__dimreduction__cum_evr=0.98, dataprocess__num__num_poly__degree=1, dataprocess__num__pca__n_components=36;, score=-0.050 total time=   0.9s\n",
      "[CV 1/5] END Regmodel__max_features=sqrt, Regmodel__n_estimators=100, dataprocess__cat__dimreduction__cum_evr=0.98, dataprocess__num__num_poly__degree=2, dataprocess__num__pca__n_components=10;, score=-0.034 total time=   0.9s\n",
      "[CV 2/5] END Regmodel__max_features=sqrt, Regmodel__n_estimators=100, dataprocess__cat__dimreduction__cum_evr=0.98, dataprocess__num__num_poly__degree=2, dataprocess__num__pca__n_components=10;, score=-0.033 total time=   0.9s\n",
      "[CV 3/5] END Regmodel__max_features=sqrt, Regmodel__n_estimators=100, dataprocess__cat__dimreduction__cum_evr=0.98, dataprocess__num__num_poly__degree=2, dataprocess__num__pca__n_components=10;, score=-0.031 total time=   0.9s\n",
      "[CV 4/5] END Regmodel__max_features=sqrt, Regmodel__n_estimators=100, dataprocess__cat__dimreduction__cum_evr=0.98, dataprocess__num__num_poly__degree=2, dataprocess__num__pca__n_components=10;, score=-0.037 total time=   0.9s\n",
      "[CV 5/5] END Regmodel__max_features=sqrt, Regmodel__n_estimators=100, dataprocess__cat__dimreduction__cum_evr=0.98, dataprocess__num__num_poly__degree=2, dataprocess__num__pca__n_components=10;, score=-0.045 total time=   0.9s\n",
      "[CV 1/5] END Regmodel__max_features=sqrt, Regmodel__n_estimators=100, dataprocess__cat__dimreduction__cum_evr=0.98, dataprocess__num__num_poly__degree=2, dataprocess__num__pca__n_components=20;, score=-0.036 total time=   1.1s\n",
      "[CV 2/5] END Regmodel__max_features=sqrt, Regmodel__n_estimators=100, dataprocess__cat__dimreduction__cum_evr=0.98, dataprocess__num__num_poly__degree=2, dataprocess__num__pca__n_components=20;, score=-0.035 total time=   1.1s\n",
      "[CV 3/5] END Regmodel__max_features=sqrt, Regmodel__n_estimators=100, dataprocess__cat__dimreduction__cum_evr=0.98, dataprocess__num__num_poly__degree=2, dataprocess__num__pca__n_components=20;, score=-0.034 total time=   1.1s\n",
      "[CV 4/5] END Regmodel__max_features=sqrt, Regmodel__n_estimators=100, dataprocess__cat__dimreduction__cum_evr=0.98, dataprocess__num__num_poly__degree=2, dataprocess__num__pca__n_components=20;, score=-0.038 total time=   1.1s\n",
      "[CV 5/5] END Regmodel__max_features=sqrt, Regmodel__n_estimators=100, dataprocess__cat__dimreduction__cum_evr=0.98, dataprocess__num__num_poly__degree=2, dataprocess__num__pca__n_components=20;, score=-0.051 total time=   1.1s\n",
      "[CV 1/5] END Regmodel__max_features=sqrt, Regmodel__n_estimators=100, dataprocess__cat__dimreduction__cum_evr=0.98, dataprocess__num__num_poly__degree=2, dataprocess__num__pca__n_components=36;, score=-0.046 total time=   1.5s\n",
      "[CV 2/5] END Regmodel__max_features=sqrt, Regmodel__n_estimators=100, dataprocess__cat__dimreduction__cum_evr=0.98, dataprocess__num__num_poly__degree=2, dataprocess__num__pca__n_components=36;, score=-0.048 total time=   1.5s\n",
      "[CV 3/5] END Regmodel__max_features=sqrt, Regmodel__n_estimators=100, dataprocess__cat__dimreduction__cum_evr=0.98, dataprocess__num__num_poly__degree=2, dataprocess__num__pca__n_components=36;, score=-0.042 total time=   1.5s\n",
      "[CV 4/5] END Regmodel__max_features=sqrt, Regmodel__n_estimators=100, dataprocess__cat__dimreduction__cum_evr=0.98, dataprocess__num__num_poly__degree=2, dataprocess__num__pca__n_components=36;, score=-0.046 total time=   1.5s\n",
      "[CV 5/5] END Regmodel__max_features=sqrt, Regmodel__n_estimators=100, dataprocess__cat__dimreduction__cum_evr=0.98, dataprocess__num__num_poly__degree=2, dataprocess__num__pca__n_components=36;, score=-0.067 total time=   1.5s\n",
      "1435.9464152990013\n"
     ]
    }
   ],
   "source": [
    "t1 = timeit.default_timer()\n",
    "\n",
    "grid_search = GridSearchCV(v2_data_to_model, param_grid=param_grid, cv=5,verbose=3,scoring=\"neg_mean_squared_error\")\n",
    "grid_search.fit(X_cp_train, Y_train)\n",
    "\n",
    "t2 = timeit.default_timer()\n",
    "\n",
    "print(t2-t1)  "
   ]
  },
  {
   "cell_type": "code",
   "execution_count": 120,
   "id": "c93a1973",
   "metadata": {},
   "outputs": [
    {
     "data": {
      "text/plain": [
       "{'Regmodel__max_features': 'auto',\n",
       " 'Regmodel__n_estimators': 100,\n",
       " 'dataprocess__cat__dimreduction__cum_evr': 0.5,\n",
       " 'dataprocess__num__num_poly__degree': 1,\n",
       " 'dataprocess__num__pca__n_components': 36}"
      ]
     },
     "execution_count": 120,
     "metadata": {},
     "output_type": "execute_result"
    }
   ],
   "source": [
    "grid_search.best_params_"
   ]
  },
  {
   "cell_type": "code",
   "execution_count": 123,
   "id": "cc697d91",
   "metadata": {},
   "outputs": [],
   "source": [
    "v2_model = grid_search.best_estimator_\n",
    "\n",
    "v2_Y_pred = v2_model.predict(kaggle_test_X)\n"
   ]
  },
  {
   "cell_type": "code",
   "execution_count": 124,
   "id": "6f061696",
   "metadata": {},
   "outputs": [
    {
     "name": "stdout",
     "output_type": "stream",
     "text": [
      "Your submission was successfully saved!\n"
     ]
    }
   ],
   "source": [
    "output = pd.DataFrame({'Id': kaggle_test_data.Id, 'SalePrice': np.exp(v2_Y_pred)})\n",
    "output.to_csv('kag_test_pred_v2.csv', index=False)\n",
    "print(\"Your submission was successfully saved!\")"
   ]
  },
  {
   "cell_type": "code",
   "execution_count": null,
   "id": "a5865b34",
   "metadata": {},
   "outputs": [],
   "source": []
  }
 ],
 "metadata": {
  "kernelspec": {
   "display_name": "Python 3 (ipykernel)",
   "language": "python",
   "name": "python3"
  },
  "language_info": {
   "codemirror_mode": {
    "name": "ipython",
    "version": 3
   },
   "file_extension": ".py",
   "mimetype": "text/x-python",
   "name": "python",
   "nbconvert_exporter": "python",
   "pygments_lexer": "ipython3",
   "version": "3.8.2"
  }
 },
 "nbformat": 4,
 "nbformat_minor": 5
}
